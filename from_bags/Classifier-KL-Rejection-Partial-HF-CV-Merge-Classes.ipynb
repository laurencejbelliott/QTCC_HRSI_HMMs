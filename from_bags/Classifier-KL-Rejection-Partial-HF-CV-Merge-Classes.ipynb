{
 "cells": [
  {
   "cell_type": "code",
   "execution_count": 4,
   "metadata": {},
   "outputs": [],
   "source": [
    "import numpy as np\n",
    "import pandas as pd\n",
    "import matplotlib\n",
    "import matplotlib.pyplot as plt\n",
    "import seaborn as sn\n",
    "import pickle, math, datetime\n",
    "from pprint import pformat\n",
    "from graphviz import Digraph\n",
    "from itertools import combinations, permutations\n",
    "from scipy.interpolate import interp1d\n",
    "from sklearn.model_selection import train_test_split\n",
    "from sklearn.model_selection import KFold\n",
    "from sklearn.metrics import confusion_matrix\n",
    "from confusion_matrix_pretty_print import pretty_plot_confusion_matrix\n",
    "from scipy.stats import entropy\n",
    "\n",
    "import hmms\n",
    "import os\n",
    "import math"
   ]
  },
  {
   "cell_type": "code",
   "execution_count": 69,
   "metadata": {},
   "outputs": [],
   "source": [
    "# Configuration parameters\n",
    "K = 3\n",
    "# Higher results in more rejections\n",
    "rejection_KL_thresh = 0.01\n",
    "N_nodes = 81\n",
    "random_state = 2\n",
    "# rejection_negative_bias = 2\n",
    "# pbl_negative_bias = 0\n",
    "# pbr_negative_bias = 2\n",
    "# rotl_negative_bias = 4\n",
    "# rotr_negative_bias = 3\n",
    "# pc_negative_bias = 0\n",
    "rejection_negative_bias = 0\n",
    "pbl_negative_bias = 0\n",
    "pbr_negative_bias = 0\n",
    "rotl_negative_bias = 0\n",
    "rotr_negative_bias = 0\n",
    "pcl_negative_bias = 0\n",
    "pcr_negative_bias = 0\n",
    "\n",
    "rejections_trained = False\n",
    "# baum_welch = True\n",
    "# bw_epochs = 10\n",
    "\n",
    "# Observation matrix params\n",
    "prob_emission_equals_hidden = 0.95\n",
    "\n",
    "prob_emission_not_equals_hidden = 1 - prob_emission_equals_hidden\n",
    "\n",
    "#Trans prob matrix params\n",
    "trans_prob_factor = 100\n",
    "rejection_trans_prob_factor = 1\n",
    "\n",
    "#Init prob matrix params\n",
    "init_prob_factor = 100\n",
    "rejection_init_prob_factor = 1\n",
    "\n",
    "classes = [\"PBL\", \"PBR\", \"ROTL\", \"ROTR\", \"PCL\", \"PCR\"]\n",
    "binary_classes = [\"BL\", \"BR\"]"
   ]
  },
  {
   "cell_type": "markdown",
   "metadata": {},
   "source": [
    "## Load QTC_C sequences (participants interacting in lab study)"
   ]
  },
  {
   "cell_type": "code",
   "execution_count": 6,
   "metadata": {},
   "outputs": [
    {
     "name": "stdout",
     "output_type": "stream",
     "text": [
      "pbr\n",
      "pcr\n",
      "rotr\n",
      "u\n",
      "rotl\n",
      "pcl\n",
      "pbl\n"
     ]
    }
   ],
   "source": [
    "rotl_study_seqs = []\n",
    "rotr_study_seqs = []\n",
    "pb_l_study_seqs = []\n",
    "pb_r_study_seqs = []\n",
    "pcl_study_seqs = []\n",
    "pcr_study_seqs = []\n",
    "u_study_seqs = []\n",
    "u_study_seqs_no_train = []\n",
    "\n",
    "with open(\"hf_study_qtc_seqs.pickle\", \"rb\") as f:\n",
    "    study_seqs = pickle.load(f)\n",
    "study_seqs\n",
    "\n",
    "len(study_seqs)\n",
    "\n",
    "for key in study_seqs.keys():\n",
    "    class_code = key.split(\"_\")[0]\n",
    "    print(class_code)\n",
    "    \n",
    "    if \"rotl\" in key:\n",
    "        rotl_study_seqs = study_seqs[key]\n",
    "    elif \"rotr\" in key:\n",
    "        rotr_study_seqs = study_seqs[key]\n",
    "    elif \"pb\" in class_code:\n",
    "        if class_code[-1] == \"l\":\n",
    "            pb_l_study_seqs = study_seqs[key]\n",
    "        elif class_code[-1] == \"r\":\n",
    "            pb_r_study_seqs = study_seqs[key]\n",
    "    elif \"pcl\" in key:\n",
    "        pcl_study_seqs = study_seqs[key]\n",
    "    elif \"pcr\" in key:\n",
    "        pcr_study_seqs = study_seqs[key]\n",
    "    elif \"u\" in key:\n",
    "        u_study_seqs = study_seqs[key]"
   ]
  },
  {
   "cell_type": "code",
   "execution_count": 7,
   "metadata": {},
   "outputs": [
    {
     "name": "stdout",
     "output_type": "stream",
     "text": [
      "45\n",
      "23\n",
      "29\n",
      "26\n",
      "36\n",
      "20\n",
      "23\n"
     ]
    }
   ],
   "source": [
    "print(len(rotl_study_seqs))\n",
    "print(len(rotr_study_seqs))\n",
    "print(len(pb_l_study_seqs))\n",
    "print(len(pb_r_study_seqs))\n",
    "print(len(pcl_study_seqs))\n",
    "print(len(pcr_study_seqs))\n",
    "print(len(u_study_seqs))"
   ]
  },
  {
   "cell_type": "markdown",
   "metadata": {},
   "source": [
    "## Load QTC_C sequences (expert interacting in lab)"
   ]
  },
  {
   "cell_type": "code",
   "execution_count": 8,
   "metadata": {},
   "outputs": [],
   "source": [
    "# with open(\"hf_expert_qtc_seqs.pickle\", \"rb\") as f:\n",
    "#     study_seqs = pickle.load(f)\n",
    "# study_seqs\n",
    "\n",
    "# len(study_seqs)\n",
    "\n",
    "# for key in study_seqs.keys():\n",
    "#     class_code = key.split(\"_\")[0]\n",
    "#     print(class_code)\n",
    "    \n",
    "#     if \"rotl\" in key:\n",
    "#         rotl_study_seqs += study_seqs[key]\n",
    "#     elif \"rotr\" in key:\n",
    "#         rotr_study_seqs += study_seqs[key]\n",
    "#     elif \"pb\" in class_code:\n",
    "#         if class_code[-1] == \"l\":\n",
    "#             pb_l_study_seqs += study_seqs[key]\n",
    "#         elif class_code[-1] == \"r\":\n",
    "#             pb_r_study_seqs += study_seqs[key]\n",
    "#     elif \"pcl\" in key:\n",
    "#         pcl_study_seqs += study_seqs[key]\n",
    "#     elif \"pcr\" in key:\n",
    "#         pcr_study_seqs += study_seqs[key]\n",
    "#     elif \"u\" in key:\n",
    "#         u_study_seqs += study_seqs[key]"
   ]
  },
  {
   "cell_type": "code",
   "execution_count": 9,
   "metadata": {},
   "outputs": [
    {
     "name": "stdout",
     "output_type": "stream",
     "text": [
      "45\n",
      "23\n",
      "29\n",
      "26\n",
      "36\n",
      "20\n",
      "23\n"
     ]
    }
   ],
   "source": [
    "print(len(rotl_study_seqs))\n",
    "print(len(rotr_study_seqs))\n",
    "print(len(pb_l_study_seqs))\n",
    "print(len(pb_r_study_seqs))\n",
    "print(len(pcl_study_seqs))\n",
    "print(len(pcr_study_seqs))\n",
    "print(len(u_study_seqs))"
   ]
  },
  {
   "cell_type": "code",
   "execution_count": 10,
   "metadata": {},
   "outputs": [],
   "source": [
    "rotl_study_seqs = [[state.replace(\",\", \"\") for state in seq] for seq in rotl_study_seqs]\n",
    "rotr_study_seqs = [[state.replace(\",\", \"\") for state in seq] for seq in rotr_study_seqs]\n",
    "pb_l_study_seqs = [[state.replace(\",\", \"\") for state in seq] for seq in pb_l_study_seqs]\n",
    "pb_r_study_seqs = [[state.replace(\",\", \"\") for state in seq] for seq in pb_r_study_seqs]\n",
    "pcl_study_seqs = [[state.replace(\",\", \"\") for state in seq] for seq in pcl_study_seqs]\n",
    "pcr_study_seqs = [[state.replace(\",\", \"\") for state in seq] for seq in pcr_study_seqs]\n",
    "u_study_seqs = [[state.replace(\",\", \"\") for state in seq] for seq in u_study_seqs]"
   ]
  },
  {
   "cell_type": "code",
   "execution_count": 11,
   "metadata": {
    "scrolled": true
   },
   "outputs": [
    {
     "name": "stdout",
     "output_type": "stream",
     "text": [
      "QTC symbols: ['-', '0', '+']\n",
      "QTC_C states:\n",
      " ['++++', '+++-', '+++0', '++-+', '++--', '++-0', '++0+', '++0-', '++00', '+-++', '+-+-', '+-+0', '+--+', '+---', '+--0', '+-0+', '+-0-', '+-00', '+0++', '+0+-', '+0+0', '+0-+', '+0--', '+0-0', '+00+', '+00-', '+000', '-+++', '-++-', '-++0', '-+-+', '-+--', '-+-0', '-+0+', '-+0-', '-+00', '--++', '--+-', '--+0', '---+', '----', '---0', '--0+', '--0-', '--00', '-0++', '-0+-', '-0+0', '-0-+', '-0--', '-0-0', '-00+', '-00-', '-000', '0+++', '0++-', '0++0', '0+-+', '0+--', '0+-0', '0+0+', '0+0-', '0+00', '0-++', '0-+-', '0-+0', '0--+', '0---', '0--0', '0-0+', '0-0-', '0-00', '00++', '00+-', '00+0', '00-+', '00--', '00-0', '000+', '000-', '0000']\n",
      "81 states total\n"
     ]
    }
   ],
   "source": [
    "# Create list of QTC_C states so that indices can be used as integer state IDs compatible with HMM library\n",
    "QTC_symbols = []\n",
    "for i in range(0,4):\n",
    "    QTC_symbols.append(\"-\")\n",
    "    QTC_symbols.append(\"0\")\n",
    "    QTC_symbols.append(\"+\")\n",
    "print(\"QTC symbols:\", QTC_symbols[:3])\n",
    "QTC_C_states = list(combinations(QTC_symbols, 4))\n",
    "QTC_C_states = [state[0] + state[1] + state[2] + state[3] for state in QTC_C_states]\n",
    "QTC_C_states = list(np.unique(QTC_C_states))\n",
    "print(\"QTC_C states:\\n\", QTC_C_states)\n",
    "print(len(QTC_C_states), \"states total\")"
   ]
  },
  {
   "cell_type": "code",
   "execution_count": 12,
   "metadata": {},
   "outputs": [
    {
     "name": "stdout",
     "output_type": "stream",
     "text": [
      "4\n",
      "++00\n",
      "['++++', '+++-', '+++0', '++-+']\n",
      "[0, 1, 2, 3]\n"
     ]
    }
   ],
   "source": [
    "def QTC_C_to_num(QTC_C):\n",
    "    return QTC_C_states.index(QTC_C)\n",
    "\n",
    "\n",
    "def QTC_C_seq_to_num_seq(QTC_C_seq):\n",
    "    num_seq = []\n",
    "    for QTC_C in QTC_C_seq:\n",
    "        num_seq.append(QTC_C_to_num(QTC_C))\n",
    "\n",
    "    return num_seq\n",
    "\n",
    "\n",
    "def num_to_QTC_C(num):\n",
    "    return QTC_C_states[num]\n",
    "\n",
    "\n",
    "def num_seq_to_QTC_C_seq(num_seq):\n",
    "    QTC_C_seq = []\n",
    "    for num in num_seq:\n",
    "        QTC_C_seq.append(num_to_QTC_C(num))\n",
    "\n",
    "    return QTC_C_seq\n",
    "\n",
    "\n",
    "print(QTC_C_to_num(\"++--\"))\n",
    "print(num_to_QTC_C(8))\n",
    "print(num_seq_to_QTC_C_seq([0, 1, 2, 3]))\n",
    "print(QTC_C_seq_to_num_seq(num_seq_to_QTC_C_seq([0, 1, 2, 3])))"
   ]
  },
  {
   "cell_type": "code",
   "execution_count": 13,
   "metadata": {},
   "outputs": [
    {
     "name": "stdout",
     "output_type": "stream",
     "text": [
      "\n",
      " [[0.01234568 0.01234568 0.01234568 ... 0.01234568 0.01234568 0.01234568]\n",
      " [0.01234568 0.01234568 0.01234568 ... 0.01234568 0.01234568 0.01234568]\n",
      " [0.01234568 0.01234568 0.01234568 ... 0.01234568 0.01234568 0.01234568]\n",
      " ...\n",
      " [0.01234568 0.01234568 0.01234568 ... 0.01234568 0.01234568 0.01234568]\n",
      " [0.01234568 0.01234568 0.01234568 ... 0.01234568 0.01234568 0.01234568]\n",
      " [0.01234568 0.01234568 0.01234568 ... 0.01234568 0.01234568 0.01234568]]\n",
      "1.0\n"
     ]
    }
   ],
   "source": [
    "# Defining a uniform transition matrix of N_nodes states\n",
    "uniform_trans_mat = np.zeros((N_nodes, N_nodes))\n",
    "uniform_trans_mat = np.array([[1/N_nodes for trans in row] for row in uniform_trans_mat])\n",
    "print(\"\\n\", uniform_trans_mat)\n",
    "row_sums = []\n",
    "for row in uniform_trans_mat:\n",
    "    row_sums.append(np.sum(row))\n",
    "print(np.mean(row_sums))"
   ]
  },
  {
   "cell_type": "code",
   "execution_count": 14,
   "metadata": {},
   "outputs": [],
   "source": [
    "def draw_transition_matrix(trans_matrix, filename, min_trans_prob):\n",
    "    # draw its transition matrix\n",
    "    dot = Digraph(comment='HMM model')\n",
    "    col, row = trans_matrix.shape\n",
    "    for i in range(0, col):\n",
    "        for j in range(0, row):\n",
    "#             print(i, j, trans_matrix[i, j])\n",
    "            if trans_matrix[i, j] >= min_trans_prob:\n",
    "#                 print(i, j, \"is a high probability transition\")\n",
    "                dot.edge(num_to_QTC_C(i), num_to_QTC_C(j), label='{:2.2f}'.format(trans_matrix[i, j]))\n",
    "\n",
    "    dot.render(filename, view=True)"
   ]
  },
  {
   "cell_type": "markdown",
   "metadata": {},
   "source": [
    "## Creating pass-by left HMM"
   ]
  },
  {
   "cell_type": "code",
   "execution_count": 15,
   "metadata": {},
   "outputs": [],
   "source": [
    "pass_by_l_seqs = pb_l_study_seqs"
   ]
  },
  {
   "cell_type": "code",
   "execution_count": 16,
   "metadata": {},
   "outputs": [
    {
     "name": "stdout",
     "output_type": "stream",
     "text": [
      "[[37], [37, 40], [37, 40, 4], [16], [16, 13], [16, 13, 40], [16, 13, 40, 4], [40], [40, 10], [40, 10, 4], [37], [37, 27], [37, 27, 4], [40], [40, 4], [40, 4, 31], [40, 4, 31, 27], [40], [40, 4], [40, 4, 31], [40], [40, 4], [40], [40, 4], [37], [37, 27], [37, 27, 40], [37, 27, 40, 4], [40]]\n"
     ]
    },
    {
     "data": {
      "text/plain": [
       "[['--+-'],\n",
       " ['--+-', '----'],\n",
       " ['--+-', '----', '++--'],\n",
       " ['+-0-'],\n",
       " ['+-0-', '+---'],\n",
       " ['+-0-', '+---', '----'],\n",
       " ['+-0-', '+---', '----', '++--'],\n",
       " ['----'],\n",
       " ['----', '+-+-'],\n",
       " ['----', '+-+-', '++--'],\n",
       " ['--+-'],\n",
       " ['--+-', '-+++'],\n",
       " ['--+-', '-+++', '++--'],\n",
       " ['----'],\n",
       " ['----', '++--'],\n",
       " ['----', '++--', '-+--'],\n",
       " ['----', '++--', '-+--', '-+++'],\n",
       " ['----'],\n",
       " ['----', '++--'],\n",
       " ['----', '++--', '-+--'],\n",
       " ['----'],\n",
       " ['----', '++--'],\n",
       " ['----'],\n",
       " ['----', '++--'],\n",
       " ['--+-'],\n",
       " ['--+-', '-+++'],\n",
       " ['--+-', '-+++', '----'],\n",
       " ['--+-', '-+++', '----', '++--'],\n",
       " ['----']]"
      ]
     },
     "execution_count": 16,
     "metadata": {},
     "output_type": "execute_result"
    }
   ],
   "source": [
    "pass_by_l_seqs = [list(map(QTC_C_to_num, seq)) for seq in pass_by_l_seqs]\n",
    "print(pass_by_l_seqs)\n",
    "[list(map(num_to_QTC_C, seq)) for seq in pass_by_l_seqs]"
   ]
  },
  {
   "cell_type": "code",
   "execution_count": 17,
   "metadata": {},
   "outputs": [
    {
     "name": "stdout",
     "output_type": "stream",
     "text": [
      "(81, 81)\n",
      "0\n",
      "0\n",
      "1\n",
      "0\n",
      "0\n",
      "1\n",
      "0\n",
      "1\n",
      "2\n",
      "0\n",
      "0\n",
      "1\n",
      "0\n",
      "0\n",
      "1\n",
      "0\n",
      "0\n",
      "1\n",
      "0\n",
      "1\n",
      "2\n",
      "0\n",
      "0\n",
      "1\n",
      "0\n",
      "0\n",
      "0\n",
      "0\n",
      "1\n",
      "0\n",
      "1\n",
      "2\n",
      "[1. 1. 1. 1. 1. 1. 1. 1. 1. 1. 1. 1. 1. 1. 1. 1. 1. 1. 1. 1. 1. 1. 1. 1.\n",
      " 1. 1. 1. 1. 1. 1. 1. 1. 1. 1. 1. 1. 1. 1. 1. 1. 1. 1. 1. 1. 1. 1. 1. 1.\n",
      " 1. 1. 1. 1. 1. 1. 1. 1. 1. 1. 1. 1. 1. 1. 1. 1. 1. 1. 1. 1. 1. 1. 1. 1.\n",
      " 1. 1. 1. 1. 1. 1. 1. 1. 1.]\n",
      "[[0.01234568 0.01234568 0.01234568 ... 0.01234568 0.01234568 0.01234568]\n",
      " [0.01234568 0.01234568 0.01234568 ... 0.01234568 0.01234568 0.01234568]\n",
      " [0.01234568 0.01234568 0.01234568 ... 0.01234568 0.01234568 0.01234568]\n",
      " ...\n",
      " [0.01234568 0.01234568 0.01234568 ... 0.01234568 0.01234568 0.01234568]\n",
      " [0.01234568 0.01234568 0.01234568 ... 0.01234568 0.01234568 0.01234568]\n",
      " [0.01234568 0.01234568 0.01234568 ... 0.01234568 0.01234568 0.01234568]]\n"
     ]
    }
   ],
   "source": [
    "# Create transition matrix from handwritten examples of pass-by QTC-B sequences\n",
    "# Defining a graph of N_nodes states\n",
    "# Give low prob. to transitions not present in e.g.s\n",
    "A = np.ones((N_nodes, N_nodes))\n",
    "print(A.shape)\n",
    "\n",
    "# Give frequency based probs to e.g. transitions\n",
    "for seq in pass_by_l_seqs:\n",
    "    for i in range(0, len(seq) - 1):\n",
    "        print(i)\n",
    "        A[seq[i], seq[i + 1]] += trans_prob_factor\n",
    "\n",
    "# normalise A (make sure probs sum up to 1)\n",
    "row_sums = A.sum(axis=1)\n",
    "A = A / row_sums[:, np.newaxis]\n",
    "\n",
    "# summing all column of transition matrix\n",
    "rs = np.sum(A, 1)\n",
    "print(rs)\n",
    "print(A)"
   ]
  },
  {
   "cell_type": "code",
   "execution_count": 18,
   "metadata": {},
   "outputs": [
    {
     "name": "stdout",
     "output_type": "stream",
     "text": [
      "A:\n",
      " [[0.01234568 0.01234568 0.01234568 ... 0.01234568 0.01234568 0.01234568]\n",
      " [0.01234568 0.01234568 0.01234568 ... 0.01234568 0.01234568 0.01234568]\n",
      " [0.01234568 0.01234568 0.01234568 ... 0.01234568 0.01234568 0.01234568]\n",
      " ...\n",
      " [0.01234568 0.01234568 0.01234568 ... 0.01234568 0.01234568 0.01234568]\n",
      " [0.01234568 0.01234568 0.01234568 ... 0.01234568 0.01234568 0.01234568]\n",
      " [0.01234568 0.01234568 0.01234568 ... 0.01234568 0.01234568 0.01234568]]\n",
      "1.0\n",
      "B:\n",
      " [[9.50617284e-01 6.17283951e-04 6.17283951e-04 ... 6.17283951e-04\n",
      "  6.17283951e-04 6.17283951e-04]\n",
      " [6.17283951e-04 9.50617284e-01 6.17283951e-04 ... 6.17283951e-04\n",
      "  6.17283951e-04 6.17283951e-04]\n",
      " [6.17283951e-04 6.17283951e-04 9.50617284e-01 ... 6.17283951e-04\n",
      "  6.17283951e-04 6.17283951e-04]\n",
      " ...\n",
      " [6.17283951e-04 6.17283951e-04 6.17283951e-04 ... 9.50617284e-01\n",
      "  6.17283951e-04 6.17283951e-04]\n",
      " [6.17283951e-04 6.17283951e-04 6.17283951e-04 ... 6.17283951e-04\n",
      "  9.50617284e-01 6.17283951e-04]\n",
      " [6.17283951e-04 6.17283951e-04 6.17283951e-04 ... 6.17283951e-04\n",
      "  6.17283951e-04 9.50617284e-01]]\n",
      "1.0\n",
      "Pi:\n",
      " [3.35457900e-04 3.35457900e-04 3.35457900e-04 3.35457900e-04\n",
      " 3.35457900e-04 3.35457900e-04 3.35457900e-04 3.35457900e-04\n",
      " 3.35457900e-04 3.35457900e-04 3.35457900e-04 3.35457900e-04\n",
      " 3.35457900e-04 3.35457900e-04 3.35457900e-04 3.35457900e-04\n",
      " 1.34518618e-01 3.35457900e-04 3.35457900e-04 3.35457900e-04\n",
      " 3.35457900e-04 3.35457900e-04 3.35457900e-04 3.35457900e-04\n",
      " 3.35457900e-04 3.35457900e-04 3.35457900e-04 3.35457900e-04\n",
      " 3.35457900e-04 3.35457900e-04 3.35457900e-04 3.35457900e-04\n",
      " 3.35457900e-04 3.35457900e-04 3.35457900e-04 3.35457900e-04\n",
      " 3.35457900e-04 3.35793358e-01 3.35457900e-04 3.35457900e-04\n",
      " 5.03522308e-01 3.35457900e-04 3.35457900e-04 3.35457900e-04\n",
      " 3.35457900e-04 3.35457900e-04 3.35457900e-04 3.35457900e-04\n",
      " 3.35457900e-04 3.35457900e-04 3.35457900e-04 3.35457900e-04\n",
      " 3.35457900e-04 3.35457900e-04 3.35457900e-04 3.35457900e-04\n",
      " 3.35457900e-04 3.35457900e-04 3.35457900e-04 3.35457900e-04\n",
      " 3.35457900e-04 3.35457900e-04 3.35457900e-04 3.35457900e-04\n",
      " 3.35457900e-04 3.35457900e-04 3.35457900e-04 3.35457900e-04\n",
      " 3.35457900e-04 3.35457900e-04 3.35457900e-04 3.35457900e-04\n",
      " 3.35457900e-04 3.35457900e-04 3.35457900e-04 3.35457900e-04\n",
      " 3.35457900e-04 3.35457900e-04 3.35457900e-04 3.35457900e-04\n",
      " 3.35457900e-04]\n",
      "0.9999999999999999\n"
     ]
    }
   ],
   "source": [
    "# creating observation matrix, assuming each states has ~90% prob to emit the state itself as observation\n",
    "# (.1 / N_nodes) for all observations for numerical stability\n",
    "B = (np.ones(N_nodes) * (prob_emission_not_equals_hidden / N_nodes)) + (np.eye(N_nodes) * \n",
    "                                                                        prob_emission_equals_hidden)\n",
    "# B = np.eye(N_nodes)\n",
    "\n",
    "# normalise B (make sure probs sum up to 1)\n",
    "row_sums = B.sum(axis=1)\n",
    "B = B / row_sums[:, np.newaxis]\n",
    "B_row_sums = []\n",
    "for row in B:\n",
    "    B_row_sums.append(row.sum())\n",
    "\n",
    "# Pi is the vector of initial state probabilities. Using distribution present in pass-by e.g.s\n",
    "# (We may make a stronger assumption here at some point)\n",
    "Pi = (np.ones((1, N_nodes)))[0]\n",
    "for seq in pass_by_l_seqs:\n",
    "    Pi[seq[0]] += init_prob_factor\n",
    "\n",
    "# normalise Pi (make sure probs sum up to 1)\n",
    "row_sums = Pi.sum()\n",
    "Pi = Pi / row_sums\n",
    "\n",
    "# print(Pi)\n",
    "# print(Pi.sum())\n",
    "\n",
    "# Create HMM using the pass-by e.g. parameters\n",
    "pblHMM = hmms.DtHMM(A, B, Pi)\n",
    "\n",
    "# Check pblHMM params\n",
    "A, B, Pi = pblHMM.params\n",
    "print(\"A:\\n\", A)\n",
    "A_row_sums = []\n",
    "for row in A:\n",
    "    A_row_sums.append(row.sum())\n",
    "print(np.mean(A_row_sums))\n",
    "print(\"B:\\n\", B)\n",
    "B_row_sums = []\n",
    "for row in B:\n",
    "    B_row_sums.append(row.sum())\n",
    "print(np.mean(B_row_sums))\n",
    "print(\"Pi:\\n\", Pi)\n",
    "print(Pi.sum())"
   ]
  },
  {
   "cell_type": "code",
   "execution_count": 19,
   "metadata": {},
   "outputs": [],
   "source": [
    "# draw_transition_matrix(A,\"QTC_C_Pass-By-Left_Lab_Egs_Transitions\", 0.013)"
   ]
  },
  {
   "cell_type": "code",
   "execution_count": 20,
   "metadata": {
    "scrolled": true
   },
   "outputs": [
    {
     "name": "stdout",
     "output_type": "stream",
     "text": [
      "Pass-by left HMM:\n"
     ]
    },
    {
     "data": {
      "image/png": "[encoded data removed]",
      "text/plain": [
       "<Figure size 1440x1440 with 1 Axes>"
      ]
     },
     "metadata": {},
     "output_type": "display_data"
    },
    {
     "name": "stdout",
     "output_type": "stream",
     "text": [
      "['----', '++--', '-+--', '-+++', '----', '++--']\n"
     ]
    }
   ],
   "source": [
    "# sample a random sequence from the model (for testing and generation)\n",
    "# sample uniformly\n",
    "s_seq, e_seq = pblHMM.generate(6)\n",
    "\n",
    "# resize plot\n",
    "plt.rcParams['figure.figsize'] = [20, 20]\n",
    "\n",
    "print(\"Pass-by left HMM:\")\n",
    "hmms.plot_hmm(s_seq, e_seq)\n",
    "s_seq_QTC_C_map = map(num_to_QTC_C, s_seq)\n",
    "print(list(s_seq_QTC_C_map))\n"
   ]
  },
  {
   "cell_type": "markdown",
   "metadata": {},
   "source": [
    "## Creating pass-by right HMM"
   ]
  },
  {
   "cell_type": "code",
   "execution_count": 21,
   "metadata": {},
   "outputs": [],
   "source": [
    "pass_by_r_seqs = pb_r_study_seqs"
   ]
  },
  {
   "cell_type": "code",
   "execution_count": 22,
   "metadata": {},
   "outputs": [
    {
     "name": "stdout",
     "output_type": "stream",
     "text": [
      "[[36], [36, 0], [36], [36, 27], [36], [36, 0], [36], [36, 45], [38], [38, 36], [38, 36, 27], [36], [36, 27], [36, 27, 36], [36, 27, 36, 0], [36], [36], [36, 27], [36, 27, 31], [36], [36, 30], [36, 30, 36], [36, 30, 36, 0], [38], [38, 36], [38, 36, 27]]\n"
     ]
    },
    {
     "data": {
      "text/plain": [
       "[['--++'],\n",
       " ['--++', '++++'],\n",
       " ['--++'],\n",
       " ['--++', '-+++'],\n",
       " ['--++'],\n",
       " ['--++', '++++'],\n",
       " ['--++'],\n",
       " ['--++', '-0++'],\n",
       " ['--+0'],\n",
       " ['--+0', '--++'],\n",
       " ['--+0', '--++', '-+++'],\n",
       " ['--++'],\n",
       " ['--++', '-+++'],\n",
       " ['--++', '-+++', '--++'],\n",
       " ['--++', '-+++', '--++', '++++'],\n",
       " ['--++'],\n",
       " ['--++'],\n",
       " ['--++', '-+++'],\n",
       " ['--++', '-+++', '-+--'],\n",
       " ['--++'],\n",
       " ['--++', '-+-+'],\n",
       " ['--++', '-+-+', '--++'],\n",
       " ['--++', '-+-+', '--++', '++++'],\n",
       " ['--+0'],\n",
       " ['--+0', '--++'],\n",
       " ['--+0', '--++', '-+++']]"
      ]
     },
     "execution_count": 22,
     "metadata": {},
     "output_type": "execute_result"
    }
   ],
   "source": [
    "pass_by_r_seqs = [list(map(QTC_C_to_num, seq)) for seq in pass_by_r_seqs]\n",
    "print(pass_by_r_seqs)\n",
    "[list(map(num_to_QTC_C, seq)) for seq in pass_by_r_seqs]"
   ]
  },
  {
   "cell_type": "code",
   "execution_count": 23,
   "metadata": {},
   "outputs": [
    {
     "name": "stdout",
     "output_type": "stream",
     "text": [
      "(81, 81)\n",
      "0\n",
      "0\n",
      "0\n",
      "0\n",
      "0\n",
      "0\n",
      "1\n",
      "0\n",
      "0\n",
      "1\n",
      "0\n",
      "1\n",
      "2\n",
      "0\n",
      "0\n",
      "1\n",
      "0\n",
      "0\n",
      "1\n",
      "0\n",
      "1\n",
      "2\n",
      "0\n",
      "0\n",
      "1\n",
      "[1. 1. 1. 1. 1. 1. 1. 1. 1. 1. 1. 1. 1. 1. 1. 1. 1. 1. 1. 1. 1. 1. 1. 1.\n",
      " 1. 1. 1. 1. 1. 1. 1. 1. 1. 1. 1. 1. 1. 1. 1. 1. 1. 1. 1. 1. 1. 1. 1. 1.\n",
      " 1. 1. 1. 1. 1. 1. 1. 1. 1. 1. 1. 1. 1. 1. 1. 1. 1. 1. 1. 1. 1. 1. 1. 1.\n",
      " 1. 1. 1. 1. 1. 1. 1. 1. 1.]\n",
      "[[0.01234568 0.01234568 0.01234568 ... 0.01234568 0.01234568 0.01234568]\n",
      " [0.01234568 0.01234568 0.01234568 ... 0.01234568 0.01234568 0.01234568]\n",
      " [0.01234568 0.01234568 0.01234568 ... 0.01234568 0.01234568 0.01234568]\n",
      " ...\n",
      " [0.01234568 0.01234568 0.01234568 ... 0.01234568 0.01234568 0.01234568]\n",
      " [0.01234568 0.01234568 0.01234568 ... 0.01234568 0.01234568 0.01234568]\n",
      " [0.01234568 0.01234568 0.01234568 ... 0.01234568 0.01234568 0.01234568]]\n"
     ]
    }
   ],
   "source": [
    "# Create transition matrix from handwritten examples of pass-by QTC-B sequences\n",
    "# Defining a graph of N_nodes states\n",
    "# Give low prob. to transitions not present in e.g.s\n",
    "A = np.ones((N_nodes, N_nodes))\n",
    "print(A.shape)\n",
    "\n",
    "# Give frequency based probs to e.g. transitions\n",
    "for seq in pass_by_r_seqs:\n",
    "    for i in range(0, len(seq) - 1):\n",
    "        print(i)\n",
    "        A[seq[i], seq[i + 1]] += trans_prob_factor\n",
    "\n",
    "# normalise A (make sure probs sum up to 1)\n",
    "row_sums = A.sum(axis=1)\n",
    "A = A / row_sums[:, np.newaxis]\n",
    "\n",
    "# summing all column of transition matrix\n",
    "rs = np.sum(A, 1)\n",
    "print(rs)\n",
    "print(A)"
   ]
  },
  {
   "cell_type": "code",
   "execution_count": 24,
   "metadata": {},
   "outputs": [
    {
     "name": "stdout",
     "output_type": "stream",
     "text": [
      "A:\n",
      " [[0.01234568 0.01234568 0.01234568 ... 0.01234568 0.01234568 0.01234568]\n",
      " [0.01234568 0.01234568 0.01234568 ... 0.01234568 0.01234568 0.01234568]\n",
      " [0.01234568 0.01234568 0.01234568 ... 0.01234568 0.01234568 0.01234568]\n",
      " ...\n",
      " [0.01234568 0.01234568 0.01234568 ... 0.01234568 0.01234568 0.01234568]\n",
      " [0.01234568 0.01234568 0.01234568 ... 0.01234568 0.01234568 0.01234568]\n",
      " [0.01234568 0.01234568 0.01234568 ... 0.01234568 0.01234568 0.01234568]]\n",
      "0.9999999999999998\n",
      "B:\n",
      " [[9.50617284e-01 6.17283951e-04 6.17283951e-04 ... 6.17283951e-04\n",
      "  6.17283951e-04 6.17283951e-04]\n",
      " [6.17283951e-04 9.50617284e-01 6.17283951e-04 ... 6.17283951e-04\n",
      "  6.17283951e-04 6.17283951e-04]\n",
      " [6.17283951e-04 6.17283951e-04 9.50617284e-01 ... 6.17283951e-04\n",
      "  6.17283951e-04 6.17283951e-04]\n",
      " ...\n",
      " [6.17283951e-04 6.17283951e-04 6.17283951e-04 ... 9.50617284e-01\n",
      "  6.17283951e-04 6.17283951e-04]\n",
      " [6.17283951e-04 6.17283951e-04 6.17283951e-04 ... 6.17283951e-04\n",
      "  9.50617284e-01 6.17283951e-04]\n",
      " [6.17283951e-04 6.17283951e-04 6.17283951e-04 ... 6.17283951e-04\n",
      "  6.17283951e-04 9.50617284e-01]]\n",
      "1.0\n",
      "Pi:\n",
      " [3.72995151e-04 3.72995151e-04 3.72995151e-04 3.72995151e-04\n",
      " 3.72995151e-04 3.72995151e-04 3.72995151e-04 3.72995151e-04\n",
      " 3.72995151e-04 3.72995151e-04 3.72995151e-04 3.72995151e-04\n",
      " 3.72995151e-04 3.72995151e-04 3.72995151e-04 3.72995151e-04\n",
      " 3.72995151e-04 3.72995151e-04 3.72995151e-04 3.72995151e-04\n",
      " 3.72995151e-04 3.72995151e-04 3.72995151e-04 3.72995151e-04\n",
      " 3.72995151e-04 3.72995151e-04 3.72995151e-04 3.72995151e-04\n",
      " 3.72995151e-04 3.72995151e-04 3.72995151e-04 3.72995151e-04\n",
      " 3.72995151e-04 3.72995151e-04 3.72995151e-04 3.72995151e-04\n",
      " 7.46363297e-01 3.72995151e-04 2.24170086e-01 3.72995151e-04\n",
      " 3.72995151e-04 3.72995151e-04 3.72995151e-04 3.72995151e-04\n",
      " 3.72995151e-04 3.72995151e-04 3.72995151e-04 3.72995151e-04\n",
      " 3.72995151e-04 3.72995151e-04 3.72995151e-04 3.72995151e-04\n",
      " 3.72995151e-04 3.72995151e-04 3.72995151e-04 3.72995151e-04\n",
      " 3.72995151e-04 3.72995151e-04 3.72995151e-04 3.72995151e-04\n",
      " 3.72995151e-04 3.72995151e-04 3.72995151e-04 3.72995151e-04\n",
      " 3.72995151e-04 3.72995151e-04 3.72995151e-04 3.72995151e-04\n",
      " 3.72995151e-04 3.72995151e-04 3.72995151e-04 3.72995151e-04\n",
      " 3.72995151e-04 3.72995151e-04 3.72995151e-04 3.72995151e-04\n",
      " 3.72995151e-04 3.72995151e-04 3.72995151e-04 3.72995151e-04\n",
      " 3.72995151e-04]\n",
      "1.0\n"
     ]
    }
   ],
   "source": [
    "# creating observation matrix, assuming each states has ~90% prob to emit the state itself as observation\n",
    "# (.1 / N_nodes) for all observations for numerical stability\n",
    "B = (np.ones(N_nodes) * (prob_emission_not_equals_hidden / N_nodes)) + (np.eye(N_nodes) * \n",
    "                                                                        prob_emission_equals_hidden)\n",
    "# B = np.eye(N_nodes)\n",
    "\n",
    "# normalise B (make sure probs sum up to 1)\n",
    "row_sums = B.sum(axis=1)\n",
    "B = B / row_sums[:, np.newaxis]\n",
    "B_row_sums = []\n",
    "for row in B:\n",
    "    B_row_sums.append(row.sum())\n",
    "\n",
    "# Pi is the vector of initial state probabilities. Using distribution present in pass-by e.g.s\n",
    "# (We may make a stronger assumption here at some point)\n",
    "Pi = (np.ones((1, N_nodes)))[0]\n",
    "for seq in pass_by_r_seqs:\n",
    "    Pi[seq[0]] += init_prob_factor\n",
    "\n",
    "# normalise Pi (make sure probs sum up to 1)\n",
    "row_sums = Pi.sum()\n",
    "Pi = Pi / row_sums\n",
    "\n",
    "# print(Pi)\n",
    "# print(Pi.sum())\n",
    "\n",
    "# Create HMM using the pass-by e.g. parameters\n",
    "pbrHMM = hmms.DtHMM(A, B, Pi)\n",
    "\n",
    "# Check pbrHMM params\n",
    "A, B, Pi = pbrHMM.params\n",
    "print(\"A:\\n\", A)\n",
    "A_row_sums = []\n",
    "for row in A:\n",
    "    A_row_sums.append(row.sum())\n",
    "print(np.mean(A_row_sums))\n",
    "print(\"B:\\n\", B)\n",
    "B_row_sums = []\n",
    "for row in B:\n",
    "    B_row_sums.append(row.sum())\n",
    "print(np.mean(B_row_sums))\n",
    "print(\"Pi:\\n\", Pi)\n",
    "print(Pi.sum())"
   ]
  },
  {
   "cell_type": "code",
   "execution_count": 25,
   "metadata": {},
   "outputs": [],
   "source": [
    "# draw_transition_matrix(A,\"QTC_C_Pass-By-Right_Lab_Egs_Transitions\", 0.013)"
   ]
  },
  {
   "cell_type": "code",
   "execution_count": 26,
   "metadata": {
    "scrolled": false
   },
   "outputs": [
    {
     "name": "stdout",
     "output_type": "stream",
     "text": [
      "Pass-by right HMM:\n"
     ]
    },
    {
     "data": {
      "image/png": "[encoded data removed]",
      "text/plain": [
       "<Figure size 1440x1440 with 1 Axes>"
      ]
     },
     "metadata": {},
     "output_type": "display_data"
    },
    {
     "name": "stdout",
     "output_type": "stream",
     "text": [
      "['--++', '-0++', '0+-+', '--0-', '+--0', '+-00']\n"
     ]
    }
   ],
   "source": [
    "# sample a random sequence from the model (for testing and generation)\n",
    "# sample uniformly\n",
    "s_seq, e_seq = pbrHMM.generate(6)\n",
    "\n",
    "# resize plot\n",
    "plt.rcParams['figure.figsize'] = [20, 20]\n",
    "\n",
    "print(\"Pass-by right HMM:\")\n",
    "hmms.plot_hmm(s_seq, e_seq)\n",
    "s_seq_QTC_C_map = map(num_to_QTC_C, s_seq)\n",
    "print(list(s_seq_QTC_C_map))\n"
   ]
  },
  {
   "cell_type": "markdown",
   "metadata": {},
   "source": [
    "## Creating robot overtakes left HMM"
   ]
  },
  {
   "cell_type": "code",
   "execution_count": 27,
   "metadata": {},
   "outputs": [],
   "source": [
    "rotl_seqs = rotl_study_seqs"
   ]
  },
  {
   "cell_type": "code",
   "execution_count": 28,
   "metadata": {},
   "outputs": [
    {
     "name": "stdout",
     "output_type": "stream",
     "text": [
      "[[10], [10, 13], [10, 13, 40], [10, 13, 40, 28], [10, 13, 40, 28, 29], [10, 13, 40, 28, 29, 10], [10], [10, 37], [10, 37, 10], [10, 37, 10, 64], [10, 37, 10, 64, 10], [10], [10, 64], [10, 64, 10], [10, 64, 10, 37], [13], [13, 10], [10], [10, 16], [10, 16, 10], [10, 16, 10, 55], [10, 16, 10, 55, 40], [10, 16, 10, 55, 40, 46], [10, 16, 10, 55, 40, 46, 7], [10, 16, 10, 55, 40, 46, 7, 73], [10, 16, 10, 55, 40, 46, 7, 73, 47], [10, 16, 10, 55, 40, 46, 7, 73, 47, 20], [10, 16, 10, 55, 40, 46, 7, 73, 47, 20, 47], [13], [13, 10], [16], [16, 10], [16, 10, 64], [16, 10, 64, 10], [16, 10, 64, 10, 19], [16, 10, 64, 10, 19, 73], [16, 10, 64, 10, 19, 73, 47], [10], [10], [10, 27], [10, 27, 10], [10, 27, 10, 40], [10], [10, 13], [10, 13, 10]]\n"
     ]
    },
    {
     "data": {
      "text/plain": [
       "[['+-+-'],\n",
       " ['+-+-', '+---'],\n",
       " ['+-+-', '+---', '----'],\n",
       " ['+-+-', '+---', '----', '-++-'],\n",
       " ['+-+-', '+---', '----', '-++-', '-++0'],\n",
       " ['+-+-', '+---', '----', '-++-', '-++0', '+-+-'],\n",
       " ['+-+-'],\n",
       " ['+-+-', '--+-'],\n",
       " ['+-+-', '--+-', '+-+-'],\n",
       " ['+-+-', '--+-', '+-+-', '0-+-'],\n",
       " ['+-+-', '--+-', '+-+-', '0-+-', '+-+-'],\n",
       " ['+-+-'],\n",
       " ['+-+-', '0-+-'],\n",
       " ['+-+-', '0-+-', '+-+-'],\n",
       " ['+-+-', '0-+-', '+-+-', '--+-'],\n",
       " ['+---'],\n",
       " ['+---', '+-+-'],\n",
       " ['+-+-'],\n",
       " ['+-+-', '+-0-'],\n",
       " ['+-+-', '+-0-', '+-+-'],\n",
       " ['+-+-', '+-0-', '+-+-', '0++-'],\n",
       " ['+-+-', '+-0-', '+-+-', '0++-', '----'],\n",
       " ['+-+-', '+-0-', '+-+-', '0++-', '----', '-0+-'],\n",
       " ['+-+-', '+-0-', '+-+-', '0++-', '----', '-0+-', '++0-'],\n",
       " ['+-+-', '+-0-', '+-+-', '0++-', '----', '-0+-', '++0-', '00+-'],\n",
       " ['+-+-', '+-0-', '+-+-', '0++-', '----', '-0+-', '++0-', '00+-', '-0+0'],\n",
       " ['+-+-',\n",
       "  '+-0-',\n",
       "  '+-+-',\n",
       "  '0++-',\n",
       "  '----',\n",
       "  '-0+-',\n",
       "  '++0-',\n",
       "  '00+-',\n",
       "  '-0+0',\n",
       "  '+0+0'],\n",
       " ['+-+-',\n",
       "  '+-0-',\n",
       "  '+-+-',\n",
       "  '0++-',\n",
       "  '----',\n",
       "  '-0+-',\n",
       "  '++0-',\n",
       "  '00+-',\n",
       "  '-0+0',\n",
       "  '+0+0',\n",
       "  '-0+0'],\n",
       " ['+---'],\n",
       " ['+---', '+-+-'],\n",
       " ['+-0-'],\n",
       " ['+-0-', '+-+-'],\n",
       " ['+-0-', '+-+-', '0-+-'],\n",
       " ['+-0-', '+-+-', '0-+-', '+-+-'],\n",
       " ['+-0-', '+-+-', '0-+-', '+-+-', '+0+-'],\n",
       " ['+-0-', '+-+-', '0-+-', '+-+-', '+0+-', '00+-'],\n",
       " ['+-0-', '+-+-', '0-+-', '+-+-', '+0+-', '00+-', '-0+0'],\n",
       " ['+-+-'],\n",
       " ['+-+-'],\n",
       " ['+-+-', '-+++'],\n",
       " ['+-+-', '-+++', '+-+-'],\n",
       " ['+-+-', '-+++', '+-+-', '----'],\n",
       " ['+-+-'],\n",
       " ['+-+-', '+---'],\n",
       " ['+-+-', '+---', '+-+-']]"
      ]
     },
     "execution_count": 28,
     "metadata": {},
     "output_type": "execute_result"
    }
   ],
   "source": [
    "rotl_seqs = [list(map(QTC_C_to_num, seq)) for seq in rotl_seqs]\n",
    "print(rotl_seqs)\n",
    "[list(map(num_to_QTC_C, seq)) for seq in rotl_seqs]"
   ]
  },
  {
   "cell_type": "code",
   "execution_count": 29,
   "metadata": {},
   "outputs": [
    {
     "name": "stdout",
     "output_type": "stream",
     "text": [
      "(81, 81)\n",
      "0\n",
      "0\n",
      "1\n",
      "0\n",
      "1\n",
      "2\n",
      "0\n",
      "1\n",
      "2\n",
      "3\n",
      "0\n",
      "1\n",
      "2\n",
      "3\n",
      "4\n",
      "0\n",
      "0\n",
      "1\n",
      "0\n",
      "1\n",
      "2\n",
      "0\n",
      "1\n",
      "2\n",
      "3\n",
      "0\n",
      "0\n",
      "1\n",
      "0\n",
      "1\n",
      "2\n",
      "0\n",
      "0\n",
      "0\n",
      "1\n",
      "0\n",
      "1\n",
      "2\n",
      "0\n",
      "1\n",
      "2\n",
      "3\n",
      "0\n",
      "1\n",
      "2\n",
      "3\n",
      "4\n",
      "0\n",
      "1\n",
      "2\n",
      "3\n",
      "4\n",
      "5\n",
      "0\n",
      "1\n",
      "2\n",
      "3\n",
      "4\n",
      "5\n",
      "6\n",
      "0\n",
      "1\n",
      "2\n",
      "3\n",
      "4\n",
      "5\n",
      "6\n",
      "7\n",
      "0\n",
      "1\n",
      "2\n",
      "3\n",
      "4\n",
      "5\n",
      "6\n",
      "7\n",
      "8\n",
      "0\n",
      "1\n",
      "2\n",
      "3\n",
      "4\n",
      "5\n",
      "6\n",
      "7\n",
      "8\n",
      "9\n",
      "0\n",
      "0\n",
      "0\n",
      "1\n",
      "0\n",
      "1\n",
      "2\n",
      "0\n",
      "1\n",
      "2\n",
      "3\n",
      "0\n",
      "1\n",
      "2\n",
      "3\n",
      "4\n",
      "0\n",
      "1\n",
      "2\n",
      "3\n",
      "4\n",
      "5\n",
      "0\n",
      "0\n",
      "1\n",
      "0\n",
      "1\n",
      "2\n",
      "0\n",
      "0\n",
      "1\n",
      "[1. 1. 1. 1. 1. 1. 1. 1. 1. 1. 1. 1. 1. 1. 1. 1. 1. 1. 1. 1. 1. 1. 1. 1.\n",
      " 1. 1. 1. 1. 1. 1. 1. 1. 1. 1. 1. 1. 1. 1. 1. 1. 1. 1. 1. 1. 1. 1. 1. 1.\n",
      " 1. 1. 1. 1. 1. 1. 1. 1. 1. 1. 1. 1. 1. 1. 1. 1. 1. 1. 1. 1. 1. 1. 1. 1.\n",
      " 1. 1. 1. 1. 1. 1. 1. 1. 1.]\n",
      "[[0.01234568 0.01234568 0.01234568 ... 0.01234568 0.01234568 0.01234568]\n",
      " [0.01234568 0.01234568 0.01234568 ... 0.01234568 0.01234568 0.01234568]\n",
      " [0.01234568 0.01234568 0.01234568 ... 0.01234568 0.01234568 0.01234568]\n",
      " ...\n",
      " [0.01234568 0.01234568 0.01234568 ... 0.01234568 0.01234568 0.01234568]\n",
      " [0.01234568 0.01234568 0.01234568 ... 0.01234568 0.01234568 0.01234568]\n",
      " [0.01234568 0.01234568 0.01234568 ... 0.01234568 0.01234568 0.01234568]]\n"
     ]
    }
   ],
   "source": [
    "# Create transition matrix from handwritten examples of overtake QTC-B sequences\n",
    "\n",
    "# Defining a graph of N_nodes states\n",
    "# Give low prob. to transitions not present in e.g.s\n",
    "A = np.ones((N_nodes, N_nodes))\n",
    "print(A.shape)\n",
    "\n",
    "# Give frequency based probs to e.g. transitions\n",
    "for seq in rotl_seqs:\n",
    "    for i in range(0, len(seq) - 1):\n",
    "        print(i)\n",
    "        A[seq[i], seq[i + 1]] += trans_prob_factor\n",
    "\n",
    "# normalise A (make sure probs sum up to 1)\n",
    "row_sums = A.sum(axis=1)\n",
    "A = A / row_sums[:, np.newaxis]\n",
    "\n",
    "# summing all column of transition matrix\n",
    "rs = np.sum(A, 1)\n",
    "print(rs)\n",
    "print(A)"
   ]
  },
  {
   "cell_type": "code",
   "execution_count": 30,
   "metadata": {},
   "outputs": [
    {
     "name": "stdout",
     "output_type": "stream",
     "text": [
      "1.0\n",
      "[2.18292949e-04 2.18292949e-04 2.18292949e-04 2.18292949e-04\n",
      " 2.18292949e-04 2.18292949e-04 2.18292949e-04 2.18292949e-04\n",
      " 2.18292949e-04 2.18292949e-04 7.42414320e-01 2.18292949e-04\n",
      " 2.18292949e-04 8.75354726e-02 2.18292949e-04 2.18292949e-04\n",
      " 1.53023357e-01 2.18292949e-04 2.18292949e-04 2.18292949e-04\n",
      " 2.18292949e-04 2.18292949e-04 2.18292949e-04 2.18292949e-04\n",
      " 2.18292949e-04 2.18292949e-04 2.18292949e-04 2.18292949e-04\n",
      " 2.18292949e-04 2.18292949e-04 2.18292949e-04 2.18292949e-04\n",
      " 2.18292949e-04 2.18292949e-04 2.18292949e-04 2.18292949e-04\n",
      " 2.18292949e-04 2.18292949e-04 2.18292949e-04 2.18292949e-04\n",
      " 2.18292949e-04 2.18292949e-04 2.18292949e-04 2.18292949e-04\n",
      " 2.18292949e-04 2.18292949e-04 2.18292949e-04 2.18292949e-04\n",
      " 2.18292949e-04 2.18292949e-04 2.18292949e-04 2.18292949e-04\n",
      " 2.18292949e-04 2.18292949e-04 2.18292949e-04 2.18292949e-04\n",
      " 2.18292949e-04 2.18292949e-04 2.18292949e-04 2.18292949e-04\n",
      " 2.18292949e-04 2.18292949e-04 2.18292949e-04 2.18292949e-04\n",
      " 2.18292949e-04 2.18292949e-04 2.18292949e-04 2.18292949e-04\n",
      " 2.18292949e-04 2.18292949e-04 2.18292949e-04 2.18292949e-04\n",
      " 2.18292949e-04 2.18292949e-04 2.18292949e-04 2.18292949e-04\n",
      " 2.18292949e-04 2.18292949e-04 2.18292949e-04 2.18292949e-04\n",
      " 2.18292949e-04]\n",
      "1.0000000000000004\n",
      "A:\n",
      " [[0.01234568 0.01234568 0.01234568 ... 0.01234568 0.01234568 0.01234568]\n",
      " [0.01234568 0.01234568 0.01234568 ... 0.01234568 0.01234568 0.01234568]\n",
      " [0.01234568 0.01234568 0.01234568 ... 0.01234568 0.01234568 0.01234568]\n",
      " ...\n",
      " [0.01234568 0.01234568 0.01234568 ... 0.01234568 0.01234568 0.01234568]\n",
      " [0.01234568 0.01234568 0.01234568 ... 0.01234568 0.01234568 0.01234568]\n",
      " [0.01234568 0.01234568 0.01234568 ... 0.01234568 0.01234568 0.01234568]]\n",
      "1.0\n",
      "B:\n",
      " [[9.50617284e-01 6.17283951e-04 6.17283951e-04 ... 6.17283951e-04\n",
      "  6.17283951e-04 6.17283951e-04]\n",
      " [6.17283951e-04 9.50617284e-01 6.17283951e-04 ... 6.17283951e-04\n",
      "  6.17283951e-04 6.17283951e-04]\n",
      " [6.17283951e-04 6.17283951e-04 9.50617284e-01 ... 6.17283951e-04\n",
      "  6.17283951e-04 6.17283951e-04]\n",
      " ...\n",
      " [6.17283951e-04 6.17283951e-04 6.17283951e-04 ... 9.50617284e-01\n",
      "  6.17283951e-04 6.17283951e-04]\n",
      " [6.17283951e-04 6.17283951e-04 6.17283951e-04 ... 6.17283951e-04\n",
      "  9.50617284e-01 6.17283951e-04]\n",
      " [6.17283951e-04 6.17283951e-04 6.17283951e-04 ... 6.17283951e-04\n",
      "  6.17283951e-04 9.50617284e-01]]\n",
      "1.0\n",
      "Pi:\n",
      " [2.18292949e-04 2.18292949e-04 2.18292949e-04 2.18292949e-04\n",
      " 2.18292949e-04 2.18292949e-04 2.18292949e-04 2.18292949e-04\n",
      " 2.18292949e-04 2.18292949e-04 7.42414320e-01 2.18292949e-04\n",
      " 2.18292949e-04 8.75354726e-02 2.18292949e-04 2.18292949e-04\n",
      " 1.53023357e-01 2.18292949e-04 2.18292949e-04 2.18292949e-04\n",
      " 2.18292949e-04 2.18292949e-04 2.18292949e-04 2.18292949e-04\n",
      " 2.18292949e-04 2.18292949e-04 2.18292949e-04 2.18292949e-04\n",
      " 2.18292949e-04 2.18292949e-04 2.18292949e-04 2.18292949e-04\n",
      " 2.18292949e-04 2.18292949e-04 2.18292949e-04 2.18292949e-04\n",
      " 2.18292949e-04 2.18292949e-04 2.18292949e-04 2.18292949e-04\n",
      " 2.18292949e-04 2.18292949e-04 2.18292949e-04 2.18292949e-04\n",
      " 2.18292949e-04 2.18292949e-04 2.18292949e-04 2.18292949e-04\n",
      " 2.18292949e-04 2.18292949e-04 2.18292949e-04 2.18292949e-04\n",
      " 2.18292949e-04 2.18292949e-04 2.18292949e-04 2.18292949e-04\n",
      " 2.18292949e-04 2.18292949e-04 2.18292949e-04 2.18292949e-04\n",
      " 2.18292949e-04 2.18292949e-04 2.18292949e-04 2.18292949e-04\n",
      " 2.18292949e-04 2.18292949e-04 2.18292949e-04 2.18292949e-04\n",
      " 2.18292949e-04 2.18292949e-04 2.18292949e-04 2.18292949e-04\n",
      " 2.18292949e-04 2.18292949e-04 2.18292949e-04 2.18292949e-04\n",
      " 2.18292949e-04 2.18292949e-04 2.18292949e-04 2.18292949e-04\n",
      " 2.18292949e-04]\n",
      "1.0000000000000004\n"
     ]
    }
   ],
   "source": [
    "# creating observation matrix\n",
    "B = (np.ones(N_nodes) * (prob_emission_not_equals_hidden / N_nodes)) + (np.eye(N_nodes) * \n",
    "                                                                        prob_emission_equals_hidden)\n",
    "\n",
    "# normalise B (make sure probs sum up to 1)\n",
    "row_sums = B.sum(axis=1)\n",
    "B = B / row_sums[:, np.newaxis]\n",
    "B_row_sums = []\n",
    "for row in B:\n",
    "    B_row_sums.append(row.sum())\n",
    "print(np.mean(B_row_sums))\n",
    "\n",
    "\n",
    "# Pi is the vector of initial state probabilities. Using distribution present in overtake e.g.s\n",
    "# (We may make a stronger assumption here at some point)\n",
    "Pi = (np.ones((1, N_nodes)))[0]\n",
    "for seq in rotl_seqs:\n",
    "    Pi[seq[0]] += init_prob_factor\n",
    "\n",
    "# normalise Pi (make sure probs sum up to 1)\n",
    "row_sums = Pi.sum()\n",
    "Pi = Pi / row_sums\n",
    "\n",
    "print(Pi)\n",
    "print(Pi.sum())\n",
    "\n",
    "# Create HMM using the overtake e.g. parameters\n",
    "rotlHMM = hmms.DtHMM(A, B, Pi)\n",
    "\n",
    "# Check rotlHMM params\n",
    "A, B, Pi = rotlHMM.params\n",
    "print(\"A:\\n\", A)\n",
    "A_row_sums = []\n",
    "for row in A:\n",
    "    A_row_sums.append(row.sum())\n",
    "print(np.mean(A_row_sums))\n",
    "print(\"B:\\n\", B)\n",
    "B_row_sums = []\n",
    "for row in B:\n",
    "    B_row_sums.append(row.sum())\n",
    "print(np.mean(B_row_sums))\n",
    "print(\"Pi:\\n\", Pi)\n",
    "print(Pi.sum())"
   ]
  },
  {
   "cell_type": "code",
   "execution_count": 31,
   "metadata": {},
   "outputs": [
    {
     "data": {
      "text/plain": [
       "0.0002091612633340307"
      ]
     },
     "execution_count": 31,
     "metadata": {},
     "output_type": "execute_result"
    }
   ],
   "source": [
    "A.min()"
   ]
  },
  {
   "cell_type": "code",
   "execution_count": 32,
   "metadata": {},
   "outputs": [],
   "source": [
    "# draw_transition_matrix(A, \"QTC_C_Robot-Overtakes-Left_Lab_Egs_Transitions\", 0.0124)"
   ]
  },
  {
   "cell_type": "code",
   "execution_count": 33,
   "metadata": {
    "scrolled": false
   },
   "outputs": [
    {
     "name": "stdout",
     "output_type": "stream",
     "text": [
      "Robot overtakes left HMM:\n"
     ]
    },
    {
     "data": {
      "image/png": "[encoded data removed]",
      "text/plain": [
       "<Figure size 1440x1440 with 1 Axes>"
      ]
     },
     "metadata": {},
     "output_type": "display_data"
    },
    {
     "name": "stdout",
     "output_type": "stream",
     "text": [
      "['+-+-', '0++-', '----', '-++-', '-++0', '-++-']\n"
     ]
    }
   ],
   "source": [
    "# sample a random sequence from the model (for testing and generation)\n",
    "# sample uniformly\n",
    "s_seq, e_seq = rotlHMM.generate(6)\n",
    "\n",
    "# resize plot\n",
    "plt.rcParams['figure.figsize'] = [20, 20]\n",
    "\n",
    "print(\"Robot overtakes left HMM:\")\n",
    "hmms.plot_hmm(s_seq, e_seq)\n",
    "s_seq_QTC_C_map = map(num_to_QTC_C, s_seq)\n",
    "print(list(s_seq_QTC_C_map))"
   ]
  },
  {
   "cell_type": "markdown",
   "metadata": {},
   "source": [
    "## Creating robot overtakes right HMM"
   ]
  },
  {
   "cell_type": "code",
   "execution_count": 34,
   "metadata": {},
   "outputs": [],
   "source": [
    "rotr_seqs = rotr_study_seqs"
   ]
  },
  {
   "cell_type": "code",
   "execution_count": 35,
   "metadata": {},
   "outputs": [
    {
     "name": "stdout",
     "output_type": "stream",
     "text": [
      "[[12], [12, 15], [12, 15, 36], [12, 15, 36, 27], [12, 15, 36, 27, 30], [12, 15, 36, 27, 30, 12], [12, 15, 36, 27, 30, 12, 39], [12], [12], [12], [12], [12, 63], [12, 63, 12], [12, 63, 12, 39], [12], [12], [12], [12, 39], [12, 39, 21], [12], [12, 27], [12, 27, 12], [12]]\n"
     ]
    },
    {
     "data": {
      "text/plain": [
       "[['+--+'],\n",
       " ['+--+', '+-0+'],\n",
       " ['+--+', '+-0+', '--++'],\n",
       " ['+--+', '+-0+', '--++', '-+++'],\n",
       " ['+--+', '+-0+', '--++', '-+++', '-+-+'],\n",
       " ['+--+', '+-0+', '--++', '-+++', '-+-+', '+--+'],\n",
       " ['+--+', '+-0+', '--++', '-+++', '-+-+', '+--+', '---+'],\n",
       " ['+--+'],\n",
       " ['+--+'],\n",
       " ['+--+'],\n",
       " ['+--+'],\n",
       " ['+--+', '0-++'],\n",
       " ['+--+', '0-++', '+--+'],\n",
       " ['+--+', '0-++', '+--+', '---+'],\n",
       " ['+--+'],\n",
       " ['+--+'],\n",
       " ['+--+'],\n",
       " ['+--+', '---+'],\n",
       " ['+--+', '---+', '+0-+'],\n",
       " ['+--+'],\n",
       " ['+--+', '-+++'],\n",
       " ['+--+', '-+++', '+--+'],\n",
       " ['+--+']]"
      ]
     },
     "execution_count": 35,
     "metadata": {},
     "output_type": "execute_result"
    }
   ],
   "source": [
    "rotr_seqs = [list(map(QTC_C_to_num, seq)) for seq in rotr_seqs]\n",
    "print(rotr_seqs)\n",
    "[list(map(num_to_QTC_C, seq)) for seq in rotr_seqs]"
   ]
  },
  {
   "cell_type": "code",
   "execution_count": 36,
   "metadata": {},
   "outputs": [
    {
     "name": "stdout",
     "output_type": "stream",
     "text": [
      "(81, 81)\n",
      "0\n",
      "0\n",
      "1\n",
      "0\n",
      "1\n",
      "2\n",
      "0\n",
      "1\n",
      "2\n",
      "3\n",
      "0\n",
      "1\n",
      "2\n",
      "3\n",
      "4\n",
      "0\n",
      "1\n",
      "2\n",
      "3\n",
      "4\n",
      "5\n",
      "0\n",
      "0\n",
      "1\n",
      "0\n",
      "1\n",
      "2\n",
      "0\n",
      "0\n",
      "1\n",
      "0\n",
      "0\n",
      "1\n",
      "[1. 1. 1. 1. 1. 1. 1. 1. 1. 1. 1. 1. 1. 1. 1. 1. 1. 1. 1. 1. 1. 1. 1. 1.\n",
      " 1. 1. 1. 1. 1. 1. 1. 1. 1. 1. 1. 1. 1. 1. 1. 1. 1. 1. 1. 1. 1. 1. 1. 1.\n",
      " 1. 1. 1. 1. 1. 1. 1. 1. 1. 1. 1. 1. 1. 1. 1. 1. 1. 1. 1. 1. 1. 1. 1. 1.\n",
      " 1. 1. 1. 1. 1. 1. 1. 1. 1.]\n",
      "[[0.01234568 0.01234568 0.01234568 ... 0.01234568 0.01234568 0.01234568]\n",
      " [0.01234568 0.01234568 0.01234568 ... 0.01234568 0.01234568 0.01234568]\n",
      " [0.01234568 0.01234568 0.01234568 ... 0.01234568 0.01234568 0.01234568]\n",
      " ...\n",
      " [0.01234568 0.01234568 0.01234568 ... 0.01234568 0.01234568 0.01234568]\n",
      " [0.01234568 0.01234568 0.01234568 ... 0.01234568 0.01234568 0.01234568]\n",
      " [0.01234568 0.01234568 0.01234568 ... 0.01234568 0.01234568 0.01234568]]\n"
     ]
    }
   ],
   "source": [
    "# Create transition matrix from handwritten examples of overtake QTC-B sequences\n",
    "\n",
    "# Defining a graph of N_nodes states\n",
    "# Give low prob. to transitions not present in e.g.s\n",
    "A = np.ones((N_nodes, N_nodes))\n",
    "print(A.shape)\n",
    "\n",
    "# Give frequency based probs to e.g. transitions\n",
    "for seq in rotr_seqs:\n",
    "    for i in range(0, len(seq) - 1):\n",
    "        print(i)\n",
    "        A[seq[i], seq[i + 1]] += trans_prob_factor\n",
    "\n",
    "# normalise A (make sure probs sum up to 1)\n",
    "row_sums = A.sum(axis=1)\n",
    "A = A / row_sums[:, np.newaxis]\n",
    "\n",
    "# summing all column of transition matrix\n",
    "rs = np.sum(A, 1)\n",
    "print(rs)\n",
    "print(A)"
   ]
  },
  {
   "cell_type": "code",
   "execution_count": 37,
   "metadata": {},
   "outputs": [
    {
     "name": "stdout",
     "output_type": "stream",
     "text": [
      "1.0\n",
      "[4.19991600e-04 4.19991600e-04 4.19991600e-04 4.19991600e-04\n",
      " 4.19991600e-04 4.19991600e-04 4.19991600e-04 4.19991600e-04\n",
      " 4.19991600e-04 4.19991600e-04 4.19991600e-04 4.19991600e-04\n",
      " 9.66400672e-01 4.19991600e-04 4.19991600e-04 4.19991600e-04\n",
      " 4.19991600e-04 4.19991600e-04 4.19991600e-04 4.19991600e-04\n",
      " 4.19991600e-04 4.19991600e-04 4.19991600e-04 4.19991600e-04\n",
      " 4.19991600e-04 4.19991600e-04 4.19991600e-04 4.19991600e-04\n",
      " 4.19991600e-04 4.19991600e-04 4.19991600e-04 4.19991600e-04\n",
      " 4.19991600e-04 4.19991600e-04 4.19991600e-04 4.19991600e-04\n",
      " 4.19991600e-04 4.19991600e-04 4.19991600e-04 4.19991600e-04\n",
      " 4.19991600e-04 4.19991600e-04 4.19991600e-04 4.19991600e-04\n",
      " 4.19991600e-04 4.19991600e-04 4.19991600e-04 4.19991600e-04\n",
      " 4.19991600e-04 4.19991600e-04 4.19991600e-04 4.19991600e-04\n",
      " 4.19991600e-04 4.19991600e-04 4.19991600e-04 4.19991600e-04\n",
      " 4.19991600e-04 4.19991600e-04 4.19991600e-04 4.19991600e-04\n",
      " 4.19991600e-04 4.19991600e-04 4.19991600e-04 4.19991600e-04\n",
      " 4.19991600e-04 4.19991600e-04 4.19991600e-04 4.19991600e-04\n",
      " 4.19991600e-04 4.19991600e-04 4.19991600e-04 4.19991600e-04\n",
      " 4.19991600e-04 4.19991600e-04 4.19991600e-04 4.19991600e-04\n",
      " 4.19991600e-04 4.19991600e-04 4.19991600e-04 4.19991600e-04\n",
      " 4.19991600e-04]\n",
      "1.0000000000000004\n",
      "A:\n",
      " [[0.01234568 0.01234568 0.01234568 ... 0.01234568 0.01234568 0.01234568]\n",
      " [0.01234568 0.01234568 0.01234568 ... 0.01234568 0.01234568 0.01234568]\n",
      " [0.01234568 0.01234568 0.01234568 ... 0.01234568 0.01234568 0.01234568]\n",
      " ...\n",
      " [0.01234568 0.01234568 0.01234568 ... 0.01234568 0.01234568 0.01234568]\n",
      " [0.01234568 0.01234568 0.01234568 ... 0.01234568 0.01234568 0.01234568]\n",
      " [0.01234568 0.01234568 0.01234568 ... 0.01234568 0.01234568 0.01234568]]\n",
      "0.9999999999999998\n",
      "B:\n",
      " [[9.50617284e-01 6.17283951e-04 6.17283951e-04 ... 6.17283951e-04\n",
      "  6.17283951e-04 6.17283951e-04]\n",
      " [6.17283951e-04 9.50617284e-01 6.17283951e-04 ... 6.17283951e-04\n",
      "  6.17283951e-04 6.17283951e-04]\n",
      " [6.17283951e-04 6.17283951e-04 9.50617284e-01 ... 6.17283951e-04\n",
      "  6.17283951e-04 6.17283951e-04]\n",
      " ...\n",
      " [6.17283951e-04 6.17283951e-04 6.17283951e-04 ... 9.50617284e-01\n",
      "  6.17283951e-04 6.17283951e-04]\n",
      " [6.17283951e-04 6.17283951e-04 6.17283951e-04 ... 6.17283951e-04\n",
      "  9.50617284e-01 6.17283951e-04]\n",
      " [6.17283951e-04 6.17283951e-04 6.17283951e-04 ... 6.17283951e-04\n",
      "  6.17283951e-04 9.50617284e-01]]\n",
      "1.0\n",
      "Pi:\n",
      " [4.19991600e-04 4.19991600e-04 4.19991600e-04 4.19991600e-04\n",
      " 4.19991600e-04 4.19991600e-04 4.19991600e-04 4.19991600e-04\n",
      " 4.19991600e-04 4.19991600e-04 4.19991600e-04 4.19991600e-04\n",
      " 9.66400672e-01 4.19991600e-04 4.19991600e-04 4.19991600e-04\n",
      " 4.19991600e-04 4.19991600e-04 4.19991600e-04 4.19991600e-04\n",
      " 4.19991600e-04 4.19991600e-04 4.19991600e-04 4.19991600e-04\n",
      " 4.19991600e-04 4.19991600e-04 4.19991600e-04 4.19991600e-04\n",
      " 4.19991600e-04 4.19991600e-04 4.19991600e-04 4.19991600e-04\n",
      " 4.19991600e-04 4.19991600e-04 4.19991600e-04 4.19991600e-04\n",
      " 4.19991600e-04 4.19991600e-04 4.19991600e-04 4.19991600e-04\n",
      " 4.19991600e-04 4.19991600e-04 4.19991600e-04 4.19991600e-04\n",
      " 4.19991600e-04 4.19991600e-04 4.19991600e-04 4.19991600e-04\n",
      " 4.19991600e-04 4.19991600e-04 4.19991600e-04 4.19991600e-04\n",
      " 4.19991600e-04 4.19991600e-04 4.19991600e-04 4.19991600e-04\n",
      " 4.19991600e-04 4.19991600e-04 4.19991600e-04 4.19991600e-04\n",
      " 4.19991600e-04 4.19991600e-04 4.19991600e-04 4.19991600e-04\n",
      " 4.19991600e-04 4.19991600e-04 4.19991600e-04 4.19991600e-04\n",
      " 4.19991600e-04 4.19991600e-04 4.19991600e-04 4.19991600e-04\n",
      " 4.19991600e-04 4.19991600e-04 4.19991600e-04 4.19991600e-04\n",
      " 4.19991600e-04 4.19991600e-04 4.19991600e-04 4.19991600e-04\n",
      " 4.19991600e-04]\n",
      "1.0000000000000004\n"
     ]
    }
   ],
   "source": [
    "# creating observation matrix\n",
    "B = (np.ones(N_nodes) * (prob_emission_not_equals_hidden / N_nodes)) + (np.eye(N_nodes) * \n",
    "                                                                        prob_emission_equals_hidden)\n",
    "\n",
    "# normalise B (make sure probs sum up to 1)\n",
    "row_sums = B.sum(axis=1)\n",
    "B = B / row_sums[:, np.newaxis]\n",
    "B_row_sums = []\n",
    "for row in B:\n",
    "    B_row_sums.append(row.sum())\n",
    "print(np.mean(B_row_sums))\n",
    "\n",
    "\n",
    "# Pi is the vector of initial state probabilities. Using distribution present in overtake e.g.s\n",
    "# (We may make a stronger assumption here at some point)\n",
    "Pi = (np.ones((1, N_nodes)))[0]\n",
    "for seq in rotr_seqs:\n",
    "    Pi[seq[0]] += init_prob_factor\n",
    "\n",
    "# normalise Pi (make sure probs sum up to 1)\n",
    "row_sums = Pi.sum()\n",
    "Pi = Pi / row_sums\n",
    "\n",
    "print(Pi)\n",
    "print(Pi.sum())\n",
    "\n",
    "# Create HMM using the overtake e.g. parameters\n",
    "rotrHMM = hmms.DtHMM(A, B, Pi)\n",
    "\n",
    "# Check rotrHMM params\n",
    "A, B, Pi = rotrHMM.params\n",
    "print(\"A:\\n\", A)\n",
    "A_row_sums = []\n",
    "for row in A:\n",
    "    A_row_sums.append(row.sum())\n",
    "print(np.mean(A_row_sums))\n",
    "print(\"B:\\n\", B)\n",
    "B_row_sums = []\n",
    "for row in B:\n",
    "    B_row_sums.append(row.sum())\n",
    "print(np.mean(B_row_sums))\n",
    "print(\"Pi:\\n\", Pi)\n",
    "print(Pi.sum())"
   ]
  },
  {
   "cell_type": "code",
   "execution_count": 38,
   "metadata": {},
   "outputs": [
    {
     "data": {
      "text/plain": [
       "0.0006325110689437062"
      ]
     },
     "execution_count": 38,
     "metadata": {},
     "output_type": "execute_result"
    }
   ],
   "source": [
    "A.min()"
   ]
  },
  {
   "cell_type": "code",
   "execution_count": 39,
   "metadata": {},
   "outputs": [],
   "source": [
    "# draw_transition_matrix(A, \"QTC_C_Robot-Overtakes-Right_Lab_Egs_Transitions\", 0.0124)"
   ]
  },
  {
   "cell_type": "code",
   "execution_count": 40,
   "metadata": {
    "scrolled": false
   },
   "outputs": [
    {
     "name": "stdout",
     "output_type": "stream",
     "text": [
      "Robot overtakes right HMM:\n"
     ]
    },
    {
     "data": {
      "image/png": "[encoded data removed]",
      "text/plain": [
       "<Figure size 1440x1440 with 1 Axes>"
      ]
     },
     "metadata": {},
     "output_type": "display_data"
    },
    {
     "name": "stdout",
     "output_type": "stream",
     "text": [
      "['+--+', '+-0+', '--++', '-+++', '-+-+', '-0+0']\n"
     ]
    }
   ],
   "source": [
    "# sample a random sequence from the model (for testing and generation)\n",
    "# sample uniformly\n",
    "s_seq, e_seq = rotrHMM.generate(6)\n",
    "\n",
    "# resize plot\n",
    "plt.rcParams['figure.figsize'] = [20, 20]\n",
    "\n",
    "print(\"Robot overtakes right HMM:\")\n",
    "hmms.plot_hmm(s_seq, e_seq)\n",
    "s_seq_QTC_C_map = map(num_to_QTC_C, s_seq)\n",
    "print(list(s_seq_QTC_C_map))"
   ]
  },
  {
   "cell_type": "markdown",
   "metadata": {},
   "source": [
    "## Creating human crossing robot path from left HMM"
   ]
  },
  {
   "cell_type": "code",
   "execution_count": 41,
   "metadata": {},
   "outputs": [
    {
     "data": {
      "text/plain": [
       "[['---+'],\n",
       " ['---+', '----'],\n",
       " ['---+', '----', '+---'],\n",
       " ['---+'],\n",
       " ['---+', '---0'],\n",
       " ['---+', '---0', '----'],\n",
       " ['---+', '---0', '----', '+---'],\n",
       " ['---+', '---0', '----', '+---', '----'],\n",
       " ['---+'],\n",
       " ['---+', '----'],\n",
       " ['---+', '----', '+---'],\n",
       " ['---+'],\n",
       " ['---+', '----'],\n",
       " ['---+', '----', '+---'],\n",
       " ['---+'],\n",
       " ['---+', '---0'],\n",
       " ['---+', '---0', '0---'],\n",
       " ['---+', '---0', '0---', '+---'],\n",
       " ['---+'],\n",
       " ['---+', '--++'],\n",
       " ['---+', '--++', '+---'],\n",
       " ['---+'],\n",
       " ['---+', '----'],\n",
       " ['---+', '----', '0---'],\n",
       " ['---+', '----', '0---', '+---'],\n",
       " ['---+'],\n",
       " ['---+', '---0'],\n",
       " ['---+', '---0', '----'],\n",
       " ['---+', '---0', '----', '+---'],\n",
       " ['---+'],\n",
       " ['---+', '----'],\n",
       " ['---+', '----', '-+++'],\n",
       " ['---+'],\n",
       " ['---+', '---0'],\n",
       " ['---+', '---0', '--+-'],\n",
       " ['---+', '---0', '--+-', '++++']]"
      ]
     },
     "execution_count": 41,
     "metadata": {},
     "output_type": "execute_result"
    }
   ],
   "source": [
    "pcl_seqs = pcl_study_seqs\n",
    "pcl_seqs"
   ]
  },
  {
   "cell_type": "code",
   "execution_count": 42,
   "metadata": {},
   "outputs": [
    {
     "name": "stdout",
     "output_type": "stream",
     "text": [
      "[[39], [39, 40], [39, 40, 13], [39], [39, 41], [39, 41, 40], [39, 41, 40, 13], [39, 41, 40, 13, 40], [39], [39, 40], [39, 40, 13], [39], [39, 40], [39, 40, 13], [39], [39, 41], [39, 41, 67], [39, 41, 67, 13], [39], [39, 36], [39, 36, 13], [39], [39, 40], [39, 40, 67], [39, 40, 67, 13], [39], [39, 41], [39, 41, 40], [39, 41, 40, 13], [39], [39, 40], [39, 40, 27], [39], [39, 41], [39, 41, 37], [39, 41, 37, 0]]\n"
     ]
    },
    {
     "data": {
      "text/plain": [
       "[['---+'],\n",
       " ['---+', '----'],\n",
       " ['---+', '----', '+---'],\n",
       " ['---+'],\n",
       " ['---+', '---0'],\n",
       " ['---+', '---0', '----'],\n",
       " ['---+', '---0', '----', '+---'],\n",
       " ['---+', '---0', '----', '+---', '----'],\n",
       " ['---+'],\n",
       " ['---+', '----'],\n",
       " ['---+', '----', '+---'],\n",
       " ['---+'],\n",
       " ['---+', '----'],\n",
       " ['---+', '----', '+---'],\n",
       " ['---+'],\n",
       " ['---+', '---0'],\n",
       " ['---+', '---0', '0---'],\n",
       " ['---+', '---0', '0---', '+---'],\n",
       " ['---+'],\n",
       " ['---+', '--++'],\n",
       " ['---+', '--++', '+---'],\n",
       " ['---+'],\n",
       " ['---+', '----'],\n",
       " ['---+', '----', '0---'],\n",
       " ['---+', '----', '0---', '+---'],\n",
       " ['---+'],\n",
       " ['---+', '---0'],\n",
       " ['---+', '---0', '----'],\n",
       " ['---+', '---0', '----', '+---'],\n",
       " ['---+'],\n",
       " ['---+', '----'],\n",
       " ['---+', '----', '-+++'],\n",
       " ['---+'],\n",
       " ['---+', '---0'],\n",
       " ['---+', '---0', '--+-'],\n",
       " ['---+', '---0', '--+-', '++++']]"
      ]
     },
     "execution_count": 42,
     "metadata": {},
     "output_type": "execute_result"
    }
   ],
   "source": [
    "pcl_seqs = [list(map(QTC_C_to_num, seq)) for seq in pcl_seqs]\n",
    "print(pcl_seqs)\n",
    "[list(map(num_to_QTC_C, seq)) for seq in pcl_seqs]"
   ]
  },
  {
   "cell_type": "code",
   "execution_count": 43,
   "metadata": {},
   "outputs": [
    {
     "name": "stdout",
     "output_type": "stream",
     "text": [
      "(81, 81)\n",
      "0\n",
      "0\n",
      "1\n",
      "0\n",
      "0\n",
      "1\n",
      "0\n",
      "1\n",
      "2\n",
      "0\n",
      "1\n",
      "2\n",
      "3\n",
      "0\n",
      "0\n",
      "1\n",
      "0\n",
      "0\n",
      "1\n",
      "0\n",
      "0\n",
      "1\n",
      "0\n",
      "1\n",
      "2\n",
      "0\n",
      "0\n",
      "1\n",
      "0\n",
      "0\n",
      "1\n",
      "0\n",
      "1\n",
      "2\n",
      "0\n",
      "0\n",
      "1\n",
      "0\n",
      "1\n",
      "2\n",
      "0\n",
      "0\n",
      "1\n",
      "0\n",
      "0\n",
      "1\n",
      "0\n",
      "1\n",
      "2\n",
      "[1. 1. 1. 1. 1. 1. 1. 1. 1. 1. 1. 1. 1. 1. 1. 1. 1. 1. 1. 1. 1. 1. 1. 1.\n",
      " 1. 1. 1. 1. 1. 1. 1. 1. 1. 1. 1. 1. 1. 1. 1. 1. 1. 1. 1. 1. 1. 1. 1. 1.\n",
      " 1. 1. 1. 1. 1. 1. 1. 1. 1. 1. 1. 1. 1. 1. 1. 1. 1. 1. 1. 1. 1. 1. 1. 1.\n",
      " 1. 1. 1. 1. 1. 1. 1. 1. 1.]\n",
      "[[0.01234568 0.01234568 0.01234568 ... 0.01234568 0.01234568 0.01234568]\n",
      " [0.01234568 0.01234568 0.01234568 ... 0.01234568 0.01234568 0.01234568]\n",
      " [0.01234568 0.01234568 0.01234568 ... 0.01234568 0.01234568 0.01234568]\n",
      " ...\n",
      " [0.01234568 0.01234568 0.01234568 ... 0.01234568 0.01234568 0.01234568]\n",
      " [0.01234568 0.01234568 0.01234568 ... 0.01234568 0.01234568 0.01234568]\n",
      " [0.01234568 0.01234568 0.01234568 ... 0.01234568 0.01234568 0.01234568]]\n"
     ]
    }
   ],
   "source": [
    "# Create transition matrix from handwritten examples of path-crossing QTC_C sequences\n",
    "\n",
    "# Defining a graph of N_nodes states\n",
    "# Give low prob. to transitions not present in e.g.s\n",
    "A = np.ones((N_nodes, N_nodes))\n",
    "print(A.shape)\n",
    "\n",
    "# Give frequency based probs to e.g. transitions\n",
    "for seq in pcl_seqs:\n",
    "    for i in range(0, len(seq) - 1):\n",
    "        print(i)\n",
    "        A[seq[i], seq[i + 1]] += trans_prob_factor\n",
    "\n",
    "# normalise A (make sure probs sum up to 1)\n",
    "row_sums = A.sum(axis=1)\n",
    "A = A / row_sums[:, np.newaxis]\n",
    "\n",
    "# summing all column of transition matrix\n",
    "rs = np.sum(A, 1)\n",
    "print(rs)\n",
    "print(A)"
   ]
  },
  {
   "cell_type": "code",
   "execution_count": 44,
   "metadata": {},
   "outputs": [
    {
     "name": "stdout",
     "output_type": "stream",
     "text": [
      "1.0\n",
      "[2.71665308e-04 2.71665308e-04 2.71665308e-04 2.71665308e-04\n",
      " 2.71665308e-04 2.71665308e-04 2.71665308e-04 2.71665308e-04\n",
      " 2.71665308e-04 2.71665308e-04 2.71665308e-04 2.71665308e-04\n",
      " 2.71665308e-04 2.71665308e-04 2.71665308e-04 2.71665308e-04\n",
      " 2.71665308e-04 2.71665308e-04 2.71665308e-04 2.71665308e-04\n",
      " 2.71665308e-04 2.71665308e-04 2.71665308e-04 2.71665308e-04\n",
      " 2.71665308e-04 2.71665308e-04 2.71665308e-04 2.71665308e-04\n",
      " 2.71665308e-04 2.71665308e-04 2.71665308e-04 2.71665308e-04\n",
      " 2.71665308e-04 2.71665308e-04 2.71665308e-04 2.71665308e-04\n",
      " 2.71665308e-04 2.71665308e-04 2.71665308e-04 9.78266775e-01\n",
      " 2.71665308e-04 2.71665308e-04 2.71665308e-04 2.71665308e-04\n",
      " 2.71665308e-04 2.71665308e-04 2.71665308e-04 2.71665308e-04\n",
      " 2.71665308e-04 2.71665308e-04 2.71665308e-04 2.71665308e-04\n",
      " 2.71665308e-04 2.71665308e-04 2.71665308e-04 2.71665308e-04\n",
      " 2.71665308e-04 2.71665308e-04 2.71665308e-04 2.71665308e-04\n",
      " 2.71665308e-04 2.71665308e-04 2.71665308e-04 2.71665308e-04\n",
      " 2.71665308e-04 2.71665308e-04 2.71665308e-04 2.71665308e-04\n",
      " 2.71665308e-04 2.71665308e-04 2.71665308e-04 2.71665308e-04\n",
      " 2.71665308e-04 2.71665308e-04 2.71665308e-04 2.71665308e-04\n",
      " 2.71665308e-04 2.71665308e-04 2.71665308e-04 2.71665308e-04\n",
      " 2.71665308e-04]\n",
      "1.0\n",
      "A:\n",
      " [[0.01234568 0.01234568 0.01234568 ... 0.01234568 0.01234568 0.01234568]\n",
      " [0.01234568 0.01234568 0.01234568 ... 0.01234568 0.01234568 0.01234568]\n",
      " [0.01234568 0.01234568 0.01234568 ... 0.01234568 0.01234568 0.01234568]\n",
      " ...\n",
      " [0.01234568 0.01234568 0.01234568 ... 0.01234568 0.01234568 0.01234568]\n",
      " [0.01234568 0.01234568 0.01234568 ... 0.01234568 0.01234568 0.01234568]\n",
      " [0.01234568 0.01234568 0.01234568 ... 0.01234568 0.01234568 0.01234568]]\n",
      "1.0\n",
      "B:\n",
      " [[9.50617284e-01 6.17283951e-04 6.17283951e-04 ... 6.17283951e-04\n",
      "  6.17283951e-04 6.17283951e-04]\n",
      " [6.17283951e-04 9.50617284e-01 6.17283951e-04 ... 6.17283951e-04\n",
      "  6.17283951e-04 6.17283951e-04]\n",
      " [6.17283951e-04 6.17283951e-04 9.50617284e-01 ... 6.17283951e-04\n",
      "  6.17283951e-04 6.17283951e-04]\n",
      " ...\n",
      " [6.17283951e-04 6.17283951e-04 6.17283951e-04 ... 9.50617284e-01\n",
      "  6.17283951e-04 6.17283951e-04]\n",
      " [6.17283951e-04 6.17283951e-04 6.17283951e-04 ... 6.17283951e-04\n",
      "  9.50617284e-01 6.17283951e-04]\n",
      " [6.17283951e-04 6.17283951e-04 6.17283951e-04 ... 6.17283951e-04\n",
      "  6.17283951e-04 9.50617284e-01]]\n",
      "1.0\n",
      "Pi:\n",
      " [2.71665308e-04 2.71665308e-04 2.71665308e-04 2.71665308e-04\n",
      " 2.71665308e-04 2.71665308e-04 2.71665308e-04 2.71665308e-04\n",
      " 2.71665308e-04 2.71665308e-04 2.71665308e-04 2.71665308e-04\n",
      " 2.71665308e-04 2.71665308e-04 2.71665308e-04 2.71665308e-04\n",
      " 2.71665308e-04 2.71665308e-04 2.71665308e-04 2.71665308e-04\n",
      " 2.71665308e-04 2.71665308e-04 2.71665308e-04 2.71665308e-04\n",
      " 2.71665308e-04 2.71665308e-04 2.71665308e-04 2.71665308e-04\n",
      " 2.71665308e-04 2.71665308e-04 2.71665308e-04 2.71665308e-04\n",
      " 2.71665308e-04 2.71665308e-04 2.71665308e-04 2.71665308e-04\n",
      " 2.71665308e-04 2.71665308e-04 2.71665308e-04 9.78266775e-01\n",
      " 2.71665308e-04 2.71665308e-04 2.71665308e-04 2.71665308e-04\n",
      " 2.71665308e-04 2.71665308e-04 2.71665308e-04 2.71665308e-04\n",
      " 2.71665308e-04 2.71665308e-04 2.71665308e-04 2.71665308e-04\n",
      " 2.71665308e-04 2.71665308e-04 2.71665308e-04 2.71665308e-04\n",
      " 2.71665308e-04 2.71665308e-04 2.71665308e-04 2.71665308e-04\n",
      " 2.71665308e-04 2.71665308e-04 2.71665308e-04 2.71665308e-04\n",
      " 2.71665308e-04 2.71665308e-04 2.71665308e-04 2.71665308e-04\n",
      " 2.71665308e-04 2.71665308e-04 2.71665308e-04 2.71665308e-04\n",
      " 2.71665308e-04 2.71665308e-04 2.71665308e-04 2.71665308e-04\n",
      " 2.71665308e-04 2.71665308e-04 2.71665308e-04 2.71665308e-04\n",
      " 2.71665308e-04]\n",
      "1.0\n"
     ]
    }
   ],
   "source": [
    "# creating observation matrix, assuming each states has ~90% prob to emit the state itself as observation\n",
    "# (.1 / N_nodes) for all observations for numerical stability\n",
    "B = (np.ones(N_nodes) * (prob_emission_not_equals_hidden / N_nodes)) + (np.eye(N_nodes) * \n",
    "                                                                        prob_emission_equals_hidden)\n",
    "# B = np.eye(N_nodes)\n",
    "\n",
    "# normalise B (make sure probs sum up to 1)\n",
    "row_sums = B.sum(axis=1)\n",
    "B = B / row_sums[:, np.newaxis]\n",
    "B_row_sums = []\n",
    "for row in B:\n",
    "    B_row_sums.append(row.sum())\n",
    "print(np.mean(B_row_sums))\n",
    "\n",
    "\n",
    "# Pi is the vector of initial state probabilities. Using distribution present in path-crossing e.g.s\n",
    "Pi = (np.ones((1, N_nodes)))[0]\n",
    "for seq in pcl_seqs:\n",
    "    Pi[seq[0]] += init_prob_factor\n",
    "\n",
    "# normalise Pi (make sure probs sum up to 1)\n",
    "row_sums = Pi.sum()\n",
    "Pi = Pi / row_sums\n",
    "\n",
    "print(Pi)\n",
    "print(Pi.sum())\n",
    "\n",
    "# Create HMM using the overtake e.g. parameters\n",
    "pclHMM = hmms.DtHMM(A, B, Pi)\n",
    "\n",
    "# Check otHMM params\n",
    "A, B, Pi = pclHMM.params\n",
    "print(\"A:\\n\", A)\n",
    "A_row_sums = []\n",
    "for row in A:\n",
    "    A_row_sums.append(row.sum())\n",
    "print(np.mean(A_row_sums))\n",
    "print(\"B:\\n\", B)\n",
    "B_row_sums = []\n",
    "for row in B:\n",
    "    B_row_sums.append(row.sum())\n",
    "print(np.mean(B_row_sums))\n",
    "print(\"Pi:\\n\", Pi)\n",
    "print(Pi.sum())"
   ]
  },
  {
   "cell_type": "code",
   "execution_count": 45,
   "metadata": {},
   "outputs": [
    {
     "data": {
      "text/plain": [
       "0.00037299515106303626"
      ]
     },
     "execution_count": 45,
     "metadata": {},
     "output_type": "execute_result"
    }
   ],
   "source": [
    "A.min()"
   ]
  },
  {
   "cell_type": "code",
   "execution_count": 46,
   "metadata": {},
   "outputs": [],
   "source": [
    "# draw_transition_matrix(A, \"QTC_C_Path_Crossing_Lab_Egs_Transitions\", 0.0124)"
   ]
  },
  {
   "cell_type": "code",
   "execution_count": 47,
   "metadata": {
    "scrolled": true
   },
   "outputs": [
    {
     "name": "stdout",
     "output_type": "stream",
     "text": [
      "Path-crossing left HMM:\n"
     ]
    },
    {
     "data": {
      "image/png": "[encoded data removed]",
      "text/plain": [
       "<Figure size 1440x1440 with 1 Axes>"
      ]
     },
     "metadata": {},
     "output_type": "display_data"
    },
    {
     "name": "stdout",
     "output_type": "stream",
     "text": [
      "['---+', '---0', '----', '0---', '+---', '----']\n"
     ]
    }
   ],
   "source": [
    "# sample a random sequence from the model (for testing and generation)\n",
    "# sample uniformly\n",
    "s_seq, e_seq = pclHMM.generate(6)\n",
    "\n",
    "# resize plot\n",
    "plt.rcParams['figure.figsize'] = [20, 20]\n",
    "\n",
    "print(\"Path-crossing left HMM:\")\n",
    "hmms.plot_hmm(s_seq, e_seq)\n",
    "s_seq_QTC_C_map = map(num_to_QTC_C, s_seq)\n",
    "print(list(s_seq_QTC_C_map))"
   ]
  },
  {
   "cell_type": "markdown",
   "metadata": {},
   "source": [
    "## Creating human crossing robot path from right HMM"
   ]
  },
  {
   "cell_type": "code",
   "execution_count": 48,
   "metadata": {},
   "outputs": [],
   "source": [
    "pcr_seqs = pcr_study_seqs"
   ]
  },
  {
   "cell_type": "code",
   "execution_count": 49,
   "metadata": {},
   "outputs": [
    {
     "name": "stdout",
     "output_type": "stream",
     "text": [
      "[[37], [37, 10], [37], [37, 64], [37], [37, 10], [37, 10, 9], [37], [37, 36], [37], [37, 11], [37], [37, 10], [37, 10, 9], [37], [37], [37, 0], [37], [37, 10], [37]]\n"
     ]
    },
    {
     "data": {
      "text/plain": [
       "[['--+-'],\n",
       " ['--+-', '+-+-'],\n",
       " ['--+-'],\n",
       " ['--+-', '0-+-'],\n",
       " ['--+-'],\n",
       " ['--+-', '+-+-'],\n",
       " ['--+-', '+-+-', '+-++'],\n",
       " ['--+-'],\n",
       " ['--+-', '--++'],\n",
       " ['--+-'],\n",
       " ['--+-', '+-+0'],\n",
       " ['--+-'],\n",
       " ['--+-', '+-+-'],\n",
       " ['--+-', '+-+-', '+-++'],\n",
       " ['--+-'],\n",
       " ['--+-'],\n",
       " ['--+-', '++++'],\n",
       " ['--+-'],\n",
       " ['--+-', '+-+-'],\n",
       " ['--+-']]"
      ]
     },
     "execution_count": 49,
     "metadata": {},
     "output_type": "execute_result"
    }
   ],
   "source": [
    "pcr_seqs = [list(map(QTC_C_to_num, seq)) for seq in pcr_seqs]\n",
    "print(pcr_seqs)\n",
    "[list(map(num_to_QTC_C, seq)) for seq in pcr_seqs]"
   ]
  },
  {
   "cell_type": "code",
   "execution_count": 50,
   "metadata": {},
   "outputs": [
    {
     "name": "stdout",
     "output_type": "stream",
     "text": [
      "(81, 81)\n",
      "0\n",
      "0\n",
      "0\n",
      "0\n",
      "1\n",
      "0\n",
      "0\n",
      "0\n",
      "0\n",
      "1\n",
      "0\n",
      "0\n",
      "[1. 1. 1. 1. 1. 1. 1. 1. 1. 1. 1. 1. 1. 1. 1. 1. 1. 1. 1. 1. 1. 1. 1. 1.\n",
      " 1. 1. 1. 1. 1. 1. 1. 1. 1. 1. 1. 1. 1. 1. 1. 1. 1. 1. 1. 1. 1. 1. 1. 1.\n",
      " 1. 1. 1. 1. 1. 1. 1. 1. 1. 1. 1. 1. 1. 1. 1. 1. 1. 1. 1. 1. 1. 1. 1. 1.\n",
      " 1. 1. 1. 1. 1. 1. 1. 1. 1.]\n",
      "[[0.01234568 0.01234568 0.01234568 ... 0.01234568 0.01234568 0.01234568]\n",
      " [0.01234568 0.01234568 0.01234568 ... 0.01234568 0.01234568 0.01234568]\n",
      " [0.01234568 0.01234568 0.01234568 ... 0.01234568 0.01234568 0.01234568]\n",
      " ...\n",
      " [0.01234568 0.01234568 0.01234568 ... 0.01234568 0.01234568 0.01234568]\n",
      " [0.01234568 0.01234568 0.01234568 ... 0.01234568 0.01234568 0.01234568]\n",
      " [0.01234568 0.01234568 0.01234568 ... 0.01234568 0.01234568 0.01234568]]\n"
     ]
    }
   ],
   "source": [
    "# Create transition matrix from handwritten examples of path-crossing QTC_C sequences\n",
    "\n",
    "# Defining a graph of N_nodes states\n",
    "# Give low prob. to transitions not present in e.g.s\n",
    "A = np.ones((N_nodes, N_nodes))\n",
    "print(A.shape)\n",
    "\n",
    "# Give frequency based probs to e.g. transitions\n",
    "for seq in pcr_seqs:\n",
    "    for i in range(0, len(seq) - 1):\n",
    "        print(i)\n",
    "        A[seq[i], seq[i + 1]] += trans_prob_factor\n",
    "\n",
    "# normalise A (make sure probs sum up to 1)\n",
    "row_sums = A.sum(axis=1)\n",
    "A = A / row_sums[:, np.newaxis]\n",
    "\n",
    "# summing all column of transition matrix\n",
    "rs = np.sum(A, 1)\n",
    "print(rs)\n",
    "print(A)"
   ]
  },
  {
   "cell_type": "code",
   "execution_count": 51,
   "metadata": {},
   "outputs": [
    {
     "name": "stdout",
     "output_type": "stream",
     "text": [
      "1.0\n",
      "[4.80538203e-04 4.80538203e-04 4.80538203e-04 4.80538203e-04\n",
      " 4.80538203e-04 4.80538203e-04 4.80538203e-04 4.80538203e-04\n",
      " 4.80538203e-04 4.80538203e-04 4.80538203e-04 4.80538203e-04\n",
      " 4.80538203e-04 4.80538203e-04 4.80538203e-04 4.80538203e-04\n",
      " 4.80538203e-04 4.80538203e-04 4.80538203e-04 4.80538203e-04\n",
      " 4.80538203e-04 4.80538203e-04 4.80538203e-04 4.80538203e-04\n",
      " 4.80538203e-04 4.80538203e-04 4.80538203e-04 4.80538203e-04\n",
      " 4.80538203e-04 4.80538203e-04 4.80538203e-04 4.80538203e-04\n",
      " 4.80538203e-04 4.80538203e-04 4.80538203e-04 4.80538203e-04\n",
      " 4.80538203e-04 9.61556944e-01 4.80538203e-04 4.80538203e-04\n",
      " 4.80538203e-04 4.80538203e-04 4.80538203e-04 4.80538203e-04\n",
      " 4.80538203e-04 4.80538203e-04 4.80538203e-04 4.80538203e-04\n",
      " 4.80538203e-04 4.80538203e-04 4.80538203e-04 4.80538203e-04\n",
      " 4.80538203e-04 4.80538203e-04 4.80538203e-04 4.80538203e-04\n",
      " 4.80538203e-04 4.80538203e-04 4.80538203e-04 4.80538203e-04\n",
      " 4.80538203e-04 4.80538203e-04 4.80538203e-04 4.80538203e-04\n",
      " 4.80538203e-04 4.80538203e-04 4.80538203e-04 4.80538203e-04\n",
      " 4.80538203e-04 4.80538203e-04 4.80538203e-04 4.80538203e-04\n",
      " 4.80538203e-04 4.80538203e-04 4.80538203e-04 4.80538203e-04\n",
      " 4.80538203e-04 4.80538203e-04 4.80538203e-04 4.80538203e-04\n",
      " 4.80538203e-04]\n",
      "1.0\n",
      "A:\n",
      " [[0.01234568 0.01234568 0.01234568 ... 0.01234568 0.01234568 0.01234568]\n",
      " [0.01234568 0.01234568 0.01234568 ... 0.01234568 0.01234568 0.01234568]\n",
      " [0.01234568 0.01234568 0.01234568 ... 0.01234568 0.01234568 0.01234568]\n",
      " ...\n",
      " [0.01234568 0.01234568 0.01234568 ... 0.01234568 0.01234568 0.01234568]\n",
      " [0.01234568 0.01234568 0.01234568 ... 0.01234568 0.01234568 0.01234568]\n",
      " [0.01234568 0.01234568 0.01234568 ... 0.01234568 0.01234568 0.01234568]]\n",
      "0.9999999999999998\n",
      "B:\n",
      " [[9.50617284e-01 6.17283951e-04 6.17283951e-04 ... 6.17283951e-04\n",
      "  6.17283951e-04 6.17283951e-04]\n",
      " [6.17283951e-04 9.50617284e-01 6.17283951e-04 ... 6.17283951e-04\n",
      "  6.17283951e-04 6.17283951e-04]\n",
      " [6.17283951e-04 6.17283951e-04 9.50617284e-01 ... 6.17283951e-04\n",
      "  6.17283951e-04 6.17283951e-04]\n",
      " ...\n",
      " [6.17283951e-04 6.17283951e-04 6.17283951e-04 ... 9.50617284e-01\n",
      "  6.17283951e-04 6.17283951e-04]\n",
      " [6.17283951e-04 6.17283951e-04 6.17283951e-04 ... 6.17283951e-04\n",
      "  9.50617284e-01 6.17283951e-04]\n",
      " [6.17283951e-04 6.17283951e-04 6.17283951e-04 ... 6.17283951e-04\n",
      "  6.17283951e-04 9.50617284e-01]]\n",
      "1.0\n",
      "Pi:\n",
      " [4.80538203e-04 4.80538203e-04 4.80538203e-04 4.80538203e-04\n",
      " 4.80538203e-04 4.80538203e-04 4.80538203e-04 4.80538203e-04\n",
      " 4.80538203e-04 4.80538203e-04 4.80538203e-04 4.80538203e-04\n",
      " 4.80538203e-04 4.80538203e-04 4.80538203e-04 4.80538203e-04\n",
      " 4.80538203e-04 4.80538203e-04 4.80538203e-04 4.80538203e-04\n",
      " 4.80538203e-04 4.80538203e-04 4.80538203e-04 4.80538203e-04\n",
      " 4.80538203e-04 4.80538203e-04 4.80538203e-04 4.80538203e-04\n",
      " 4.80538203e-04 4.80538203e-04 4.80538203e-04 4.80538203e-04\n",
      " 4.80538203e-04 4.80538203e-04 4.80538203e-04 4.80538203e-04\n",
      " 4.80538203e-04 9.61556944e-01 4.80538203e-04 4.80538203e-04\n",
      " 4.80538203e-04 4.80538203e-04 4.80538203e-04 4.80538203e-04\n",
      " 4.80538203e-04 4.80538203e-04 4.80538203e-04 4.80538203e-04\n",
      " 4.80538203e-04 4.80538203e-04 4.80538203e-04 4.80538203e-04\n",
      " 4.80538203e-04 4.80538203e-04 4.80538203e-04 4.80538203e-04\n",
      " 4.80538203e-04 4.80538203e-04 4.80538203e-04 4.80538203e-04\n",
      " 4.80538203e-04 4.80538203e-04 4.80538203e-04 4.80538203e-04\n",
      " 4.80538203e-04 4.80538203e-04 4.80538203e-04 4.80538203e-04\n",
      " 4.80538203e-04 4.80538203e-04 4.80538203e-04 4.80538203e-04\n",
      " 4.80538203e-04 4.80538203e-04 4.80538203e-04 4.80538203e-04\n",
      " 4.80538203e-04 4.80538203e-04 4.80538203e-04 4.80538203e-04\n",
      " 4.80538203e-04]\n",
      "1.0000000000000002\n"
     ]
    }
   ],
   "source": [
    "# creating observation matrix, assuming each states has ~90% prob to emit the state itself as observation\n",
    "# (.1 / N_nodes) for all observations for numerical stability\n",
    "B = (np.ones(N_nodes) * (prob_emission_not_equals_hidden / N_nodes)) + (np.eye(N_nodes) * \n",
    "                                                                        prob_emission_equals_hidden)\n",
    "# B = np.eye(N_nodes)\n",
    "\n",
    "# normalise B (make sure probs sum up to 1)\n",
    "row_sums = B.sum(axis=1)\n",
    "B = B / row_sums[:, np.newaxis]\n",
    "B_row_sums = []\n",
    "for row in B:\n",
    "    B_row_sums.append(row.sum())\n",
    "print(np.mean(B_row_sums))\n",
    "\n",
    "\n",
    "# Pi is the vector of initial state probabilities. Using distribution present in path-crossing e.g.s\n",
    "Pi = (np.ones((1, N_nodes)))[0]\n",
    "for seq in pcr_seqs:\n",
    "    Pi[seq[0]] += init_prob_factor\n",
    "\n",
    "# normalise Pi (make sure probs sum up to 1)\n",
    "row_sums = Pi.sum()\n",
    "Pi = Pi / row_sums\n",
    "\n",
    "print(Pi)\n",
    "print(Pi.sum())\n",
    "\n",
    "# Create HMM using the overtake e.g. parameters\n",
    "pcrHMM = hmms.DtHMM(A, B, Pi)\n",
    "\n",
    "# Check otHMM params\n",
    "A, B, Pi = pcrHMM.params\n",
    "print(\"A:\\n\", A)\n",
    "A_row_sums = []\n",
    "for row in A:\n",
    "    A_row_sums.append(row.sum())\n",
    "print(np.mean(A_row_sums))\n",
    "print(\"B:\\n\", B)\n",
    "B_row_sums = []\n",
    "for row in B:\n",
    "    B_row_sums.append(row.sum())\n",
    "print(np.mean(B_row_sums))\n",
    "print(\"Pi:\\n\", Pi)\n",
    "print(Pi.sum())"
   ]
  },
  {
   "cell_type": "code",
   "execution_count": 52,
   "metadata": {},
   "outputs": [
    {
     "data": {
      "text/plain": [
       "0.0009250693802035154"
      ]
     },
     "execution_count": 52,
     "metadata": {},
     "output_type": "execute_result"
    }
   ],
   "source": [
    "A.min()"
   ]
  },
  {
   "cell_type": "code",
   "execution_count": 53,
   "metadata": {},
   "outputs": [],
   "source": [
    "# draw_transition_matrix(A, \"QTC_C_Path_Crossing_Lab_Egs_Transitions\", 0.0124)"
   ]
  },
  {
   "cell_type": "code",
   "execution_count": 54,
   "metadata": {
    "scrolled": true
   },
   "outputs": [
    {
     "name": "stdout",
     "output_type": "stream",
     "text": [
      "Path-crossing right HMM:\n"
     ]
    },
    {
     "data": {
      "image/png": "[encoded data removed]",
      "text/plain": [
       "<Figure size 1440x1440 with 1 Axes>"
      ]
     },
     "metadata": {},
     "output_type": "display_data"
    },
    {
     "name": "stdout",
     "output_type": "stream",
     "text": [
      "['--+-', '+-+-', '+-++', '+0+0', '---0', '--0+']\n"
     ]
    }
   ],
   "source": [
    "# sample a random sequence from the model (for testing and generation)\n",
    "# sample uniformly\n",
    "s_seq, e_seq = pcrHMM.generate(6)\n",
    "\n",
    "# resize plot\n",
    "plt.rcParams['figure.figsize'] = [20, 20]\n",
    "\n",
    "print(\"Path-crossing right HMM:\")\n",
    "hmms.plot_hmm(s_seq, e_seq)\n",
    "s_seq_QTC_C_map = map(num_to_QTC_C, s_seq)\n",
    "print(list(s_seq_QTC_C_map))"
   ]
  },
  {
   "cell_type": "code",
   "execution_count": 70,
   "metadata": {},
   "outputs": [],
   "source": [
    "def classify_QTC_seqs(e_seqs):\n",
    "    ll_pb_l = pblHMM.data_estimate(e_seqs)\n",
    "    # print(ll_pb_l)\n",
    "    prob_pb_l = np.exp(ll_pb_l)\n",
    "\n",
    "    # print(\"The probability of the dataset being generated by the pass-by left model is:\", \\\n",
    "    #       prob_pb_l, \".\")\n",
    "\n",
    "    ll_pb_r = pbrHMM.data_estimate(e_seqs)\n",
    "    # print(ll_pb_r)\n",
    "    prob_pb_r = np.exp(ll_pb_r)\n",
    "\n",
    "    # print(\"The probability of the dataset being generated by the pass-by right model is:\", \\\n",
    "    #       prob_pb_r, \".\")\n",
    "\n",
    "    # print(\"The probability of the dataset being generated by the rejection model is:\", \\\n",
    "    #       prob_uniform, \".\")\n",
    "\n",
    "    ll_rotl = rotlHMM.data_estimate(e_seqs)\n",
    "    # print(ll_rotl)\n",
    "    prob_rotl = np.exp(ll_rotl)\n",
    "\n",
    "    # print(\"The probability of the dataset being generated by the robot overtaking left model is:\", \\\n",
    "    #       prob_rotl, \".\")\n",
    "\n",
    "    ll_rotr = rotrHMM.data_estimate(e_seqs)\n",
    "    # print(ll_rotr)\n",
    "    prob_rotr = np.exp(ll_rotr)\n",
    "\n",
    "    # print(\"The probability of the dataset being generated by the robot overtaking right model is:\", \\\n",
    "    #       prob_rotr, \".\")\n",
    "\n",
    "    ll_pcl = pclHMM.data_estimate(e_seqs)\n",
    "    # print(ll_pcl)\n",
    "    prob_pcl = np.exp(ll_pcl)\n",
    "    \n",
    "    ll_pcr = pcrHMM.data_estimate(e_seqs)\n",
    "    # print(ll_pcr)\n",
    "    prob_pcr = np.exp(ll_pcr)\n",
    "\n",
    "    lls = [ll_pb_l, ll_pb_r, ll_rotl, ll_rotr, ll_pcl, ll_pcr]\n",
    "    class_id = np.argmax(lls)\n",
    "    if class_id in [0, 2, 4]:\n",
    "        class_id = 0\n",
    "    else:\n",
    "        class_id = 1\n",
    "    KL = entropy(lls, [1/len(lls) for ll in lls])\n",
    "    if KL < rejection_KL_thresh:\n",
    "        pred = \"rejection\"\n",
    "        class_id = len(binary_classes)\n",
    "    else:\n",
    "        pred = binary_classes[class_id]\n",
    "    print(\"Classified as\", pred)\n",
    "    print(\"KL divergence of likelihoods from uniform distribution:\", KL)\n",
    "    \n",
    "    return class_id"
   ]
  },
  {
   "cell_type": "markdown",
   "metadata": {
    "scrolled": true
   },
   "source": [
    "## Classifying HRI situation of unmodelled QTC<sub>C</sub> sequences"
   ]
  },
  {
   "cell_type": "code",
   "execution_count": 71,
   "metadata": {},
   "outputs": [],
   "source": [
    "u_seqs = u_study_seqs"
   ]
  },
  {
   "cell_type": "code",
   "execution_count": 72,
   "metadata": {},
   "outputs": [
    {
     "name": "stdout",
     "output_type": "stream",
     "text": [
      "[[67], [67, 43], [67, 43, 37], [67, 43, 37, 64], [67, 43, 37, 64, 13], [67, 43, 37, 64, 13, 64], [67, 43, 37, 64, 13, 64, 10], [67, 43, 37, 64, 13, 64, 10, 67], [67, 43, 37, 64, 13, 64, 10, 67, 40], [67, 43, 37, 64, 13, 64, 10, 67, 40, 76], [67, 43, 37, 64, 13, 64, 10, 67, 40, 76, 80], [67, 43, 37, 64, 13, 64, 10, 67, 40, 76, 80, 74], [67, 43, 37, 64, 13, 64, 10, 67, 40, 76, 80, 74, 80], [40], [40, 43], [40, 43, 64], [40, 43, 64, 37], [40, 43, 64, 37, 64], [40, 43, 64, 37, 64, 10], [40, 43, 64, 37, 64, 10, 40], [40, 43, 64, 37, 64, 10, 40, 67], [40, 43, 64, 37, 64, 10, 40, 67, 74], [40, 43, 64, 37, 64, 10, 40, 67, 74, 80]]\n"
     ]
    },
    {
     "data": {
      "text/plain": [
       "[['0---'],\n",
       " ['0---', '--0-'],\n",
       " ['0---', '--0-', '--+-'],\n",
       " ['0---', '--0-', '--+-', '0-+-'],\n",
       " ['0---', '--0-', '--+-', '0-+-', '+---'],\n",
       " ['0---', '--0-', '--+-', '0-+-', '+---', '0-+-'],\n",
       " ['0---', '--0-', '--+-', '0-+-', '+---', '0-+-', '+-+-'],\n",
       " ['0---', '--0-', '--+-', '0-+-', '+---', '0-+-', '+-+-', '0---'],\n",
       " ['0---', '--0-', '--+-', '0-+-', '+---', '0-+-', '+-+-', '0---', '----'],\n",
       " ['0---',\n",
       "  '--0-',\n",
       "  '--+-',\n",
       "  '0-+-',\n",
       "  '+---',\n",
       "  '0-+-',\n",
       "  '+-+-',\n",
       "  '0---',\n",
       "  '----',\n",
       "  '00--'],\n",
       " ['0---',\n",
       "  '--0-',\n",
       "  '--+-',\n",
       "  '0-+-',\n",
       "  '+---',\n",
       "  '0-+-',\n",
       "  '+-+-',\n",
       "  '0---',\n",
       "  '----',\n",
       "  '00--',\n",
       "  '0000'],\n",
       " ['0---',\n",
       "  '--0-',\n",
       "  '--+-',\n",
       "  '0-+-',\n",
       "  '+---',\n",
       "  '0-+-',\n",
       "  '+-+-',\n",
       "  '0---',\n",
       "  '----',\n",
       "  '00--',\n",
       "  '0000',\n",
       "  '00+0'],\n",
       " ['0---',\n",
       "  '--0-',\n",
       "  '--+-',\n",
       "  '0-+-',\n",
       "  '+---',\n",
       "  '0-+-',\n",
       "  '+-+-',\n",
       "  '0---',\n",
       "  '----',\n",
       "  '00--',\n",
       "  '0000',\n",
       "  '00+0',\n",
       "  '0000'],\n",
       " ['----'],\n",
       " ['----', '--0-'],\n",
       " ['----', '--0-', '0-+-'],\n",
       " ['----', '--0-', '0-+-', '--+-'],\n",
       " ['----', '--0-', '0-+-', '--+-', '0-+-'],\n",
       " ['----', '--0-', '0-+-', '--+-', '0-+-', '+-+-'],\n",
       " ['----', '--0-', '0-+-', '--+-', '0-+-', '+-+-', '----'],\n",
       " ['----', '--0-', '0-+-', '--+-', '0-+-', '+-+-', '----', '0---'],\n",
       " ['----', '--0-', '0-+-', '--+-', '0-+-', '+-+-', '----', '0---', '00+0'],\n",
       " ['----',\n",
       "  '--0-',\n",
       "  '0-+-',\n",
       "  '--+-',\n",
       "  '0-+-',\n",
       "  '+-+-',\n",
       "  '----',\n",
       "  '0---',\n",
       "  '00+0',\n",
       "  '0000']]"
      ]
     },
     "execution_count": 72,
     "metadata": {},
     "output_type": "execute_result"
    }
   ],
   "source": [
    "u_seqs = [list(map(QTC_C_to_num, seq)) for seq in u_seqs]\n",
    "print(u_seqs)\n",
    "[list(map(num_to_QTC_C, seq)) for seq in u_seqs]"
   ]
  },
  {
   "cell_type": "code",
   "execution_count": 73,
   "metadata": {},
   "outputs": [],
   "source": [
    "u_seqs = [np.array(seq) for seq in u_seqs]"
   ]
  },
  {
   "cell_type": "code",
   "execution_count": 74,
   "metadata": {},
   "outputs": [
    {
     "name": "stdout",
     "output_type": "stream",
     "text": [
      "Classified as rejection\n",
      "KL divergence of likelihoods from uniform distribution: 0.0003906768705335918\n"
     ]
    },
    {
     "data": {
      "text/plain": [
       "2"
      ]
     },
     "execution_count": 74,
     "metadata": {},
     "output_type": "execute_result"
    }
   ],
   "source": [
    "# Generate dataset of both hidden states and emissions sequences from uniform HMM\n",
    "# symbol_seqs = [[QTC_C_to_num(qtc) for qtc in u_seq] for u_seq in u_seqs]\n",
    "e_seqs = np.array(u_seqs)\n",
    "\n",
    "classify_QTC_seqs(e_seqs)"
   ]
  },
  {
   "cell_type": "markdown",
   "metadata": {
    "scrolled": true
   },
   "source": [
    "## Classifying HRI situation of example pass-by left QTC<sub>C</sub> sequences"
   ]
  },
  {
   "cell_type": "code",
   "execution_count": 75,
   "metadata": {},
   "outputs": [],
   "source": [
    "pass_by_l_seqs = [np.array(seq) for seq in pass_by_l_seqs]"
   ]
  },
  {
   "cell_type": "code",
   "execution_count": 76,
   "metadata": {},
   "outputs": [
    {
     "name": "stdout",
     "output_type": "stream",
     "text": [
      "Classified as BL\n",
      "KL divergence of likelihoods from uniform distribution: 0.10190097773122526\n"
     ]
    },
    {
     "data": {
      "text/plain": [
       "0"
      ]
     },
     "execution_count": 76,
     "metadata": {},
     "output_type": "execute_result"
    }
   ],
   "source": [
    "# Get dataset of both hidden states and emissions sequences from example pass-by sequences\n",
    "e_seqs = np.array(pass_by_l_seqs)\n",
    "\n",
    "classify_QTC_seqs(e_seqs)"
   ]
  },
  {
   "cell_type": "markdown",
   "metadata": {
    "scrolled": true
   },
   "source": [
    "## Classifying HRI situation of example pass-by right QTC<sub>C</sub> sequences"
   ]
  },
  {
   "cell_type": "code",
   "execution_count": 77,
   "metadata": {},
   "outputs": [],
   "source": [
    "pass_by_r_seqs = [np.array(seq) for seq in pass_by_r_seqs]"
   ]
  },
  {
   "cell_type": "code",
   "execution_count": 78,
   "metadata": {},
   "outputs": [
    {
     "name": "stdout",
     "output_type": "stream",
     "text": [
      "Classified as BR\n",
      "KL divergence of likelihoods from uniform distribution: 0.10188930952893872\n"
     ]
    },
    {
     "data": {
      "text/plain": [
       "1"
      ]
     },
     "execution_count": 78,
     "metadata": {},
     "output_type": "execute_result"
    }
   ],
   "source": [
    "# Get dataset of both hidden states and emissions sequences from example pass-by sequences\n",
    "e_seqs = np.array(pass_by_r_seqs)\n",
    "\n",
    "classify_QTC_seqs(e_seqs)"
   ]
  },
  {
   "cell_type": "markdown",
   "metadata": {
    "scrolled": true
   },
   "source": [
    "## Classifying HRI situation of example robot overtaking left QTC<sub>C</sub> sequences"
   ]
  },
  {
   "cell_type": "code",
   "execution_count": 79,
   "metadata": {},
   "outputs": [],
   "source": [
    "rotl_seqs = [np.array(seq) for seq in rotl_seqs]"
   ]
  },
  {
   "cell_type": "code",
   "execution_count": 80,
   "metadata": {
    "scrolled": false
   },
   "outputs": [
    {
     "name": "stdout",
     "output_type": "stream",
     "text": [
      "Classified as BL\n",
      "KL divergence of likelihoods from uniform distribution: 0.08772703845169488\n"
     ]
    },
    {
     "data": {
      "text/plain": [
       "0"
      ]
     },
     "execution_count": 80,
     "metadata": {},
     "output_type": "execute_result"
    }
   ],
   "source": [
    "# Get dataset of both hidden states and emissions sequences from example pass-by sequences\n",
    "e_seqs = np.array(rotl_seqs)\n",
    "\n",
    "classify_QTC_seqs(e_seqs)"
   ]
  },
  {
   "cell_type": "markdown",
   "metadata": {
    "scrolled": true
   },
   "source": [
    "## Classifying HRI situation of example robot overtaking right QTC<sub>C</sub> sequences"
   ]
  },
  {
   "cell_type": "code",
   "execution_count": 81,
   "metadata": {},
   "outputs": [],
   "source": [
    "rotr_seqs = [np.array(seq) for seq in rotr_seqs]"
   ]
  },
  {
   "cell_type": "code",
   "execution_count": 82,
   "metadata": {
    "scrolled": false
   },
   "outputs": [
    {
     "name": "stdout",
     "output_type": "stream",
     "text": [
      "Classified as BR\n",
      "KL divergence of likelihoods from uniform distribution: 0.11947002773247697\n"
     ]
    },
    {
     "data": {
      "text/plain": [
       "1"
      ]
     },
     "execution_count": 82,
     "metadata": {},
     "output_type": "execute_result"
    }
   ],
   "source": [
    "# Get dataset of both hidden states and emissions sequences from example pass-by sequences\n",
    "e_seqs = np.array(rotr_seqs)\n",
    "\n",
    "classify_QTC_seqs(e_seqs)"
   ]
  },
  {
   "cell_type": "markdown",
   "metadata": {
    "scrolled": true
   },
   "source": [
    "## Classifying HRI situation of example path-crossing left QTC<sub>C</sub> sequences"
   ]
  },
  {
   "cell_type": "code",
   "execution_count": 83,
   "metadata": {},
   "outputs": [],
   "source": [
    "pcl_seqs = [np.array(seq) for seq in pcl_seqs]"
   ]
  },
  {
   "cell_type": "code",
   "execution_count": 84,
   "metadata": {
    "scrolled": false
   },
   "outputs": [
    {
     "name": "stdout",
     "output_type": "stream",
     "text": [
      "Classified as BL\n",
      "KL divergence of likelihoods from uniform distribution: 0.11606888244039887\n"
     ]
    },
    {
     "data": {
      "text/plain": [
       "0"
      ]
     },
     "execution_count": 84,
     "metadata": {},
     "output_type": "execute_result"
    }
   ],
   "source": [
    "# Get dataset of both hidden states and emissions sequences from example pass-by sequences\n",
    "e_seqs = np.array(pcl_seqs)\n",
    "\n",
    "classify_QTC_seqs(e_seqs)"
   ]
  },
  {
   "cell_type": "markdown",
   "metadata": {
    "scrolled": true
   },
   "source": [
    "## Classifying HRI situation of example path-crossing right QTC<sub>C</sub> sequences"
   ]
  },
  {
   "cell_type": "code",
   "execution_count": 85,
   "metadata": {},
   "outputs": [],
   "source": [
    "pcr_seqs = [np.array(seq) for seq in pcr_seqs]"
   ]
  },
  {
   "cell_type": "code",
   "execution_count": 86,
   "metadata": {
    "scrolled": true
   },
   "outputs": [
    {
     "name": "stdout",
     "output_type": "stream",
     "text": [
      "Classified as BR\n",
      "KL divergence of likelihoods from uniform distribution: 0.15039480443596287\n"
     ]
    },
    {
     "data": {
      "text/plain": [
       "1"
      ]
     },
     "execution_count": 86,
     "metadata": {},
     "output_type": "execute_result"
    }
   ],
   "source": [
    "# Get dataset of both hidden states and emissions sequences from example pass-by sequences\n",
    "e_seqs = np.array(pcr_seqs)\n",
    "\n",
    "classify_QTC_seqs(e_seqs)"
   ]
  },
  {
   "cell_type": "markdown",
   "metadata": {
    "scrolled": true
   },
   "source": [
    "<!-- ## Classifying HRI situation of individual lab QTC<sub>C</sub> sequences -->"
   ]
  },
  {
   "cell_type": "code",
   "execution_count": 87,
   "metadata": {},
   "outputs": [
    {
     "name": "stdout",
     "output_type": "stream",
     "text": [
      "Classified as rejection\n",
      "Classified as rejection\n",
      "Classified as rejection\n",
      "Classified as rejection\n",
      "Classified as rejection\n",
      "Classified as rejection\n",
      "Classified as rejection\n",
      "Classified as rejection\n",
      "Classified as rejection\n",
      "Classified as rejection\n",
      "Classified as rejection\n",
      "Classified as rejection\n",
      "Classified as rejection\n",
      "Classified as PBL\n",
      "Classified as PBL\n",
      "Classified as rejection\n",
      "Classified as rejection\n",
      "Classified as rejection\n",
      "Classified as rejection\n",
      "Classified as rejection\n",
      "Classified as rejection\n",
      "Classified as rejection\n",
      "Classified as rejection\n"
     ]
    }
   ],
   "source": [
    "# Get hidden states and emissions sequences from observed sequences\n",
    "# sequence_no = 5\n",
    "\n",
    "KLs = []\n",
    "for sequence_no in range(len(u_study_seqs)):\n",
    "    symbol_seqs = [[QTC_C_to_num(qtc) for qtc in u_study_seqs[i]] for i in range(len(u_study_seqs))]\n",
    "    e_seqs = np.array([symbol_seqs[sequence_no]])\n",
    "    \n",
    "    ll_pb_l = pblHMM.data_estimate(e_seqs)\n",
    "    # print(ll_pb_l)\n",
    "    prob_pb_l = np.exp(ll_pb_l)\n",
    "\n",
    "    # print(\"The probability of the dataset being generated by the pass-by left model is:\", \\\n",
    "    #       prob_pb_l, \".\")\n",
    "\n",
    "    ll_pb_r = pbrHMM.data_estimate(e_seqs)\n",
    "    # print(ll_pb_r)\n",
    "    prob_pb_r = np.exp(ll_pb_r)\n",
    "\n",
    "    # print(\"The probability of the dataset being generated by the pass-by right model is:\", \\\n",
    "    #       prob_pb_r, \".\")\n",
    "\n",
    "    # print(\"The probability of the dataset being generated by the rejection model is:\", \\\n",
    "    #       prob_uniform, \".\")\n",
    "\n",
    "    ll_rotl = rotlHMM.data_estimate(e_seqs)\n",
    "    # print(ll_rotl)\n",
    "    prob_rotl = np.exp(ll_rotl)\n",
    "\n",
    "    # print(\"The probability of the dataset being generated by the robot overtaking left model is:\", \\\n",
    "    #       prob_rotl, \".\")\n",
    "\n",
    "    ll_rotr = rotrHMM.data_estimate(e_seqs)\n",
    "    # print(ll_rotr)\n",
    "    prob_rotr = np.exp(ll_rotr)\n",
    "\n",
    "    # print(\"The probability of the dataset being generated by the robot overtaking right model is:\", \\\n",
    "    #       prob_rotr, \".\")\n",
    "\n",
    "    ll_pcl = pclHMM.data_estimate(e_seqs)\n",
    "    # print(ll_pc)\n",
    "    prob_pcl = np.exp(ll_pcl)\n",
    "    \n",
    "    ll_pcr = pcrHMM.data_estimate(e_seqs)\n",
    "    # print(ll_pc)\n",
    "    prob_pcr = np.exp(ll_pcr)\n",
    "\n",
    "    # print(\"The probability of the dataset being generated by the path-crossing model is:\", \\\n",
    "    #       prob_pc, \".\")\n",
    "\n",
    "    # lls = [ll_pb_l, ll_pb_r, ll_rotl, ll_rotr, ll_pc, ll_uniform]\n",
    "    # classes = [\"pass-by left\", \"pass-by right\", \"robot overtaking left\", \"robot overtaking right\", \"path-crossing\", \"rejection\"]\n",
    "\n",
    "    lls = [ll_pb_l, ll_pb_r, ll_rotl, ll_rotr, ll_pcl, ll_pcr]\n",
    "    class_id = np.argmax(lls)\n",
    "    KL = entropy(lls, [1/len(lls) for ll in lls])\n",
    "    KLs.append(KL)\n",
    "    if KL > rejection_KL_thresh:\n",
    "        pred = classes[class_id]\n",
    "    else:\n",
    "        pred = \"rejection\"\n",
    "        class_id = len(classes)\n",
    "    print(\"Classified as\", pred)\n",
    "#     print(\"KL divergence of likelihoods from uniform distribution:\", KL)"
   ]
  },
  {
   "cell_type": "code",
   "execution_count": 88,
   "metadata": {},
   "outputs": [
    {
     "name": "stdout",
     "output_type": "stream",
     "text": [
      "KLs:\n",
      "\n",
      "Min: 7.657297942771169e-05\n",
      "Median 0.0011341528445566029\n",
      "Mean 0.0072422070994118065\n",
      "Max: 0.11495457817566868\n"
     ]
    }
   ],
   "source": [
    "print(\"KLs:\\n\")\n",
    "print(\"Min:\", np.min(KLs))\n",
    "print(\"Median\", np.median(KLs))\n",
    "print(\"Mean\", np.mean(KLs))\n",
    "print(\"Max:\", np.max(KLs))"
   ]
  },
  {
   "cell_type": "markdown",
   "metadata": {},
   "source": [
    "## K-fold CV of Classifying HRSI situation of all expert QTC<sub>C</sub> sequences"
   ]
  },
  {
   "cell_type": "code",
   "execution_count": 89,
   "metadata": {},
   "outputs": [
    {
     "data": {
      "text/plain": [
       "[[array([ 1,  3,  4,  5,  6,  7,  8, 10, 11, 15, 18, 19, 20, 21, 22, 23, 25,\n",
       "         26, 27, 28, 30, 31, 32, 33, 34, 35, 36, 38, 39, 40]),\n",
       "  array([ 0,  2,  9, 12, 13, 14, 16, 17, 24, 29, 37, 41, 42, 43, 44])],\n",
       " [array([ 0,  2,  7,  8,  9, 11, 12, 13, 14, 15, 16, 17, 18, 20, 21, 22, 24,\n",
       "         26, 28, 29, 31, 34, 36, 37, 39, 40, 41, 42, 43, 44]),\n",
       "  array([ 1,  3,  4,  5,  6, 10, 19, 23, 25, 27, 30, 32, 33, 35, 38])],\n",
       " [array([ 0,  1,  2,  3,  4,  5,  6,  9, 10, 12, 13, 14, 16, 17, 19, 23, 24,\n",
       "         25, 27, 29, 30, 32, 33, 35, 37, 38, 41, 42, 43, 44]),\n",
       "  array([ 7,  8, 11, 15, 18, 20, 21, 22, 26, 28, 31, 34, 36, 39, 40])]]"
      ]
     },
     "execution_count": 89,
     "metadata": {},
     "output_type": "execute_result"
    }
   ],
   "source": [
    "rotl_splits = []\n",
    "for train_index, test_index in KFold(n_splits=K, random_state=random_state, shuffle=True).split(rotl_study_seqs):\n",
    "    rotl_splits.append([train_index, test_index])\n",
    "    \n",
    "rotl_splits"
   ]
  },
  {
   "cell_type": "code",
   "execution_count": 90,
   "metadata": {},
   "outputs": [
    {
     "data": {
      "text/plain": [
       "[[array([ 1,  2,  4,  5,  7,  8,  9, 10, 11, 13, 15, 17, 18, 19, 22]),\n",
       "  array([ 0,  3,  6, 12, 14, 16, 20, 21])],\n",
       " [array([ 0,  3,  6,  8, 11, 12, 13, 14, 15, 16, 18, 19, 20, 21, 22]),\n",
       "  array([ 1,  2,  4,  5,  7,  9, 10, 17])],\n",
       " [array([ 0,  1,  2,  3,  4,  5,  6,  7,  9, 10, 12, 14, 16, 17, 20, 21]),\n",
       "  array([ 8, 11, 13, 15, 18, 19, 22])]]"
      ]
     },
     "execution_count": 90,
     "metadata": {},
     "output_type": "execute_result"
    }
   ],
   "source": [
    "rotr_splits = []\n",
    "for train_index, test_index in KFold(n_splits=K, random_state=random_state, shuffle=True).split(rotr_study_seqs):\n",
    "    rotr_splits.append([train_index, test_index])\n",
    "    \n",
    "rotr_splits"
   ]
  },
  {
   "cell_type": "code",
   "execution_count": 91,
   "metadata": {},
   "outputs": [
    {
     "data": {
      "text/plain": [
       "[[array([ 2,  4,  5,  7,  8, 10, 11, 12, 13, 15, 17, 18, 21, 22, 23, 25, 26,\n",
       "         27, 28]), array([ 0,  1,  3,  6,  9, 14, 16, 19, 20, 24])],\n",
       " [array([ 0,  1,  3,  6,  8,  9, 11, 13, 14, 15, 16, 18, 19, 20, 22, 23, 24,\n",
       "         25, 28]), array([ 2,  4,  5,  7, 10, 12, 17, 21, 26, 27])],\n",
       " [array([ 0,  1,  2,  3,  4,  5,  6,  7,  9, 10, 12, 14, 16, 17, 19, 20, 21,\n",
       "         24, 26, 27]), array([ 8, 11, 13, 15, 18, 22, 23, 25, 28])]]"
      ]
     },
     "execution_count": 91,
     "metadata": {},
     "output_type": "execute_result"
    }
   ],
   "source": [
    "pbl_splits = []\n",
    "for train_index, test_index in KFold(n_splits=K, random_state=random_state, shuffle=True).split(pb_l_study_seqs):\n",
    "    pbl_splits.append([train_index, test_index])\n",
    "    \n",
    "pbl_splits"
   ]
  },
  {
   "cell_type": "code",
   "execution_count": 92,
   "metadata": {},
   "outputs": [
    {
     "data": {
      "text/plain": [
       "[[array([ 1,  2,  4,  5,  7,  8, 10, 11, 13, 14, 15, 18, 19, 21, 22, 23, 25]),\n",
       "  array([ 0,  3,  6,  9, 12, 16, 17, 20, 24])],\n",
       " [array([ 0,  3,  6,  8,  9, 11, 12, 13, 15, 16, 17, 18, 20, 21, 22, 24, 25]),\n",
       "  array([ 1,  2,  4,  5,  7, 10, 14, 19, 23])],\n",
       " [array([ 0,  1,  2,  3,  4,  5,  6,  7,  9, 10, 12, 14, 16, 17, 19, 20, 23,\n",
       "         24]), array([ 8, 11, 13, 15, 18, 21, 22, 25])]]"
      ]
     },
     "execution_count": 92,
     "metadata": {},
     "output_type": "execute_result"
    }
   ],
   "source": [
    "pbr_splits = []\n",
    "for train_index, test_index in KFold(n_splits=K, random_state=random_state, shuffle=True).split(pb_r_study_seqs):\n",
    "    pbr_splits.append([train_index, test_index])\n",
    "    \n",
    "pbr_splits"
   ]
  },
  {
   "cell_type": "code",
   "execution_count": 93,
   "metadata": {},
   "outputs": [
    {
     "data": {
      "text/plain": [
       "[[array([ 2,  3,  4,  5,  6,  7,  8, 10, 11, 15, 17, 18, 19, 20, 21, 22, 23,\n",
       "         26, 29, 31, 32, 33, 34, 35]),\n",
       "  array([ 0,  1,  9, 12, 13, 14, 16, 24, 25, 27, 28, 30])],\n",
       " [array([ 0,  1,  2,  7,  8,  9, 11, 12, 13, 14, 15, 16, 17, 18, 21, 22, 24,\n",
       "         25, 27, 28, 30, 31, 34, 35]),\n",
       "  array([ 3,  4,  5,  6, 10, 19, 20, 23, 26, 29, 32, 33])],\n",
       " [array([ 0,  1,  3,  4,  5,  6,  9, 10, 12, 13, 14, 16, 19, 20, 23, 24, 25,\n",
       "         26, 27, 28, 29, 30, 32, 33]),\n",
       "  array([ 2,  7,  8, 11, 15, 17, 18, 21, 22, 31, 34, 35])]]"
      ]
     },
     "execution_count": 93,
     "metadata": {},
     "output_type": "execute_result"
    }
   ],
   "source": [
    "pcl_splits = []\n",
    "for train_index, test_index in KFold(n_splits=K, random_state=random_state, shuffle=True).split(pcl_study_seqs):\n",
    "    pcl_splits.append([train_index, test_index])\n",
    "    \n",
    "pcl_splits"
   ]
  },
  {
   "cell_type": "code",
   "execution_count": 94,
   "metadata": {},
   "outputs": [
    {
     "data": {
      "text/plain": [
       "[[array([ 1,  2,  6,  7,  8, 10, 11, 13, 14, 15, 16, 17, 19]),\n",
       "  array([ 0,  3,  4,  5,  9, 12, 18])],\n",
       " [array([ 0,  3,  4,  5,  6,  8,  9, 11, 12, 13, 15, 18, 19]),\n",
       "  array([ 1,  2,  7, 10, 14, 16, 17])],\n",
       " [array([ 0,  1,  2,  3,  4,  5,  7,  9, 10, 12, 14, 16, 17, 18]),\n",
       "  array([ 6,  8, 11, 13, 15, 19])]]"
      ]
     },
     "execution_count": 94,
     "metadata": {},
     "output_type": "execute_result"
    }
   ],
   "source": [
    "pcr_splits = []\n",
    "for train_index, test_index in KFold(n_splits=K, random_state=random_state, shuffle=True).split(pcr_study_seqs):\n",
    "    pcr_splits.append([train_index, test_index])\n",
    "    \n",
    "pcr_splits"
   ]
  },
  {
   "cell_type": "code",
   "execution_count": 97,
   "metadata": {},
   "outputs": [
    {
     "name": "stdout",
     "output_type": "stream",
     "text": [
      "Classified as BR\n",
      "KL divergence of likelihoods from uniform distribution: 0.2767557052525161\n",
      "Classified as BL\n",
      "KL divergence of likelihoods from uniform distribution: 0.07506652469965154\n",
      "Classified as BL\n",
      "KL divergence of likelihoods from uniform distribution: 0.1181261078978743\n",
      "Classified as BL\n",
      "KL divergence of likelihoods from uniform distribution: 0.08914761355760026\n",
      "Classified as BL\n",
      "KL divergence of likelihoods from uniform distribution: 0.03310640515996309\n",
      "Classified as BL\n",
      "KL divergence of likelihoods from uniform distribution: 0.12679965454590753\n",
      "Classified as BL\n",
      "KL divergence of likelihoods from uniform distribution: 0.05996518798703723\n",
      "Classified as BL\n",
      "KL divergence of likelihoods from uniform distribution: 0.11935685460249709\n",
      "Classified as BL\n",
      "KL divergence of likelihoods from uniform distribution: 0.11419183680372968\n",
      "Classified as BR\n",
      "KL divergence of likelihoods from uniform distribution: 0.2767557052525161\n",
      "Classified as BR\n",
      "KL divergence of likelihoods from uniform distribution: 0.1408465323412078\n",
      "Classified as BR\n",
      "KL divergence of likelihoods from uniform distribution: 0.11886448809760214\n",
      "Classified as BR\n",
      "KL divergence of likelihoods from uniform distribution: 0.1408465323412078\n",
      "Classified as BR\n",
      "KL divergence of likelihoods from uniform distribution: 0.09467905045363725\n",
      "Classified as BR\n",
      "KL divergence of likelihoods from uniform distribution: 0.11886448809760214\n",
      "Classified as BR\n",
      "KL divergence of likelihoods from uniform distribution: 0.1408465323412078\n",
      "Classified as BR\n",
      "KL divergence of likelihoods from uniform distribution: 0.11886448809760214\n",
      "Classified as BR\n",
      "KL divergence of likelihoods from uniform distribution: 0.08589592824850201\n",
      "Classified as BR\n",
      "KL divergence of likelihoods from uniform distribution: 0.09467905045363725\n",
      "Classified as BL\n",
      "KL divergence of likelihoods from uniform distribution: 0.13495010818968087\n",
      "Classified as BL\n",
      "KL divergence of likelihoods from uniform distribution: 0.09431315025952923\n",
      "Classified as BL\n",
      "KL divergence of likelihoods from uniform distribution: 0.0696944069893906\n",
      "Classified as BL\n",
      "KL divergence of likelihoods from uniform distribution: 0.08516737439983188\n",
      "Classified as BL\n",
      "KL divergence of likelihoods from uniform distribution: 0.09790744553665595\n",
      "Classified as BL\n",
      "KL divergence of likelihoods from uniform distribution: 0.07169951580369532\n",
      "Classified as BL\n",
      "KL divergence of likelihoods from uniform distribution: 0.014577045754163829\n",
      "Classified as BL\n",
      "KL divergence of likelihoods from uniform distribution: 0.13495010818968087\n",
      "Classified as BL\n",
      "KL divergence of likelihoods from uniform distribution: 0.10752979404366264\n",
      "Classified as BL\n",
      "KL divergence of likelihoods from uniform distribution: 0.014577045754163829\n",
      "Classified as BL\n",
      "KL divergence of likelihoods from uniform distribution: 0.13495010818968087\n",
      "Classified as BL\n",
      "KL divergence of likelihoods from uniform distribution: 0.022043789010711388\n",
      "Classified as BL\n",
      "KL divergence of likelihoods from uniform distribution: 0.13495010818968087\n",
      "Classified as BL\n",
      "KL divergence of likelihoods from uniform distribution: 0.07564005942268223\n",
      "Classified as BL\n",
      "KL divergence of likelihoods from uniform distribution: 0.027127458144726894\n",
      "Classified as BR\n",
      "KL divergence of likelihoods from uniform distribution: 0.16689105059655387\n",
      "Classified as BR\n",
      "KL divergence of likelihoods from uniform distribution: 0.12807425614402076\n",
      "Classified as BR\n",
      "KL divergence of likelihoods from uniform distribution: 0.11098685219558567\n",
      "Classified as BR\n",
      "KL divergence of likelihoods from uniform distribution: 0.09931760834721128\n",
      "Classified as BR\n",
      "KL divergence of likelihoods from uniform distribution: 0.16689105059655387\n",
      "Classified as BR\n",
      "KL divergence of likelihoods from uniform distribution: 0.16689105059655387\n",
      "Classified as BR\n",
      "KL divergence of likelihoods from uniform distribution: 0.019760480558172762\n",
      "Classified as BR\n",
      "KL divergence of likelihoods from uniform distribution: 0.013611113591991377\n",
      "Classified as BL\n",
      "KL divergence of likelihoods from uniform distribution: 0.1692229392578731\n",
      "Classified as BL\n",
      "KL divergence of likelihoods from uniform distribution: 0.10945938078841808\n",
      "Classified as BL\n",
      "KL divergence of likelihoods from uniform distribution: 0.10945938078841808\n",
      "Classified as BL\n",
      "KL divergence of likelihoods from uniform distribution: 0.10945938078841808\n",
      "Classified as BL\n",
      "KL divergence of likelihoods from uniform distribution: 0.10844344384279385\n",
      "Classified as BL\n",
      "KL divergence of likelihoods from uniform distribution: 0.1692229392578731\n",
      "Classified as BL\n",
      "KL divergence of likelihoods from uniform distribution: 0.09312559767251491\n",
      "Classified as BL\n",
      "KL divergence of likelihoods from uniform distribution: 0.08380541987280998\n",
      "Classified as BL\n",
      "KL divergence of likelihoods from uniform distribution: 0.1692229392578731\n",
      "Classified as BL\n",
      "KL divergence of likelihoods from uniform distribution: 0.11841329327799774\n",
      "Classified as BL\n",
      "KL divergence of likelihoods from uniform distribution: 0.11701626703123755\n",
      "Classified as BL\n",
      "KL divergence of likelihoods from uniform distribution: 0.10945938078841808\n",
      "Classified as BR\n",
      "KL divergence of likelihoods from uniform distribution: 0.2767557052525161\n",
      "Classified as BR\n",
      "KL divergence of likelihoods from uniform distribution: 0.03016777336052607\n",
      "Classified as BR\n",
      "KL divergence of likelihoods from uniform distribution: 0.2767557052525161\n",
      "Classified as BR\n",
      "KL divergence of likelihoods from uniform distribution: 0.14281296139955604\n",
      "Classified as BR\n",
      "KL divergence of likelihoods from uniform distribution: 0.2767557052525161\n",
      "Classified as BR\n",
      "KL divergence of likelihoods from uniform distribution: 0.14281296139955604\n",
      "Classified as BR\n",
      "KL divergence of likelihoods from uniform distribution: 0.14281296139955604\n",
      "Classified as rejection\n",
      "KL divergence of likelihoods from uniform distribution: 0.00014413748306234264\n",
      "Classified as rejection\n",
      "KL divergence of likelihoods from uniform distribution: 0.0005657992375436415\n",
      "Classified as rejection\n",
      "KL divergence of likelihoods from uniform distribution: 8.976073663336881e-05\n",
      "Classified as rejection\n",
      "KL divergence of likelihoods from uniform distribution: 0.0005267191767374386\n",
      "Classified as rejection\n",
      "KL divergence of likelihoods from uniform distribution: 0.00040144589408573454\n",
      "Classified as rejection\n",
      "KL divergence of likelihoods from uniform distribution: 0.000463348614579749\n",
      "Classified as rejection\n",
      "KL divergence of likelihoods from uniform distribution: 0.000952298192721043\n",
      "Classified as rejection\n",
      "KL divergence of likelihoods from uniform distribution: 0.0003363352180223095\n",
      "Classified as rejection\n",
      "KL divergence of likelihoods from uniform distribution: 0.0007910900194795087\n",
      "Classified as rejection\n",
      "KL divergence of likelihoods from uniform distribution: 0.0006642008082542008\n",
      "Classified as rejection\n",
      "KL divergence of likelihoods from uniform distribution: 0.0005497476108278633\n",
      "Classified as rejection\n",
      "KL divergence of likelihoods from uniform distribution: 0.0004675491238759462\n",
      "Classified as rejection\n",
      "KL divergence of likelihoods from uniform distribution: 0.0004029285103106573\n",
      "Classified as BL\n",
      "KL divergence of likelihoods from uniform distribution: 0.11419183680372968\n",
      "Classified as BL\n",
      "KL divergence of likelihoods from uniform distribution: 0.01904100787446686\n",
      "Classified as rejection\n",
      "KL divergence of likelihoods from uniform distribution: 0.008989226423062225\n",
      "Classified as rejection\n",
      "KL divergence of likelihoods from uniform distribution: 0.006651200896667599\n",
      "Classified as rejection\n",
      "KL divergence of likelihoods from uniform distribution: 0.0025154366891272\n",
      "Classified as rejection\n",
      "KL divergence of likelihoods from uniform distribution: 0.0022907182296297394\n",
      "Classified as rejection\n",
      "KL divergence of likelihoods from uniform distribution: 0.0015560389220471635\n",
      "Classified as rejection\n",
      "KL divergence of likelihoods from uniform distribution: 0.0005852302205998465\n",
      "Classified as rejection\n",
      "KL divergence of likelihoods from uniform distribution: 0.00046559980047372867\n",
      "Classified as rejection\n",
      "KL divergence of likelihoods from uniform distribution: 0.00038498221939100696\n",
      "k 1 / 3\n",
      "\n",
      "Overall accuracy (excluding rejections): 86.76470588235294%\n",
      "Robot overtaking left TPR: 100.0%\n",
      "Robot overtaking right TPR: 100.0%\n",
      "Pass-by left TPR: 80.0%\n",
      "Pass-by right TPR: 100.0%\n",
      "Path-crossing left TPR: 100.0%\n",
      "Path-crossing right TPR: 100.0%\n",
      "Rejection TPR: 91.30434782608695%\n",
      "\n"
     ]
    },
    {
     "name": "stdout",
     "output_type": "stream",
     "text": [
      "Classified as BL\n",
      "KL divergence of likelihoods from uniform distribution: 0.0858215619848102\n",
      "Classified as BL\n",
      "KL divergence of likelihoods from uniform distribution: 0.0700509570622035\n",
      "Classified as BL\n",
      "KL divergence of likelihoods from uniform distribution: 0.07996899332614468\n",
      "Classified as BL\n",
      "KL divergence of likelihoods from uniform distribution: 0.1263778996204303\n",
      "Classified as BR\n",
      "KL divergence of likelihoods from uniform distribution: 0.2579900482128679\n",
      "Classified as BL\n",
      "KL divergence of likelihoods from uniform distribution: 0.03972495788330241\n",
      "Classified as BL\n",
      "KL divergence of likelihoods from uniform distribution: 0.1263778996204303\n",
      "Classified as BL\n",
      "KL divergence of likelihoods from uniform distribution: 0.13048880061766002\n",
      "Classified as BL\n",
      "KL divergence of likelihoods from uniform distribution: 0.03642703825534484\n",
      "Classified as BL\n",
      "KL divergence of likelihoods from uniform distribution: 0.0511869336439693\n",
      "Classified as BR\n",
      "KL divergence of likelihoods from uniform distribution: 0.07283774704612063\n",
      "Classified as BR\n",
      "KL divergence of likelihoods from uniform distribution: 0.14084653234120778\n",
      "Classified as BR\n",
      "KL divergence of likelihoods from uniform distribution: 0.14084653234120778\n",
      "Classified as BR\n",
      "KL divergence of likelihoods from uniform distribution: 0.07283774704612063\n",
      "Classified as BR\n",
      "KL divergence of likelihoods from uniform distribution: 0.01715319555243504\n",
      "Classified as BR\n",
      "KL divergence of likelihoods from uniform distribution: 0.09917941568131267\n",
      "Classified as BR\n",
      "KL divergence of likelihoods from uniform distribution: 0.07425971746479487\n",
      "Classified as BR\n",
      "KL divergence of likelihoods from uniform distribution: 0.14084653234120778\n",
      "Classified as BR\n",
      "KL divergence of likelihoods from uniform distribution: 0.07396466575391909\n",
      "Classified as BL\n",
      "KL divergence of likelihoods from uniform distribution: 0.07367859035099539\n",
      "Classified as BL\n",
      "KL divergence of likelihoods from uniform distribution: 0.024943205511860727\n",
      "Classified as BL\n",
      "KL divergence of likelihoods from uniform distribution: 0.015218820785770778\n",
      "Classified as BL\n",
      "KL divergence of likelihoods from uniform distribution: 0.010813031182955419\n",
      "Classified as BL\n",
      "KL divergence of likelihoods from uniform distribution: 0.14246030484181277\n",
      "Classified as BL\n",
      "KL divergence of likelihoods from uniform distribution: 0.08635609760368894\n",
      "Classified as BL\n",
      "KL divergence of likelihoods from uniform distribution: 0.1048136818908997\n",
      "Classified as BL\n",
      "KL divergence of likelihoods from uniform distribution: 0.10180948366406416\n",
      "Classified as BL\n",
      "KL divergence of likelihoods from uniform distribution: 0.10552332858933372\n",
      "Classified as BL\n",
      "KL divergence of likelihoods from uniform distribution: 0.08053195539108289\n",
      "Classified as BL\n",
      "KL divergence of likelihoods from uniform distribution: 0.08867286842225217\n",
      "Classified as BL\n",
      "KL divergence of likelihoods from uniform distribution: 0.06594160749569676\n",
      "Classified as BL\n",
      "KL divergence of likelihoods from uniform distribution: 0.07642642692329144\n",
      "Classified as BL\n",
      "KL divergence of likelihoods from uniform distribution: 0.062253223688326136\n",
      "Classified as BL\n",
      "KL divergence of likelihoods from uniform distribution: 0.14246030484181277\n",
      "Classified as BR\n",
      "KL divergence of likelihoods from uniform distribution: 0.09621245520040693\n",
      "Classified as BR\n",
      "KL divergence of likelihoods from uniform distribution: 0.10251002583550434\n",
      "Classified as BR\n",
      "KL divergence of likelihoods from uniform distribution: 0.09991677737010918\n",
      "Classified as BR\n",
      "KL divergence of likelihoods from uniform distribution: 0.09936578895748482\n",
      "Classified as BR\n",
      "KL divergence of likelihoods from uniform distribution: 0.16689105059655387\n",
      "Classified as BR\n",
      "KL divergence of likelihoods from uniform distribution: 0.16689105059655387\n",
      "Classified as BR\n",
      "KL divergence of likelihoods from uniform distribution: 0.16689105059655387\n",
      "Classified as BR\n",
      "KL divergence of likelihoods from uniform distribution: 0.10898332710302944\n",
      "Classified as BL\n",
      "KL divergence of likelihoods from uniform distribution: 0.16922293925787305\n",
      "Classified as BL\n",
      "KL divergence of likelihoods from uniform distribution: 0.12782428668248474\n",
      "Classified as BL\n",
      "KL divergence of likelihoods from uniform distribution: 0.10919848051721852\n",
      "Classified as BL\n",
      "KL divergence of likelihoods from uniform distribution: 0.10989910226079395\n",
      "Classified as BL\n",
      "KL divergence of likelihoods from uniform distribution: 0.12390238127188594\n",
      "Classified as BL\n",
      "KL divergence of likelihoods from uniform distribution: 0.019645160502554583\n",
      "Classified as BL\n",
      "KL divergence of likelihoods from uniform distribution: 0.022003925303467314\n",
      "Classified as BL\n",
      "KL divergence of likelihoods from uniform distribution: 0.09054067710519773\n",
      "Classified as BL\n",
      "KL divergence of likelihoods from uniform distribution: 0.12782428668248474\n",
      "Classified as BL\n",
      "KL divergence of likelihoods from uniform distribution: 0.16922293925787305\n",
      "Classified as BL\n",
      "KL divergence of likelihoods from uniform distribution: 0.16922293925787305\n",
      "Classified as BL\n",
      "KL divergence of likelihoods from uniform distribution: 0.12782428668248474\n",
      "Classified as BR\n",
      "KL divergence of likelihoods from uniform distribution: 0.16167283096961865\n",
      "Classified as BR\n",
      "KL divergence of likelihoods from uniform distribution: 0.2579900482128679\n",
      "Classified as BR\n",
      "KL divergence of likelihoods from uniform distribution: 0.2579900482128679\n",
      "Classified as BR\n",
      "KL divergence of likelihoods from uniform distribution: 0.03408434013528486\n",
      "Classified as BR\n",
      "KL divergence of likelihoods from uniform distribution: 0.2579900482128679\n",
      "Classified as BR\n",
      "KL divergence of likelihoods from uniform distribution: 0.030998933810509763\n",
      "Classified as BR\n",
      "KL divergence of likelihoods from uniform distribution: 0.2579900482128679\n",
      "Classified as rejection\n",
      "KL divergence of likelihoods from uniform distribution: 0.00014413748306234264\n",
      "Classified as rejection\n",
      "KL divergence of likelihoods from uniform distribution: 0.000793092934928386\n",
      "Classified as rejection\n",
      "KL divergence of likelihoods from uniform distribution: 0.0001062008421520216\n",
      "Classified as rejection\n",
      "KL divergence of likelihoods from uniform distribution: 0.00213783070938061\n",
      "Classified as rejection\n",
      "KL divergence of likelihoods from uniform distribution: 0.0014715697564678422\n",
      "Classified as rejection\n",
      "KL divergence of likelihoods from uniform distribution: 0.001405836237910088\n",
      "Classified as rejection\n",
      "KL divergence of likelihoods from uniform distribution: 0.0012612059410102208\n",
      "Classified as rejection\n",
      "KL divergence of likelihoods from uniform distribution: 0.0004992186772111301\n",
      "Classified as rejection\n",
      "KL divergence of likelihoods from uniform distribution: 0.0007869907788017414\n",
      "Classified as rejection\n",
      "KL divergence of likelihoods from uniform distribution: 0.001056033846283404\n",
      "Classified as rejection\n",
      "KL divergence of likelihoods from uniform distribution: 0.0009281126356865902\n",
      "Classified as rejection\n",
      "KL divergence of likelihoods from uniform distribution: 0.0007916525734277735\n",
      "Classified as rejection\n",
      "KL divergence of likelihoods from uniform distribution: 0.0006822991120931654\n",
      "Classified as BL\n",
      "KL divergence of likelihoods from uniform distribution: 0.1263778996204303\n",
      "Classified as BL\n",
      "KL divergence of likelihoods from uniform distribution: 0.018689482913094514\n",
      "Classified as rejection\n",
      "KL divergence of likelihoods from uniform distribution: 0.008488399279233201\n",
      "Classified as rejection\n",
      "KL divergence of likelihoods from uniform distribution: 0.006057139284573704\n",
      "Classified as rejection\n",
      "KL divergence of likelihoods from uniform distribution: 0.003392605188962167\n",
      "Classified as rejection\n",
      "KL divergence of likelihoods from uniform distribution: 0.0027171354819191685\n",
      "Classified as rejection\n",
      "KL divergence of likelihoods from uniform distribution: 0.001898415762582943\n",
      "Classified as rejection\n",
      "KL divergence of likelihoods from uniform distribution: 0.0002686658227102961\n",
      "Classified as rejection\n",
      "KL divergence of likelihoods from uniform distribution: 0.00032515154224047223\n",
      "Classified as rejection\n",
      "KL divergence of likelihoods from uniform distribution: 0.0002732164580260066\n",
      "k 2 / 3\n",
      "\n",
      "Overall accuracy (excluding rejections): 88.23529411764706%\n",
      "Robot overtaking left TPR: 100.0%\n",
      "Robot overtaking right TPR: 100.0%\n",
      "Pass-by left TPR: 90.0%\n",
      "Pass-by right TPR: 100.0%\n",
      "Path-crossing left TPR: 100.0%\n",
      "Path-crossing right TPR: 100.0%\n",
      "Rejection TPR: 91.30434782608695%\n",
      "\n",
      "Classified as BL\n",
      "KL divergence of likelihoods from uniform distribution: 0.07078432829912835\n",
      "Classified as BL\n",
      "KL divergence of likelihoods from uniform distribution: 0.1086405669453494\n",
      "Classified as BL\n",
      "KL divergence of likelihoods from uniform distribution: 0.09862440026405854\n",
      "Classified as BL\n",
      "KL divergence of likelihoods from uniform distribution: 0.11949011548616159\n",
      "Classified as BL\n",
      "KL divergence of likelihoods from uniform distribution: 0.1179202883793174\n",
      "Classified as BL\n",
      "KL divergence of likelihoods from uniform distribution: 0.09862440026405854\n",
      "Classified as BL\n",
      "KL divergence of likelihoods from uniform distribution: 0.1179202883793174\n",
      "Classified as BL\n",
      "KL divergence of likelihoods from uniform distribution: 0.1086405669453494\n",
      "Classified as BL\n",
      "KL divergence of likelihoods from uniform distribution: 0.09862440026405854\n",
      "Classified as BR\n",
      "KL divergence of likelihoods from uniform distribution: 0.07193885612285178\n",
      "Classified as BR\n",
      "KL divergence of likelihoods from uniform distribution: 0.14253443946232125\n",
      "Classified as BR\n",
      "KL divergence of likelihoods from uniform distribution: 0.11379807281102294\n",
      "Classified as BR\n",
      "KL divergence of likelihoods from uniform distribution: 0.14253443946232125\n",
      "Classified as BR\n",
      "KL divergence of likelihoods from uniform distribution: 0.03938278500297446\n"
     ]
    },
    {
     "name": "stdout",
     "output_type": "stream",
     "text": [
      "Classified as BR\n",
      "KL divergence of likelihoods from uniform distribution: 0.03352601352358635\n",
      "Classified as BR\n",
      "KL divergence of likelihoods from uniform distribution: 0.038548886119129565\n",
      "Classified as BR\n",
      "KL divergence of likelihoods from uniform distribution: 0.09415450597326856\n",
      "Classified as BL\n",
      "KL divergence of likelihoods from uniform distribution: 0.07452820117684568\n",
      "Classified as BL\n",
      "KL divergence of likelihoods from uniform distribution: 0.08996205610366949\n",
      "Classified as BL\n",
      "KL divergence of likelihoods from uniform distribution: 0.1462861421990663\n",
      "Classified as BL\n",
      "KL divergence of likelihoods from uniform distribution: 0.036298597512813\n",
      "Classified as BL\n",
      "KL divergence of likelihoods from uniform distribution: 0.08708452704181169\n",
      "Classified as BL\n",
      "KL divergence of likelihoods from uniform distribution: 0.07946969239598248\n",
      "Classified as BL\n",
      "KL divergence of likelihoods from uniform distribution: 0.08724567659018717\n",
      "Classified as BL\n",
      "KL divergence of likelihoods from uniform distribution: 0.09016604917552044\n",
      "Classified as BL\n",
      "KL divergence of likelihoods from uniform distribution: 0.10058226553267502\n",
      "Classified as BL\n",
      "KL divergence of likelihoods from uniform distribution: 0.036298597512813\n",
      "Classified as BL\n",
      "KL divergence of likelihoods from uniform distribution: 0.09517284008279558\n",
      "Classified as BL\n",
      "KL divergence of likelihoods from uniform distribution: 0.056862827631837254\n",
      "Classified as BL\n",
      "KL divergence of likelihoods from uniform distribution: 0.0673567409920235\n",
      "Classified as BL\n",
      "KL divergence of likelihoods from uniform distribution: 0.051771988413167706\n",
      "Classified as BL\n",
      "KL divergence of likelihoods from uniform distribution: 0.06051108867290736\n",
      "Classified as BR\n",
      "KL divergence of likelihoods from uniform distribution: 0.16727562650953912\n",
      "Classified as BR\n",
      "KL divergence of likelihoods from uniform distribution: 0.07608932100141773\n",
      "Classified as BR\n",
      "KL divergence of likelihoods from uniform distribution: 0.06912653292675186\n",
      "Classified as BR\n",
      "KL divergence of likelihoods from uniform distribution: 0.16727562650953912\n",
      "Classified as BR\n",
      "KL divergence of likelihoods from uniform distribution: 0.04247079619955239\n",
      "Classified as BR\n",
      "KL divergence of likelihoods from uniform distribution: 0.16727562650953912\n",
      "Classified as BR\n",
      "KL divergence of likelihoods from uniform distribution: 0.16727562650953912\n",
      "Classified as BL\n",
      "KL divergence of likelihoods from uniform distribution: 0.11850085780444278\n",
      "Classified as BL\n",
      "KL divergence of likelihoods from uniform distribution: 0.06464492466239079\n",
      "Classified as BL\n",
      "KL divergence of likelihoods from uniform distribution: 0.16922869556671327\n",
      "Classified as BL\n",
      "KL divergence of likelihoods from uniform distribution: 0.16922869556671327\n",
      "Classified as BL\n",
      "KL divergence of likelihoods from uniform distribution: 0.12524088295298222\n",
      "Classified as BL\n",
      "KL divergence of likelihoods from uniform distribution: 0.09218351824098277\n",
      "Classified as BL\n",
      "KL divergence of likelihoods from uniform distribution: 0.16922869556671327\n",
      "Classified as BL\n",
      "KL divergence of likelihoods from uniform distribution: 0.16922869556671327\n",
      "Classified as BL\n",
      "KL divergence of likelihoods from uniform distribution: 0.125759659363502\n",
      "Classified as BL\n",
      "KL divergence of likelihoods from uniform distribution: 0.03040039472000464\n",
      "Classified as BL\n",
      "KL divergence of likelihoods from uniform distribution: 0.03223076246945765\n",
      "Classified as BL\n",
      "KL divergence of likelihoods from uniform distribution: 0.01969664583420894\n",
      "Classified as BR\n",
      "KL divergence of likelihoods from uniform distribution: 0.05252571981071263\n",
      "Classified as BR\n",
      "KL divergence of likelihoods from uniform distribution: 0.030654642624623675\n",
      "Classified as BR\n",
      "KL divergence of likelihoods from uniform distribution: 0.2827562192638272\n",
      "Classified as BR\n",
      "KL divergence of likelihoods from uniform distribution: 0.05252571981071263\n",
      "Classified as BR\n",
      "KL divergence of likelihoods from uniform distribution: 0.2827562192638272\n",
      "Classified as BR\n",
      "KL divergence of likelihoods from uniform distribution: 0.2827562192638272\n",
      "Classified as rejection\n",
      "KL divergence of likelihoods from uniform distribution: 0.00011181034830622626\n",
      "Classified as rejection\n",
      "KL divergence of likelihoods from uniform distribution: 0.0004934533541009556\n",
      "Classified as rejection\n",
      "KL divergence of likelihoods from uniform distribution: 0.00029202092692177245\n",
      "Classified as rejection\n",
      "KL divergence of likelihoods from uniform distribution: 0.002208084070631274\n",
      "Classified as rejection\n",
      "KL divergence of likelihoods from uniform distribution: 0.0014077612902173332\n",
      "Classified as rejection\n",
      "KL divergence of likelihoods from uniform distribution: 0.001463713887719936\n",
      "Classified as rejection\n",
      "KL divergence of likelihoods from uniform distribution: 0.0013941440240494585\n",
      "Classified as rejection\n",
      "KL divergence of likelihoods from uniform distribution: 0.0008729007017321683\n",
      "Classified as rejection\n",
      "KL divergence of likelihoods from uniform distribution: 0.0010919711063832951\n",
      "Classified as rejection\n",
      "KL divergence of likelihoods from uniform distribution: 0.0012278771189415828\n",
      "Classified as rejection\n",
      "KL divergence of likelihoods from uniform distribution: 0.0010531269888870692\n",
      "Classified as rejection\n",
      "KL divergence of likelihoods from uniform distribution: 0.0008967401853208403\n",
      "Classified as rejection\n",
      "KL divergence of likelihoods from uniform distribution: 0.0007725116604404576\n",
      "Classified as BL\n",
      "KL divergence of likelihoods from uniform distribution: 0.09862440026405854\n",
      "Classified as BL\n",
      "KL divergence of likelihoods from uniform distribution: 0.016553708088093838\n",
      "Classified as rejection\n",
      "KL divergence of likelihoods from uniform distribution: 0.00749460519862372\n",
      "Classified as rejection\n",
      "KL divergence of likelihoods from uniform distribution: 0.005656729577302072\n",
      "Classified as rejection\n",
      "KL divergence of likelihoods from uniform distribution: 0.002397413079058334\n",
      "Classified as rejection\n",
      "KL divergence of likelihoods from uniform distribution: 0.0019603069516576175\n",
      "Classified as rejection\n",
      "KL divergence of likelihoods from uniform distribution: 0.0016149992817220578\n",
      "Classified as rejection\n",
      "KL divergence of likelihoods from uniform distribution: 0.0003079144606364971\n",
      "Classified as rejection\n",
      "KL divergence of likelihoods from uniform distribution: 0.0002287923479376633\n",
      "Classified as rejection\n",
      "KL divergence of likelihoods from uniform distribution: 0.00018664882173978405\n",
      "k 3 / 3\n",
      "\n",
      "Overall accuracy (excluding rejections): 87.6923076923077%\n",
      "Robot overtaking left TPR: 100.0%\n",
      "Robot overtaking right TPR: 100.0%\n",
      "Pass-by left TPR: 100.0%\n",
      "Pass-by right TPR: 100.0%\n",
      "Path-crossing left TPR: 100.0%\n",
      "Path-crossing right TPR: 100.0%\n",
      "Rejection TPR: 91.30434782608695%\n",
      "\n"
     ]
    }
   ],
   "source": [
    "overall_accs = []\n",
    "rotl_accs = []\n",
    "rotr_accs = []\n",
    "pbl_accs = []\n",
    "pbr_accs = []\n",
    "pcl_accs = []\n",
    "pcr_accs = []\n",
    "u_accs = []\n",
    "y_true = []\n",
    "y_pred = []\n",
    "\n",
    "for k in range(K):    \n",
    "    rotl_study_seqs_train = np.array(rotl_study_seqs)[rotl_splits[k][0]]\n",
    "    rotl_study_seqs_val = np.array(rotl_study_seqs)[rotl_splits[k][1]]\n",
    "    \n",
    "    rotr_study_seqs_train = np.array(rotr_study_seqs)[rotr_splits[k][0]]\n",
    "    rotr_study_seqs_val = np.array(rotr_study_seqs)[rotr_splits[k][1]]\n",
    "    \n",
    "    pb_l_study_seqs_train = np.array(pb_l_study_seqs)[pbl_splits[k][0]]\n",
    "    pb_l_study_seqs_val = np.array(pb_l_study_seqs)[pbl_splits[k][1]]\n",
    "    \n",
    "    pb_r_study_seqs_train = np.array(pb_r_study_seqs)[pbr_splits[k][0]]\n",
    "    pb_r_study_seqs_val = np.array(pb_r_study_seqs)[pbr_splits[k][1]]\n",
    "    \n",
    "    pcl_study_seqs_train = np.array(pcl_study_seqs)[pcl_splits[k][0]]\n",
    "    pcl_study_seqs_val = np.array(pcl_study_seqs)[pcl_splits[k][1]]\n",
    "    \n",
    "    pcr_study_seqs_train = np.array(pcr_study_seqs)[pcr_splits[k][0]]\n",
    "    pcr_study_seqs_val = np.array(pcr_study_seqs)[pcr_splits[k][1]]\n",
    "\n",
    "    \n",
    "    u_study_seqs_val = u_study_seqs\n",
    "    \n",
    "        \n",
    "    ## Re-build models from training data\n",
    "    ## Creating pass-by left HMM\n",
    "\n",
    "    pass_by_l_seqs = pb_l_study_seqs_train\n",
    "\n",
    "    pass_by_l_seqs = [list(map(QTC_C_to_num, seq)) for seq in pass_by_l_seqs]\n",
    "#     print(pass_by_l_seqs)\n",
    "#     [list(map(num_to_QTC_C, seq)) for seq in pass_by_l_seqs]\n",
    "\n",
    "    # Create transition matrix from handwritten examples of pass-by QTC-B sequences\n",
    "    # Defining a graph of N_nodes states\n",
    "    # Give low prob. to transitions not present in e.g.s\n",
    "    A = np.ones((N_nodes, N_nodes))\n",
    "#     print(A.shape)\n",
    "\n",
    "    # Give frequency based probs to e.g. transitions\n",
    "    for seq in pass_by_l_seqs:\n",
    "        for i in range(0, len(seq) - 1):\n",
    "#             print(i)\n",
    "            A[seq[i], seq[i + 1]] += trans_prob_factor\n",
    "\n",
    "    # normalise A (make sure probs sum up to 1)\n",
    "    row_sums = A.sum(axis=1)\n",
    "    A = A / row_sums[:, np.newaxis]\n",
    "\n",
    "    # summing all column of transition matrix\n",
    "    rs = np.sum(A, 1)\n",
    "#     print(rs)\n",
    "#     print(A)\n",
    "\n",
    "    # creating observation matrix, assuming each states has ~90% prob to emit the state itself as observation\n",
    "    # (.1 / N_nodes) for all observations for numerical stability\n",
    "    B = (np.ones(N_nodes) * (prob_emission_not_equals_hidden / N_nodes)) + (np.eye(N_nodes) * \n",
    "                                                                            prob_emission_equals_hidden)\n",
    "    # B = np.eye(N_nodes)\n",
    "\n",
    "    # normalise B (make sure probs sum up to 1)\n",
    "    row_sums = B.sum(axis=1)\n",
    "    B = B / row_sums[:, np.newaxis]\n",
    "    B_row_sums = []\n",
    "    for row in B:\n",
    "        B_row_sums.append(row.sum())\n",
    "\n",
    "    # Pi is the vector of initial state probabilities. Using distribution present in pass-by e.g.s\n",
    "    # (We may make a stronger assumption here at some point)\n",
    "    Pi = (np.ones((1, N_nodes)))[0]\n",
    "    for seq in pass_by_l_seqs:\n",
    "        Pi[seq[0]] += init_prob_factor\n",
    "\n",
    "    # normalise Pi (make sure probs sum up to 1)\n",
    "    row_sums = Pi.sum()\n",
    "    Pi = Pi / row_sums\n",
    "\n",
    "    # print(Pi)\n",
    "    # print(Pi.sum())\n",
    "\n",
    "    # Create HMM using the pass-by e.g. parameters\n",
    "    pblHMM = hmms.DtHMM(A, B, Pi)\n",
    "\n",
    "    # Check pblHMM params\n",
    "    A, B, Pi = pblHMM.params\n",
    "#     print(\"A:\\n\", A)\n",
    "    A_row_sums = []\n",
    "    for row in A:\n",
    "        A_row_sums.append(row.sum())\n",
    "#     print(np.mean(A_row_sums))\n",
    "#     print(\"B:\\n\", B)\n",
    "    B_row_sums = []\n",
    "    for row in B:\n",
    "        B_row_sums.append(row.sum())\n",
    "#     print(np.mean(B_row_sums))\n",
    "#     print(\"Pi:\\n\", Pi)\n",
    "#     print(Pi.sum())\n",
    "\n",
    "#     pass_by_l_seqs = tuple(pass_by_l_seqs)\n",
    "    pass_by_l_seqs = [np.asarray(seq) for seq in pass_by_l_seqs]\n",
    "    pass_by_l_seqs = np.asarray(pass_by_l_seqs)\n",
    "#     print(pass_by_l_seqs)\n",
    "#     pass_by_l_seqs = [list(map(QTC_C_to_num, seq)) for seq in pass_by_l_seqs]\n",
    "\n",
    "    ## Creating pass-by right HMM\n",
    "\n",
    "    pass_by_r_seqs = pb_r_study_seqs_train\n",
    "\n",
    "    pass_by_r_seqs = [list(map(QTC_C_to_num, seq)) for seq in pass_by_r_seqs]\n",
    "#     print(pass_by_r_seqs)\n",
    "    [list(map(num_to_QTC_C, seq)) for seq in pass_by_r_seqs]\n",
    "\n",
    "    # Create transition matrix from handwritten examples of pass-by QTC-B sequences\n",
    "    # Defining a graph of N_nodes states\n",
    "    # Give low prob. to transitions not present in e.g.s\n",
    "    A = np.ones((N_nodes, N_nodes))\n",
    "#     print(A.shape)\n",
    "\n",
    "    # Give frequency based probs to e.g. transitions\n",
    "    for seq in pass_by_r_seqs:\n",
    "        for i in range(0, len(seq) - 1):\n",
    "#             print(i)\n",
    "            A[seq[i], seq[i + 1]] += trans_prob_factor\n",
    "\n",
    "    # normalise A (make sure probs sum up to 1)\n",
    "    row_sums = A.sum(axis=1)\n",
    "    A = A / row_sums[:, np.newaxis]\n",
    "\n",
    "    # summing all column of transition matrix\n",
    "    rs = np.sum(A, 1)\n",
    "#     print(rs)\n",
    "#     print(A)\n",
    "\n",
    "    # creating observation matrix, assuming each states has ~90% prob to emit the state itself as observation\n",
    "    # (.1 / N_nodes) for all observations for numerical stability\n",
    "    B = (np.ones(N_nodes) * (prob_emission_not_equals_hidden / N_nodes)) + (np.eye(N_nodes) * \n",
    "                                                                            prob_emission_equals_hidden)\n",
    "    # B = np.eye(N_nodes)\n",
    "\n",
    "    # normalise B (make sure probs sum up to 1)\n",
    "    row_sums = B.sum(axis=1)\n",
    "    B = B / row_sums[:, np.newaxis]\n",
    "    B_row_sums = []\n",
    "    for row in B:\n",
    "        B_row_sums.append(row.sum())\n",
    "\n",
    "    # Pi is the vector of initial state probabilities. Using distribution present in pass-by e.g.s\n",
    "    # (We may make a stronger assumption here at some point)\n",
    "    Pi = (np.ones((1, N_nodes)))[0]\n",
    "    for seq in pass_by_r_seqs:\n",
    "        Pi[seq[0]] += init_prob_factor\n",
    "\n",
    "    # normalise Pi (make sure probs sum up to 1)\n",
    "    row_sums = Pi.sum()\n",
    "    Pi = Pi / row_sums\n",
    "\n",
    "    # print(Pi)\n",
    "    # print(Pi.sum())\n",
    "\n",
    "    # Create HMM using the pass-by e.g. parameters\n",
    "    pbrHMM = hmms.DtHMM(A, B, Pi)\n",
    "\n",
    "    # Check pbrHMM params\n",
    "    A, B, Pi = pbrHMM.params\n",
    "#     print(\"A:\\n\", A)\n",
    "    A_row_sums = []\n",
    "    for row in A:\n",
    "        A_row_sums.append(row.sum())\n",
    "#     print(np.mean(A_row_sums))\n",
    "#     print(\"B:\\n\", B)\n",
    "    B_row_sums = []\n",
    "    for row in B:\n",
    "        B_row_sums.append(row.sum())\n",
    "#     print(np.mean(B_row_sums))\n",
    "#     print(\"Pi:\\n\", Pi)\n",
    "#     print(Pi.sum())\n",
    "\n",
    "    ## Creating robot overtakes left HMM\n",
    "\n",
    "    rotl_seqs = rotl_study_seqs_train\n",
    "\n",
    "    rotl_seqs = [list(map(QTC_C_to_num, seq)) for seq in rotl_seqs]\n",
    "#     print(rotl_seqs)\n",
    "    [list(map(num_to_QTC_C, seq)) for seq in rotl_seqs]\n",
    "\n",
    "    # Create transition matrix from handwritten examples of overtake QTC-B sequences\n",
    "\n",
    "    # Defining a graph of N_nodes states\n",
    "    # Give low prob. to transitions not present in e.g.s\n",
    "    A = np.ones((N_nodes, N_nodes))\n",
    "#     print(A.shape)\n",
    "\n",
    "    # Give frequency based probs to e.g. transitions\n",
    "    for seq in rotl_seqs:\n",
    "        for i in range(0, len(seq) - 1):\n",
    "#             print(i)\n",
    "            A[seq[i], seq[i + 1]] += trans_prob_factor\n",
    "\n",
    "    # normalise A (make sure probs sum up to 1)\n",
    "    row_sums = A.sum(axis=1)\n",
    "    A = A / row_sums[:, np.newaxis]\n",
    "\n",
    "    # summing all column of transition matrix\n",
    "    rs = np.sum(A, 1)\n",
    "#     print(rs)\n",
    "#     print(A)\n",
    "\n",
    "    # creating observation matrix\n",
    "    B = (np.ones(N_nodes) * (prob_emission_not_equals_hidden / N_nodes)) + (np.eye(N_nodes) * \n",
    "                                                                            prob_emission_equals_hidden)\n",
    "\n",
    "    # normalise B (make sure probs sum up to 1)\n",
    "    row_sums = B.sum(axis=1)\n",
    "    B = B / row_sums[:, np.newaxis]\n",
    "    B_row_sums = []\n",
    "    for row in B:\n",
    "        B_row_sums.append(row.sum())\n",
    "#     print(np.mean(B_row_sums))\n",
    "\n",
    "\n",
    "    # Pi is the vector of initial state probabilities. Using distribution present in overtake e.g.s\n",
    "    # (We may make a stronger assumption here at some point)\n",
    "    Pi = (np.ones((1, N_nodes)))[0]\n",
    "    for seq in rotl_seqs:\n",
    "        Pi[seq[0]] += init_prob_factor\n",
    "\n",
    "    # normalise Pi (make sure probs sum up to 1)\n",
    "    row_sums = Pi.sum()\n",
    "    Pi = Pi / row_sums\n",
    "\n",
    "#     print(Pi)\n",
    "#     print(Pi.sum())\n",
    "\n",
    "    # Create HMM using the overtake e.g. parameters\n",
    "    rotlHMM = hmms.DtHMM(A, B, Pi)\n",
    "\n",
    "    # Check rotlHMM params\n",
    "    A, B, Pi = rotlHMM.params\n",
    "#     print(\"A:\\n\", A)\n",
    "    A_row_sums = []\n",
    "    for row in A:\n",
    "        A_row_sums.append(row.sum())\n",
    "#     print(np.mean(A_row_sums))\n",
    "#     print(\"B:\\n\", B)\n",
    "    B_row_sums = []\n",
    "    for row in B:\n",
    "        B_row_sums.append(row.sum())\n",
    "#     print(np.mean(B_row_sums))\n",
    "#     print(\"Pi:\\n\", Pi)\n",
    "#     print(Pi.sum())\n",
    "\n",
    "    ## Creating robot overtakes right HMM\n",
    "\n",
    "    rotr_seqs = rotr_study_seqs_train\n",
    "\n",
    "    rotr_seqs = [list(map(QTC_C_to_num, seq)) for seq in rotr_seqs]\n",
    "#     print(rotr_seqs)\n",
    "    [list(map(num_to_QTC_C, seq)) for seq in rotr_seqs]\n",
    "\n",
    "    # Create transition matrix from handwritten examples of overtake QTC-B sequences\n",
    "\n",
    "    # Defining a graph of N_nodes states\n",
    "    # Give low prob. to transitions not present in e.g.s\n",
    "    A = np.ones((N_nodes, N_nodes))\n",
    "#     print(A.shape)\n",
    "\n",
    "    # Give frequency based probs to e.g. transitions\n",
    "    for seq in rotr_seqs:\n",
    "        for i in range(0, len(seq) - 1):\n",
    "#             print(i)\n",
    "            A[seq[i], seq[i + 1]] += trans_prob_factor\n",
    "\n",
    "    # normalise A (make sure probs sum up to 1)\n",
    "    row_sums = A.sum(axis=1)\n",
    "    A = A / row_sums[:, np.newaxis]\n",
    "\n",
    "    # summing all column of transition matrix\n",
    "    rs = np.sum(A, 1)\n",
    "#     print(rs)\n",
    "#     print(A)\n",
    "\n",
    "    # creating observation matrix\n",
    "    B = (np.ones(N_nodes) * (prob_emission_not_equals_hidden / N_nodes)) + (np.eye(N_nodes) * \n",
    "                                                                            prob_emission_equals_hidden)\n",
    "\n",
    "    # normalise B (make sure probs sum up to 1)\n",
    "    row_sums = B.sum(axis=1)\n",
    "    B = B / row_sums[:, np.newaxis]\n",
    "    B_row_sums = []\n",
    "    for row in B:\n",
    "        B_row_sums.append(row.sum())\n",
    "#     print(np.mean(B_row_sums))\n",
    "\n",
    "\n",
    "    # Pi is the vector of initial state probabilities. Using distribution present in overtake e.g.s\n",
    "    # (We may make a stronger assumption here at some point)\n",
    "    Pi = (np.ones((1, N_nodes)))[0]\n",
    "    for seq in rotr_seqs:\n",
    "        Pi[seq[0]] += init_prob_factor\n",
    "\n",
    "    # normalise Pi (make sure probs sum up to 1)\n",
    "    row_sums = Pi.sum()\n",
    "    Pi = Pi / row_sums\n",
    "\n",
    "#     print(Pi)\n",
    "#     print(Pi.sum())\n",
    "\n",
    "    # Create HMM using the overtake e.g. parameters\n",
    "    rotrHMM = hmms.DtHMM(A, B, Pi)\n",
    "\n",
    "    # Check rotrHMM params\n",
    "    A, B, Pi = rotrHMM.params\n",
    "#     print(\"A:\\n\", A)\n",
    "    A_row_sums = []\n",
    "    for row in A:\n",
    "        A_row_sums.append(row.sum())\n",
    "#     print(np.mean(A_row_sums))\n",
    "#     print(\"B:\\n\", B)\n",
    "    B_row_sums = []\n",
    "    for row in B:\n",
    "        B_row_sums.append(row.sum())\n",
    "#     print(np.mean(B_row_sums))\n",
    "#     print(\"Pi:\\n\", Pi)\n",
    "#     print(Pi.sum())\n",
    "\n",
    "    ## Creating path-crossing left HMM\n",
    "\n",
    "    pcl_seqs = pcl_study_seqs_train\n",
    "\n",
    "    pcl_seqs = [list(map(QTC_C_to_num, seq)) for seq in pcl_seqs]\n",
    "#     print(pc_seqs)\n",
    "    [list(map(num_to_QTC_C, seq)) for seq in pcl_seqs]\n",
    "\n",
    "    # Create transition matrix from handwritten examples of path-crossing QTC_C sequences\n",
    "\n",
    "    # Defining a graph of N_nodes states\n",
    "    # Give low prob. to transitions not present in e.g.s\n",
    "    A = np.ones((N_nodes, N_nodes))\n",
    "#     print(A.shape)\n",
    "\n",
    "    # Give frequency based probs to e.g. transitions\n",
    "    for seq in pcl_seqs:\n",
    "        for i in range(0, len(seq) - 1):\n",
    "#             print(i)\n",
    "            A[seq[i], seq[i + 1]] += trans_prob_factor\n",
    "\n",
    "    # normalise A (make sure probs sum up to 1)\n",
    "    row_sums = A.sum(axis=1)\n",
    "    A = A / row_sums[:, np.newaxis]\n",
    "\n",
    "    # summing all column of transition matrix\n",
    "    rs = np.sum(A, 1)\n",
    "#     print(rs)\n",
    "#     print(A)\n",
    "\n",
    "    # creating observation matrix, assuming each states has ~90% prob to emit the state itself as observation\n",
    "    # (.1 / N_nodes) for all observations for numerical stability\n",
    "    B = (np.ones(N_nodes) * (prob_emission_not_equals_hidden / N_nodes)) + (np.eye(N_nodes) * \n",
    "                                                                            prob_emission_equals_hidden)\n",
    "    # B = np.eye(N_nodes)\n",
    "\n",
    "    # normalise B (make sure probs sum up to 1)\n",
    "    row_sums = B.sum(axis=1)\n",
    "    B = B / row_sums[:, np.newaxis]\n",
    "    B_row_sums = []\n",
    "    for row in B:\n",
    "        B_row_sums.append(row.sum())\n",
    "#     print(np.mean(B_row_sums))\n",
    "\n",
    "\n",
    "    # Pi is the vector of initial state probabilities. Using distribution present in path-crossing e.g.s\n",
    "    Pi = (np.ones((1, N_nodes)))[0]\n",
    "    for seq in pcl_seqs:\n",
    "        Pi[seq[0]] += init_prob_factor\n",
    "\n",
    "    # normalise Pi (make sure probs sum up to 1)\n",
    "    row_sums = Pi.sum()\n",
    "    Pi = Pi / row_sums\n",
    "\n",
    "#     print(Pi)\n",
    "#     print(Pi.sum())\n",
    "\n",
    "    # Create HMM using the path-crossing e.g. parameters\n",
    "    pclHMM = hmms.DtHMM(A, B, Pi)\n",
    "\n",
    "    # Check pcHMM params\n",
    "    A, B, Pi = pclHMM.params\n",
    "#     print(\"A:\\n\", A)\n",
    "    A_row_sums = []\n",
    "    for row in A:\n",
    "        A_row_sums.append(row.sum())\n",
    "#     print(np.mean(A_row_sums))\n",
    "#     print(\"B:\\n\", B)\n",
    "    B_row_sums = []\n",
    "    for row in B:\n",
    "        B_row_sums.append(row.sum())\n",
    "#     print(np.mean(B_row_sums))\n",
    "#     print(\"Pi:\\n\", Pi)\n",
    "#     print(Pi.sum())\n",
    "\n",
    "\n",
    "    ## Creating path-crossing right HMM\n",
    "\n",
    "    pcr_seqs = pcr_study_seqs_train\n",
    "\n",
    "    pcr_seqs = [list(map(QTC_C_to_num, seq)) for seq in pcr_seqs]\n",
    "#     print(pc_seqs)\n",
    "    [list(map(num_to_QTC_C, seq)) for seq in pcr_seqs]\n",
    "\n",
    "    # Create transition matrix from handwritten examples of path-crossing QTC_C sequences\n",
    "\n",
    "    # Defining a graph of N_nodes states\n",
    "    # Give low prob. to transitions not present in e.g.s\n",
    "    A = np.ones((N_nodes, N_nodes))\n",
    "#     print(A.shape)\n",
    "\n",
    "    # Give frequency based probs to e.g. transitions\n",
    "    for seq in pcr_seqs:\n",
    "        for i in range(0, len(seq) - 1):\n",
    "#             print(i)\n",
    "            A[seq[i], seq[i + 1]] += trans_prob_factor\n",
    "\n",
    "    # normalise A (make sure probs sum up to 1)\n",
    "    row_sums = A.sum(axis=1)\n",
    "    A = A / row_sums[:, np.newaxis]\n",
    "\n",
    "    # summing all column of transition matrix\n",
    "    rs = np.sum(A, 1)\n",
    "#     print(rs)\n",
    "#     print(A)\n",
    "\n",
    "    # creating observation matrix, assuming each states has ~90% prob to emit the state itself as observation\n",
    "    # (.1 / N_nodes) for all observations for numerical stability\n",
    "    B = (np.ones(N_nodes) * (prob_emission_not_equals_hidden / N_nodes)) + (np.eye(N_nodes) * \n",
    "                                                                            prob_emission_equals_hidden)\n",
    "    # B = np.eye(N_nodes)\n",
    "\n",
    "    # normalise B (make sure probs sum up to 1)\n",
    "    row_sums = B.sum(axis=1)\n",
    "    B = B / row_sums[:, np.newaxis]\n",
    "    B_row_sums = []\n",
    "    for row in B:\n",
    "        B_row_sums.append(row.sum())\n",
    "#     print(np.mean(B_row_sums))\n",
    "\n",
    "\n",
    "    # Pi is the vector of initial state probabilities. Using distribution present in path-crossing e.g.s\n",
    "    Pi = (np.ones((1, N_nodes)))[0]\n",
    "    for seq in pcr_seqs:\n",
    "        Pi[seq[0]] += init_prob_factor\n",
    "\n",
    "    # normalise Pi (make sure probs sum up to 1)\n",
    "    row_sums = Pi.sum()\n",
    "    Pi = Pi / row_sums\n",
    "\n",
    "#     print(Pi)\n",
    "#     print(Pi.sum())\n",
    "\n",
    "    # Create HMM using the path-crossing e.g. parameters\n",
    "    pcrHMM = hmms.DtHMM(A, B, Pi)\n",
    "\n",
    "    # Check pcHMM params\n",
    "    A, B, Pi = pcrHMM.params\n",
    "#     print(\"A:\\n\", A)\n",
    "    A_row_sums = []\n",
    "    for row in A:\n",
    "        A_row_sums.append(row.sum())\n",
    "#     print(np.mean(A_row_sums))\n",
    "#     print(\"B:\\n\", B)\n",
    "    B_row_sums = []\n",
    "    for row in B:\n",
    "        B_row_sums.append(row.sum())\n",
    "#     print(np.mean(B_row_sums))\n",
    "#     print(\"Pi:\\n\", Pi)\n",
    "#     print(Pi.sum())\n",
    "            \n",
    "    \n",
    "    # Get correct count and accuracy of pass-by left classifications\n",
    "    pb_l_correct = 0\n",
    "    for pb_l_seq in pb_l_study_seqs_val:\n",
    "        symbol_seqs = [[QTC_C_to_num(qtc) for qtc in pb_l_seq]]\n",
    "        e_seqs = np.array(symbol_seqs)\n",
    "\n",
    "        class_id = classify_QTC_seqs(e_seqs)\n",
    "\n",
    "        correct_class_id = 0\n",
    "        y_true.append(correct_class_id)\n",
    "        y_pred.append(class_id)\n",
    "        \n",
    "        if class_id == correct_class_id:\n",
    "            pb_l_correct += 1\n",
    "            \n",
    "        pb_l_acc = pb_l_correct/len(pb_l_study_seqs_val)*100\n",
    "#     print(\"Pass-by left classifications are \" + str(pb_l_acc) + \"% accurate\" )\n",
    "\n",
    "    # Get correct count and accuracy of pass-by right classifications\n",
    "    pb_r_correct = 0\n",
    "    for pb_r_seq in pb_r_study_seqs_val:\n",
    "        symbol_seqs = [[QTC_C_to_num(qtc) for qtc in pb_r_seq]]\n",
    "        e_seqs = np.array(symbol_seqs)\n",
    "        \n",
    "        class_id = classify_QTC_seqs(e_seqs)\n",
    "        \n",
    "        correct_class_id = 1\n",
    "        y_true.append(correct_class_id)\n",
    "        y_pred.append(class_id)\n",
    "    \n",
    "        if class_id == correct_class_id:\n",
    "            pb_r_correct += 1\n",
    "            \n",
    "        pb_r_acc = (pb_r_correct/len(pb_r_study_seqs_val))*100\n",
    "#     print(\"Pass-by right classifications are \" + str(pb_r_acc) + \"% accurate\" )\n",
    "\n",
    "    # Get correct count and accuracy of robot overtaking left classifications\n",
    "    rotl_correct = 0\n",
    "    for rotl_seq in rotl_study_seqs_val:\n",
    "        symbol_seqs = [[QTC_C_to_num(qtc) for qtc in rotl_seq]]\n",
    "        e_seqs = np.array(symbol_seqs)\n",
    "\n",
    "        class_id = classify_QTC_seqs(e_seqs)\n",
    "\n",
    "        correct_class_id = 0\n",
    "        y_true.append(correct_class_id)\n",
    "        y_pred.append(class_id)\n",
    "    \n",
    "        if class_id == correct_class_id:\n",
    "            rotl_correct += 1\n",
    "            \n",
    "        rotl_acc = (rotl_correct/len(rotl_study_seqs_val))*100\n",
    "#     print(\"Robot overtaking left classifications are \" + str(rotl_acc) + \"% accurate\" )\n",
    "\n",
    "    # Get correct count and accuracy of robot overtaking right classifications\n",
    "    rotr_correct = 0\n",
    "    for rotr_seq in rotr_study_seqs_val:\n",
    "        symbol_seqs = [[QTC_C_to_num(qtc) for qtc in rotr_seq]]\n",
    "        e_seqs = np.array(symbol_seqs)\n",
    "\n",
    "        class_id = classify_QTC_seqs(e_seqs)\n",
    "\n",
    "        correct_class_id = 1\n",
    "        y_true.append(correct_class_id)\n",
    "        y_pred.append(class_id)\n",
    "    \n",
    "        if class_id == correct_class_id:\n",
    "            rotr_correct += 1\n",
    "            \n",
    "        rotr_acc = (rotr_correct/len(rotr_study_seqs_val))*100\n",
    "#     print(\"Robot overtaking right classifications are \" + str(rotr_acc) + \"% accurate\" )\n",
    "\n",
    "    # Get correct count and accuracy of path-crossing left classifications\n",
    "    pcls_correct = 0\n",
    "    for pcl_seq in pcl_study_seqs_val:\n",
    "        symbol_seqs = [[QTC_C_to_num(qtc) for qtc in pcl_seq]]\n",
    "        e_seqs = np.array(symbol_seqs)\n",
    "\n",
    "        class_id = classify_QTC_seqs(e_seqs)\n",
    "\n",
    "        correct_class_id = 0\n",
    "        y_true.append(correct_class_id)\n",
    "        y_pred.append(class_id)\n",
    "    \n",
    "        if class_id == correct_class_id:\n",
    "            pcls_correct += 1\n",
    "            \n",
    "        pcl_acc = (pcls_correct/len(pcl_study_seqs_val))*100\n",
    "#     print(\"Path-crossing left classifications are \" + str(pcl_acc) + \"% accurate\" )\n",
    "\n",
    "\n",
    "# Get correct count and accuracy of path-crossing right classifications\n",
    "    pcrs_correct = 0\n",
    "    for pcr_seq in pcr_study_seqs_val:\n",
    "        symbol_seqs = [[QTC_C_to_num(qtc) for qtc in pcr_seq]]\n",
    "        e_seqs = np.array(symbol_seqs)\n",
    "\n",
    "        class_id = classify_QTC_seqs(e_seqs)\n",
    "\n",
    "        correct_class_id = 1\n",
    "        y_true.append(correct_class_id)\n",
    "        y_pred.append(class_id)\n",
    "    \n",
    "        if class_id == correct_class_id:\n",
    "            pcrs_correct += 1\n",
    "            \n",
    "        pcr_acc = (pcrs_correct/len(pcr_study_seqs_val))*100\n",
    "#     print(\"Path-crossing classifications are \" + str(pc_acc) + \"% accurate\" )\n",
    "\n",
    "    # Get correct count and accuracy of rejections\n",
    "    us_correct = 0\n",
    "    for u_seq in u_study_seqs_val:\n",
    "        symbol_seqs = [[QTC_C_to_num(qtc) for qtc in u_seq]]\n",
    "        e_seqs = np.array(symbol_seqs)\n",
    "\n",
    "        class_id = classify_QTC_seqs(e_seqs)\n",
    "\n",
    "        correct_class_id = len(binary_classes)\n",
    "        y_true.append(correct_class_id)\n",
    "        y_pred.append(class_id)\n",
    "    \n",
    "        if class_id == correct_class_id:\n",
    "            us_correct += 1\n",
    "\n",
    "    # Rejections recall\n",
    "    rTPs = us_correct\n",
    "    rFNs = len(u_study_seqs_val) - us_correct\n",
    "    # rFPs = 0 # As accuracy in all other classes is 100%\n",
    "    recall = rTPs / (rTPs + rFNs)\n",
    "    # precision = rTPs / (rTPs + rFPs)\n",
    "    \n",
    "    u_acc = us_correct/len(u_study_seqs_val)*100\n",
    "\n",
    "#     print(\"Rejections FN rate: \" + str((rFNs/len(u_study_seqs_val)*100)) + \"%\")\n",
    "#     print(\"Rejections accuracy: \" + str(u_acc) + \"%\" )\n",
    "#     print(\"Rejection recall:\", str(recall * 100) + \"%\")\n",
    "    # print(\"Rejection precision:\", str(precision * 100) + \"%\")\n",
    "\n",
    "    total = len(pb_l_study_seqs_val) + len(pb_r_study_seqs_val) + len(rotl_study_seqs_val) + len(rotl_study_seqs_val) + len(pcl_study_seqs_val) + len(pcr_study_seqs_val)\n",
    "    total_correct = pb_l_correct + pb_r_correct + rotr_correct + rotl_correct + pcls_correct + pcrs_correct\n",
    "\n",
    "    overall_acc = (total_correct/total)*100\n",
    "    print(\"k\", k+1, \"/\", K)\n",
    "    print(\"\\nOverall accuracy (excluding rejections): \" + str(overall_acc) + \"%\")\n",
    "    print(\"Robot overtaking left TPR: \" + str(np.mean(rotl_acc)) + \"%\")\n",
    "    print(\"Robot overtaking right TPR: \" + str(np.mean(rotr_acc)) + \"%\")\n",
    "    print(\"Pass-by left TPR: \" + str(np.mean(pb_l_acc)) + \"%\")\n",
    "    print(\"Pass-by right TPR: \" + str(np.mean(pb_r_acc)) + \"%\")\n",
    "    print(\"Path-crossing left TPR: \" + str(np.mean(pcl_acc)) + \"%\")\n",
    "    print(\"Path-crossing right TPR: \" + str(np.mean(pcr_acc)) + \"%\")\n",
    "    print(\"Rejection TPR: \" + str(np.mean(u_acc)) + \"%\\n\")\n",
    "    \n",
    "    overall_accs.append(overall_acc)\n",
    "    rotl_accs.append(rotl_acc)\n",
    "    rotr_accs.append(rotr_acc)\n",
    "    pbl_accs.append(pb_l_acc)\n",
    "    pbr_accs.append(pb_r_acc)\n",
    "    pcl_accs.append(pcl_acc)\n",
    "    pcr_accs.append(pcr_acc)\n",
    "    u_accs.append(u_acc)\n",
    "    \n",
    "    if k == 2:\n",
    "        pblHMM.save_params(\"pblHMM_k_3_hf_2_class\")\n",
    "        pbrHMM.save_params(\"pbrHMM_k_3_hf_2_class\")\n",
    "        rotlHMM.save_params(\"rotlHMM_k_3_hf_2_class\")\n",
    "        rotrHMM.save_params(\"rotrHMM_k_3_hf_2_class\")\n",
    "        pclHMM.save_params(\"pclHMM_k_3_hf_2_class\")\n",
    "        pcrHMM.save_params(\"pcrHMM_k_3_hf_2_class\")"
   ]
  },
  {
   "cell_type": "code",
   "execution_count": 98,
   "metadata": {},
   "outputs": [
    {
     "name": "stdout",
     "output_type": "stream",
     "text": [
      "K-fold CV results:\n",
      "Overall accuracy: 87.56410256410255%\n",
      "Robot overtaking left TPR: 100.0%\n",
      "Robot overtaking right TPR: 100.0%\n",
      "Pass-by left TPR: 90.0%\n",
      "Pass-by right TPR: 100.0%\n",
      "Path-crossing left TPR: 100.0%\n",
      "Path-crossing right TPR: 100.0%\n",
      "Rejection TPR: 91.30434782608695%\n"
     ]
    }
   ],
   "source": [
    "print(\"K-fold CV results:\")\n",
    "print(\"Overall accuracy: \" + str(np.mean(overall_accs)) + \"%\")\n",
    "print(\"Robot overtaking left TPR: \" + str(np.mean(rotl_accs)) + \"%\")\n",
    "print(\"Robot overtaking right TPR: \" + str(np.mean(rotr_accs)) + \"%\")\n",
    "print(\"Pass-by left TPR: \" + str(np.mean(pbl_accs)) + \"%\")\n",
    "print(\"Pass-by right TPR: \" + str(np.mean(pbr_accs)) + \"%\")\n",
    "print(\"Path-crossing left TPR: \" + str(np.mean(pcl_accs)) + \"%\")\n",
    "print(\"Path-crossing right TPR: \" + str(np.mean(pcr_accs)) + \"%\")\n",
    "print(\"Rejection TPR: \" + str(np.mean(u_accs)) + \"%\")"
   ]
  },
  {
   "cell_type": "code",
   "execution_count": 99,
   "metadata": {},
   "outputs": [
    {
     "data": {
      "text/plain": [
       "6"
      ]
     },
     "execution_count": 99,
     "metadata": {},
     "output_type": "execute_result"
    }
   ],
   "source": [
    "len(classes)"
   ]
  },
  {
   "cell_type": "code",
   "execution_count": 100,
   "metadata": {},
   "outputs": [
    {
     "data": {
      "text/plain": [
       "array([[107,   3,   0],\n",
       "       [  0,  69,   0],\n",
       "       [  6,   0,  63]])"
      ]
     },
     "execution_count": 100,
     "metadata": {},
     "output_type": "execute_result"
    }
   ],
   "source": [
    "cm = confusion_matrix(y_true, y_pred)\n",
    "cm"
   ]
  },
  {
   "cell_type": "code",
   "execution_count": 102,
   "metadata": {},
   "outputs": [
    {
     "name": "stderr",
     "output_type": "stream",
     "text": [
      "/home/loz/QTC_Trajectory_HMMs/from_bags/confusion_matrix_pretty_print.py:167: MatplotlibDeprecationWarning: \n",
      "The tick1On function was deprecated in Matplotlib 3.1 and will be removed in 3.3. Use Tick.tick1line.set_visible instead.\n",
      "  t.tick1On = False\n",
      "/home/loz/QTC_Trajectory_HMMs/from_bags/confusion_matrix_pretty_print.py:168: MatplotlibDeprecationWarning: \n",
      "The tick2On function was deprecated in Matplotlib 3.1 and will be removed in 3.3. Use Tick.tick2line.set_visible instead.\n",
      "  t.tick2On = False\n",
      "/home/loz/QTC_Trajectory_HMMs/from_bags/confusion_matrix_pretty_print.py:170: MatplotlibDeprecationWarning: \n",
      "The tick1On function was deprecated in Matplotlib 3.1 and will be removed in 3.3. Use Tick.tick1line.set_visible instead.\n",
      "  t.tick1On = False\n",
      "/home/loz/QTC_Trajectory_HMMs/from_bags/confusion_matrix_pretty_print.py:171: MatplotlibDeprecationWarning: \n",
      "The tick2On function was deprecated in Matplotlib 3.1 and will be removed in 3.3. Use Tick.tick2line.set_visible instead.\n",
      "  t.tick2On = False\n"
     ]
    },
    {
     "data": {
      "image/png": "[encoded data removed]",
      "text/plain": [
       "<Figure size 576x576 with 1 Axes>"
      ]
     },
     "metadata": {
      "needs_background": "light"
     },
     "output_type": "display_data"
    }
   ],
   "source": [
    "df_cm = pd.DataFrame(cm, range(len(binary_classes)+1), range(len(binary_classes)+1))\n",
    "binary_classes.append(\"rejection\")\n",
    "df_cm.columns = binary_classes\n",
    "df_cm.index = binary_classes\n",
    "df_cm\n",
    "\n",
    "# From MATLAB plotconfusion docs (which inspired this confusion matrix plotting module):\n",
    "# The column on the far right of the plot shows the percentages of all the examples predicted to belong to each\n",
    "# class that are correctly and incorrectly classified. These metrics are often called the precision \n",
    "# (or positive predictive value) and false discovery rate, respectively. The row at the bottom of the plot shows\n",
    "# the percentages of all the examples belonging to each class that are correctly and incorrectly classified. \n",
    "# These metrics are often called the recall (or true positive rate) and false negative rate, respectively.\n",
    "# The cell in the bottom right of the plot shows the overall accuracy.\n",
    "pretty_plot_confusion_matrix(df_cm, show_null_values=2)"
   ]
  },
  {
   "cell_type": "code",
   "execution_count": null,
   "metadata": {},
   "outputs": [],
   "source": []
  }
 ],
 "metadata": {
  "kernelspec": {
   "display_name": "Python 3",
   "language": "python",
   "name": "python3"
  },
  "language_info": {
   "codemirror_mode": {
    "name": "ipython",
    "version": 3
   },
   "file_extension": ".py",
   "mimetype": "text/x-python",
   "name": "python",
   "nbconvert_exporter": "python",
   "pygments_lexer": "ipython3",
   "version": "3.8.7"
  },
  "notify_time": "5"
 },
 "nbformat": 4,
 "nbformat_minor": 2
}
