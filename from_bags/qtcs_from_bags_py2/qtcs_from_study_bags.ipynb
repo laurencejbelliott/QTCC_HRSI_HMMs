{
 "cells": [
  {
   "cell_type": "code",
   "execution_count": 1,
   "metadata": {},
   "outputs": [],
   "source": "#!/usr/bin/env python\n# coding: utf-8\n\nimport rosbag, os, matplotlib, pickle\nfrom matplotlib import pyplot as plt\nfrom scipy.interpolate import interp1d\nfrom qsrlib.qsrlib import QSRlib, QSRlib_Request_Message\nfrom qsrlib_io.world_trace import Object_State, World_Trace\nfrom qsrlib.qsrlib import QSR_QTC_BC_Simplified\nimport numpy as np\nimport pandas as pd\nimport datetime as dt\n\nos.chdir(\"/home/loz/QTC_Trajectory_HMMs/from_bags/\")"
  },
  {
   "cell_type": "code",
   "execution_count": 2,
   "metadata": {},
   "outputs": [
    {
     "data": {
      "text/plain": "['/home/loz/QTC_Trajectory_HMMs/from_bags/study_HRSI_rosbags/pbl/7/pp7.bag',\n '/home/loz/QTC_Trajectory_HMMs/from_bags/study_HRSI_rosbags/pbl/3/pp3.bag',\n '/home/loz/QTC_Trajectory_HMMs/from_bags/study_HRSI_rosbags/pbl/10/pp10.bag',\n '/home/loz/QTC_Trajectory_HMMs/from_bags/study_HRSI_rosbags/pbl/12/pp12.bag',\n '/home/loz/QTC_Trajectory_HMMs/from_bags/study_HRSI_rosbags/pbl/8/pp8.bag',\n '/home/loz/QTC_Trajectory_HMMs/from_bags/study_HRSI_rosbags/pbl/11/pp11.bag',\n '/home/loz/QTC_Trajectory_HMMs/from_bags/study_HRSI_rosbags/pbl/4/pp4.bag',\n '/home/loz/QTC_Trajectory_HMMs/from_bags/study_HRSI_rosbags/pbl/6/pp6.bag',\n '/home/loz/QTC_Trajectory_HMMs/from_bags/study_HRSI_rosbags/pbl/2/pp2.bag',\n '/home/loz/QTC_Trajectory_HMMs/from_bags/study_HRSI_rosbags/pbl/1/pp1.bag',\n '/home/loz/QTC_Trajectory_HMMs/from_bags/study_HRSI_rosbags/pbl/5/pp5.bag',\n '/home/loz/QTC_Trajectory_HMMs/from_bags/study_HRSI_rosbags/rotr/7/pp7.bag',\n '/home/loz/QTC_Trajectory_HMMs/from_bags/study_HRSI_rosbags/rotr/3/pp3.bag',\n '/home/loz/QTC_Trajectory_HMMs/from_bags/study_HRSI_rosbags/rotr/10/pp10.bag',\n '/home/loz/QTC_Trajectory_HMMs/from_bags/study_HRSI_rosbags/rotr/8/pp8.bag',\n '/home/loz/QTC_Trajectory_HMMs/from_bags/study_HRSI_rosbags/rotr/11/pp11.bag',\n '/home/loz/QTC_Trajectory_HMMs/from_bags/study_HRSI_rosbags/rotr/4/pp4.bag',\n '/home/loz/QTC_Trajectory_HMMs/from_bags/study_HRSI_rosbags/rotr/6/pp6.bag',\n '/home/loz/QTC_Trajectory_HMMs/from_bags/study_HRSI_rosbags/rotr/2/pp2.bag',\n '/home/loz/QTC_Trajectory_HMMs/from_bags/study_HRSI_rosbags/rotr/1/pp1.bag',\n '/home/loz/QTC_Trajectory_HMMs/from_bags/study_HRSI_rosbags/rotr/5/pp5.bag',\n '/home/loz/QTC_Trajectory_HMMs/from_bags/study_HRSI_rosbags/pcl/7/pp7.bag',\n '/home/loz/QTC_Trajectory_HMMs/from_bags/study_HRSI_rosbags/pcl/3/pp3.bag',\n '/home/loz/QTC_Trajectory_HMMs/from_bags/study_HRSI_rosbags/pcl/10/pp10.bag',\n '/home/loz/QTC_Trajectory_HMMs/from_bags/study_HRSI_rosbags/pcl/12/pp12.bag',\n '/home/loz/QTC_Trajectory_HMMs/from_bags/study_HRSI_rosbags/pcl/8/pp8.bag',\n '/home/loz/QTC_Trajectory_HMMs/from_bags/study_HRSI_rosbags/pcl/11/pp11.bag',\n '/home/loz/QTC_Trajectory_HMMs/from_bags/study_HRSI_rosbags/pcl/4/pp4.bag',\n '/home/loz/QTC_Trajectory_HMMs/from_bags/study_HRSI_rosbags/pcl/6/pp6.bag',\n '/home/loz/QTC_Trajectory_HMMs/from_bags/study_HRSI_rosbags/pcl/2/pp2.bag',\n '/home/loz/QTC_Trajectory_HMMs/from_bags/study_HRSI_rosbags/pcl/1/pp1.bag',\n '/home/loz/QTC_Trajectory_HMMs/from_bags/study_HRSI_rosbags/pcl/5/pp5.bag',\n '/home/loz/QTC_Trajectory_HMMs/from_bags/study_HRSI_rosbags/pbr/7/pp7.bag',\n '/home/loz/QTC_Trajectory_HMMs/from_bags/study_HRSI_rosbags/pbr/3/pp3.bag',\n '/home/loz/QTC_Trajectory_HMMs/from_bags/study_HRSI_rosbags/pbr/10/pp10.bag',\n '/home/loz/QTC_Trajectory_HMMs/from_bags/study_HRSI_rosbags/pbr/12/pp12.bag',\n '/home/loz/QTC_Trajectory_HMMs/from_bags/study_HRSI_rosbags/pbr/8/pp8.bag',\n '/home/loz/QTC_Trajectory_HMMs/from_bags/study_HRSI_rosbags/pbr/11/pp11.bag',\n '/home/loz/QTC_Trajectory_HMMs/from_bags/study_HRSI_rosbags/pbr/4/pp4.bag',\n '/home/loz/QTC_Trajectory_HMMs/from_bags/study_HRSI_rosbags/pbr/6/pp6.bag',\n '/home/loz/QTC_Trajectory_HMMs/from_bags/study_HRSI_rosbags/pbr/2/pp2.bag',\n '/home/loz/QTC_Trajectory_HMMs/from_bags/study_HRSI_rosbags/pbr/1/pp1.bag',\n '/home/loz/QTC_Trajectory_HMMs/from_bags/study_HRSI_rosbags/pbr/5/pp5.bag',\n '/home/loz/QTC_Trajectory_HMMs/from_bags/study_HRSI_rosbags/pcr/7/pp7.bag',\n '/home/loz/QTC_Trajectory_HMMs/from_bags/study_HRSI_rosbags/pcr/3/pp3.bag',\n '/home/loz/QTC_Trajectory_HMMs/from_bags/study_HRSI_rosbags/pcr/10/pp10.bag',\n '/home/loz/QTC_Trajectory_HMMs/from_bags/study_HRSI_rosbags/pcr/8/pp8.bag',\n '/home/loz/QTC_Trajectory_HMMs/from_bags/study_HRSI_rosbags/pcr/11/pp11.bag',\n '/home/loz/QTC_Trajectory_HMMs/from_bags/study_HRSI_rosbags/pcr/4/pp4.bag',\n '/home/loz/QTC_Trajectory_HMMs/from_bags/study_HRSI_rosbags/pcr/6/pp6.bag',\n '/home/loz/QTC_Trajectory_HMMs/from_bags/study_HRSI_rosbags/pcr/2/pp2.bag',\n '/home/loz/QTC_Trajectory_HMMs/from_bags/study_HRSI_rosbags/pcr/1/pp1.bag',\n '/home/loz/QTC_Trajectory_HMMs/from_bags/study_HRSI_rosbags/pcr/5/pp5.bag',\n '/home/loz/QTC_Trajectory_HMMs/from_bags/study_HRSI_rosbags/rotl/7/pp7.bag',\n '/home/loz/QTC_Trajectory_HMMs/from_bags/study_HRSI_rosbags/rotl/3/pp3.bag',\n '/home/loz/QTC_Trajectory_HMMs/from_bags/study_HRSI_rosbags/rotl/10/pp10.bag',\n '/home/loz/QTC_Trajectory_HMMs/from_bags/study_HRSI_rosbags/rotl/12/pp12.bag',\n '/home/loz/QTC_Trajectory_HMMs/from_bags/study_HRSI_rosbags/rotl/8/pp8.bag',\n '/home/loz/QTC_Trajectory_HMMs/from_bags/study_HRSI_rosbags/rotl/11/pp11.bag',\n '/home/loz/QTC_Trajectory_HMMs/from_bags/study_HRSI_rosbags/rotl/4/pp4.bag',\n '/home/loz/QTC_Trajectory_HMMs/from_bags/study_HRSI_rosbags/rotl/6/pp6.bag',\n '/home/loz/QTC_Trajectory_HMMs/from_bags/study_HRSI_rosbags/rotl/2/pp2.bag',\n '/home/loz/QTC_Trajectory_HMMs/from_bags/study_HRSI_rosbags/rotl/1/pp1.bag',\n '/home/loz/QTC_Trajectory_HMMs/from_bags/study_HRSI_rosbags/rotl/5/pp5.bag',\n '/home/loz/QTC_Trajectory_HMMs/from_bags/study_HRSI_rosbags/u/7/pp7.bag',\n '/home/loz/QTC_Trajectory_HMMs/from_bags/study_HRSI_rosbags/u/3/pp3.bag',\n '/home/loz/QTC_Trajectory_HMMs/from_bags/study_HRSI_rosbags/u/10/pp10.bag',\n '/home/loz/QTC_Trajectory_HMMs/from_bags/study_HRSI_rosbags/u/12/pp12.bag',\n '/home/loz/QTC_Trajectory_HMMs/from_bags/study_HRSI_rosbags/u/8/pp8.bag',\n '/home/loz/QTC_Trajectory_HMMs/from_bags/study_HRSI_rosbags/u/11/pp11.bag',\n '/home/loz/QTC_Trajectory_HMMs/from_bags/study_HRSI_rosbags/u/4/pp4.bag',\n '/home/loz/QTC_Trajectory_HMMs/from_bags/study_HRSI_rosbags/u/6/pp6.bag',\n '/home/loz/QTC_Trajectory_HMMs/from_bags/study_HRSI_rosbags/u/2/pp2.bag',\n '/home/loz/QTC_Trajectory_HMMs/from_bags/study_HRSI_rosbags/u/1/pp1.bag',\n '/home/loz/QTC_Trajectory_HMMs/from_bags/study_HRSI_rosbags/u/5/pp5.bag']"
     },
     "execution_count": 2,
     "metadata": {},
     "output_type": "execute_result"
    }
   ],
   "source": "# In[2]:\n\nlab_bags = [os.path.join(dp, f) for dp, dn, fn in os.walk(os.path.expanduser(\"~/QTC_Trajectory_HMMs/from_bags/study_HRSI_rosbags\")) for f in fn]\nlab_bags"
  },
  {
   "cell_type": "code",
   "execution_count": 3,
   "metadata": {},
   "outputs": [],
   "source": "# In[60]:\n\n\nr_positions = []\nh_positions = []\n\nr_state_seqs = []\nh_state_seqs = []\n\nqsrlib = QSRlib()\n\nfor bag_path in lab_bags:\n    bag = rosbag.Bag(bag_path)\n    \n    r_xs = []\n    r_ys = []\n    \n    r_state_seq = []\n    for topic, msg, t in bag.read_messages(topics=['/robot5/control/odom']):\n        t = t.to_sec()\n        x = msg.pose.pose.position.x\n        y = msg.pose.pose.position.y\n        \n        r_xs.append(x)\n        r_ys.append(y)\n        \n        r_state_seq.append(Object_State(name=\"robot\", timestamp=t, x=x, y=y))\n    r_state_seqs.append(r_state_seq)\n    \n    h_xs = []\n    h_ys = []\n    \n    h_state_seq = []\n    for topic, msg, t in bag.read_messages(topics=['/robot5/people_tracker_filtered/positions']):\n        t = t.to_sec()\n        try:\n            x = msg.poses[0].position.x\n            y = msg.poses[0].position.y\n            \n            h_xs.append(x)\n            h_ys.append(y)\n            \n            h_state_seq.append(Object_State(name=\"human\", timestamp=t, x=x, y=y))\n    \n        except:\n            pass\n    h_state_seqs.append(h_state_seq)\n    \n    bag.close()\n    r_positions.append([r_xs, r_ys])\n    h_positions.append([h_xs, h_ys])\n\n\n# In[61]:"
  },
  {
   "cell_type": "code",
   "execution_count": 4,
   "metadata": {},
   "outputs": [],
   "source": "# Test getting QTC_C sequence\nbag_no = 0\nquantisation_factor = 0.01\n\nworld = World_Trace()\n\nh_x = [h_state_seqs[bag_no][i].x for i in range(len(h_state_seqs[bag_no]))]\nh_y = [h_state_seqs[bag_no][i].y for i in range(len(h_state_seqs[bag_no]))]\n\n\nr_x = [r_state_seqs[bag_no][i].x for i in range(len(r_state_seqs[bag_no]))]\nr_y = [r_state_seqs[bag_no][i].y for i in range(len(r_state_seqs[bag_no]))]"
  },
  {
   "cell_type": "code",
   "execution_count": 5,
   "metadata": {},
   "outputs": [],
   "source": "# In[62]:\n\n\n# Downsample state series' to 200kHz frequency\nh_state_series = pd.DataFrame({\"x\": h_x, \"y\": h_y},\n    index=[pd.to_datetime(h_state_seqs[bag_no][i].timestamp, unit=\"s\") for i in range(len(h_state_seqs[bag_no]))])\n\nh_state_series = h_state_series.resample(\"200ms\").mean()"
  },
  {
   "cell_type": "code",
   "execution_count": 6,
   "metadata": {},
   "outputs": [],
   "source": "# In[63]:\n\n\nr_state_series = pd.DataFrame({\"x\": r_x, \"y\": r_y},\n    index=[pd.to_datetime(r_state_seqs[bag_no][i].timestamp, unit=\"s\") for i in range(len(r_state_seqs[bag_no]))])\n\nr_state_series = r_state_series.resample(\"200ms\").mean()"
  },
  {
   "cell_type": "code",
   "execution_count": 7,
   "metadata": {},
   "outputs": [],
   "source": "# In[64]:\n\n\n# Create world_trace state series from downsampled human position data\nh_state_seq = []\nfor index, row in h_state_series.iterrows():\n    x = row['x']\n    y = row['y']\n    t = (pd.to_datetime(index) - dt.datetime(1970,1,1)).total_seconds()\n    \n    h_state_seq.append(Object_State(name=\"human\", timestamp=t, x=x, y=y))"
  },
  {
   "cell_type": "code",
   "execution_count": 8,
   "metadata": {},
   "outputs": [],
   "source": "# In[65]:\n\n\n# Create world_trace state series from downsampled robot position data\nr_state_seq = []\nfor index, row in r_state_series.iterrows():\n    x = row['x']\n    y = row['y']\n    t = (pd.to_datetime(index) - dt.datetime(1970,1,1)).total_seconds()\n    \n    r_state_seq.append(Object_State(name=\"robot\", timestamp=t, x=x, y=y))"
  },
  {
   "cell_type": "code",
   "execution_count": 9,
   "metadata": {},
   "outputs": [
    {
     "name": "stderr",
     "output_type": "stream",
     "text": "/home/loz/QTC_Trajectory_HMMs/from_bags/qtcs_from_bags_py2/venv/local/lib/python2.7/site-packages/numpy/linalg/linalg.py:2093: RuntimeWarning: invalid value encountered in det\n  r = _umath_linalg.det(a, signature=signature)\n"
    },
    {
     "data": {
      "text/plain": "<qsrlib.qsrlib.QSRlib_Response_Message at 0x7f05e21cce10>"
     },
     "execution_count": 9,
     "metadata": {},
     "output_type": "execute_result"
    }
   ],
   "source": "# In[83]:\n\n\nworld.add_object_state_series(h_state_seq)\nworld.add_object_state_series(r_state_seq)\n\n# make a QSRlib request message\ndynamic_args = {\"qtccs\": {\"no_collapse\": True, \"quantisation_factor\": quantisation_factor,\n                                        \"validate\": False, \"qsrs_for\": [(\"human\", \"robot\")]}}\n\nqsrlib_request_message = QSRlib_Request_Message(\n    'qtccs', world, dynamic_args)\n\n# request your QSRs\nqsrlib_response_message = qsrlib.request_qsrs(req_msg=qsrlib_request_message)\nqsrlib_response_message"
  },
  {
   "cell_type": "code",
   "execution_count": 10,
   "metadata": {},
   "outputs": [
    {
     "name": "stdout",
     "output_type": "stream",
     "text": "----\n----\n----\n-0--\n+0--\n++--\n++--\n++--\n++--\n++--\n++--\n++--\n++--\n++--\n++--\n++--\n++--\n++--\n++--\n++--\n++--\n++--\n++--\n++--\n0+0-\n0000\n0000\n0000\n0000\n0000\n0000\n-+-0\n-+-0\n"
    }
   ],
   "source": "# Get QSR at each timestamp\ntimestamps = qsrlib_response_message.qsrs.get_sorted_timestamps()\nfor t in timestamps:\n    for val in qsrlib_response_message.qsrs.trace[t].qsrs.values():\n        print(val.qsr['qtccs'].replace(\",\",\"\"))"
  },
  {
   "cell_type": "code",
   "execution_count": 11,
   "metadata": {},
   "outputs": [
    {
     "data": {
      "text/plain": "'pbl_7'"
     },
     "execution_count": 11,
     "metadata": {},
     "output_type": "execute_result"
    }
   ],
   "source": "# In[9]:\nbag_path = lab_bags[bag_no]\n# bag_path[67:].replace(\"/\", \"_\")[:-4]\n\"_\".join(bag_path[59:].replace(\"/\", \"_\")[:-4].split(\"_\")[:2])"
  },
  {
   "cell_type": "markdown",
   "metadata": {},
   "source": "# Build dict of bags and their QTC_C sequences"
  },
  {
   "cell_type": "code",
   "execution_count": 12,
   "metadata": {},
   "outputs": [
    {
     "name": "stdout",
     "output_type": "stream",
     "text": "pbl_7\npbl_3\npbl_10\npbl_12\npbl_8\npbl_11\npbl_4\npbl_6\npbl_2\npbl_1\npbl_5\nrotr_7\nrotr_3\nrotr_10\nrotr_8\nrotr_11\nrotr_4\nrotr_6\nrotr_2\nrotr_1\nrotr_5\npcl_7\npcl_3\npcl_10\npcl_12\npcl_8\npcl_11\npcl_4\npcl_6\npcl_2\npcl_1\npcl_5\npbr_7\npbr_3\npbr_10\npbr_12\npbr_8\npbr_11\npbr_4\npbr_6\npbr_2\npbr_1\npbr_5\npcr_7\npcr_3\npcr_10\npcr_8\npcr_11\npcr_4\npcr_6\npcr_2\npcr_1\npcr_5\nrotl_7\nrotl_3\nrotl_10\nrotl_12\nrotl_8\nrotl_11\nrotl_4\nrotl_6\nrotl_2\nrotl_1\nrotl_5\nu_7\nu_3\nu_10\nu_12\nu_8\nu_11\nu_4\nu_6\nu_2\nu_1\nu_5\n"
    }
   ],
   "source": "quantisation_factor = 0.01\nqtc_seqs = {}\n\nfor bag_no in range(len(lab_bags)):\n    qtc_seq = []\n    bag_path = lab_bags[bag_no]\n    sit_code = \"_\".join(bag_path[59:].replace(\"/\", \"_\")[:-4].split(\"_\")[:2])\n    initial_bag_nos = range(1,6)\n    \n    print(sit_code)\n    \n    world = World_Trace()\n\n    h_x = [h_state_seqs[bag_no][i].x for i in range(len(h_state_seqs[bag_no]))]\n    h_y = [h_state_seqs[bag_no][i].y for i in range(len(h_state_seqs[bag_no]))]\n\n\n    r_x = [r_state_seqs[bag_no][i].x for i in range(len(r_state_seqs[bag_no]))]\n    r_y = [r_state_seqs[bag_no][i].y for i in range(len(r_state_seqs[bag_no]))]\n    \n\n\n    # Downsample state series' to 200kHz frequency\n    h_state_series = pd.DataFrame({\"x\": h_x, \"y\": h_y},\n        index=[pd.to_datetime(h_state_seqs[bag_no][i].timestamp, unit=\"s\") for i in range(len(h_state_seqs[bag_no]))])\n\n    h_state_series = h_state_series.resample(\"200ms\").mean()\n\n    \n    r_state_series = pd.DataFrame({\"x\": r_x, \"y\": r_y},\n        index=[pd.to_datetime(r_state_seqs[bag_no][i].timestamp, unit=\"s\") for i in range(len(r_state_seqs[bag_no]))])\n\n    r_state_series = r_state_series.resample(\"200ms\").mean()\n    \n    # Correct for erroneous odometry tracking of robot position\n    r_x_start = r_state_series.x.values[0]\n    r_x_end = r_state_series.x.values[-1]\n    r_y_start = r_state_series.y.values[0]\n    r_y_end = r_state_series.y.values[-1]\n\n    r_start_end_dist = np.sqrt(((r_x_end - r_x_start)**2) + ((r_y_end - r_y_start)**2))\n\n    if r_start_end_dist > 1:\n        r_state_series.y = np.linspace(2, 3.5, len(r_state_series.x.values))\n        r_state_series.x = np.linspace(1, 4.5, len(r_state_series.y.values))\n    else:\n        r_state_series.y = np.linspace(2, 2, len(r_state_series.x.values))\n        r_state_series.x = np.linspace(1, 1, len(r_state_series.y.values))\n    \n    with open(\"lab_sit_starts_ends.pickle\", \"r\") as f:\n        starts_ends_ts = pickle.load(f)\n    \n#     if int(sit_code.split(\"_\")[-1]) in initial_bag_nos:\n#         h_state_series = h_state_series.loc[starts_ends_ts[sit_code][0]:starts_ends_ts[sit_code][1]]\n#         r_state_series = r_state_series.loc[starts_ends_ts[sit_code][0]:starts_ends_ts[sit_code][1]]\n    \n    start = max(r_state_series.index.min(), h_state_series.index.min())\n    end = min(r_state_series.index.max(), h_state_series.index.max())\n\n    h_state_series = h_state_series.resample(\"200ms\").interpolate()\n    r_state_series = r_state_series.resample(\"200ms\").interpolate()\n    \n    r_state_series = r_state_series.loc[start:end]\n    h_state_series = h_state_series.loc[start:end]\n\n    # Correct for frame for people positions being robot position\n    h_state_series.x = [h_state_series.x.values[i] + r_state_series.x.values[i] for i in range(len(h_state_series.x.values))]\n    h_state_series.y = [h_state_series.y.values[i] + r_state_series.y.values[i] for i in range(len(h_state_series.y.values))]\n    \n\n    # Create world_trace state series from downsampled human position data\n    h_state_seq = []\n    for index, row in h_state_series.iterrows():\n        x = row['x']\n        y = row['y']\n        t = (pd.to_datetime(index) - dt.datetime(1970,1,1)).total_seconds()\n\n        h_state_seq.append(Object_State(name=\"human\", timestamp=t, x=x, y=y))\n        \n        \n    # Create world_trace state series from downsampled robot position data\n    r_state_seq = []\n    for index, row in r_state_series.iterrows():\n        x = row['x']\n        y = row['y']\n        t = (pd.to_datetime(index) - dt.datetime(1970,1,1)).total_seconds()\n\n        r_state_seq.append(Object_State(name=\"robot\", timestamp=t, x=x, y=y))\n        \n\n    # Add human and robot trajectories to world\n    world.add_object_state_series(h_state_seq)\n    world.add_object_state_series(r_state_seq)\n\n    # make a QSRlib request message\n    dynamic_args = {\"qtccs\": {\"no_collapse\": False, \"quantisation_factor\": quantisation_factor,\n                                            \"validate\": False, \"qsrs_for\": [(\"robot\", \"human\")]}}\n\n    qsrlib_request_message = QSRlib_Request_Message(\n        'qtccs', world, dynamic_args)\n\n    # request your QSRs\n    qsrlib_response_message = qsrlib.request_qsrs(req_msg=qsrlib_request_message)\n    qsrlib_response_message\n    \n    \n    # Get QSR at each timestamp\n    timestamps = qsrlib_response_message.qsrs.get_sorted_timestamps()\n    for t in timestamps:\n        for val in qsrlib_response_message.qsrs.trace[t].qsrs.values():\n            qtc_seq.append(val.qsr['qtccs'].replace(\",\",\"\"))\n    qtc_seqs[sit_code] = qtc_seq"
  },
  {
   "cell_type": "code",
   "execution_count": 13,
   "metadata": {
    "scrolled": true
   },
   "outputs": [
    {
     "data": {
      "text/plain": "{'pbl_1': ['----',\n  '0---',\n  '+---',\n  '+0--',\n  '++--',\n  '++0-',\n  '+++-',\n  '+-+-',\n  '+-+0',\n  '+-++',\n  '+-+0'],\n 'pbl_10': ['----', '0---', '+---', '+0--', '++--', '++0-', '+++-', '+-+-'],\n 'pbl_11': ['----',\n  '0---',\n  '+0--',\n  '++--',\n  '++0-',\n  '+-0-',\n  '+-+-',\n  '+-++',\n  '+-+0',\n  '+-++',\n  '+-0+'],\n 'pbl_12': ['---+',\n  '---0',\n  '----',\n  '---0',\n  '----',\n  '+---',\n  '++--',\n  '++0-',\n  '+++-'],\n 'pbl_2': ['----', '0---', '+---', '++--', '++0-'],\n 'pbl_3': ['-0-+',\n  '---+',\n  '-+--',\n  '0--+',\n  '00-0',\n  '00-+',\n  '0--+',\n  '0+--',\n  '0--+',\n  '00-+',\n  '0--+',\n  '00-+',\n  '0+-0',\n  '+--+',\n  '++-+',\n  '+--+'],\n 'pbl_4': ['---0',\n  '----',\n  '0---',\n  '+---',\n  '+0--',\n  '++--',\n  '++0-',\n  '+++-',\n  '+-+-'],\n 'pbl_5': ['----', '0---', '+---', '+0--', '++--', '++0-'],\n 'pbl_6': ['---0', '----', '0---', '+---', '+0--', '++--', '++0-', '+++-'],\n 'pbl_7': ['----', '0---', '+0--', '++--', '++0-', '+-+-'],\n 'pbl_8': ['---+',\n  '+-+-',\n  '+-+0',\n  '+-++',\n  '+++-',\n  '+-++',\n  '+-+-',\n  '+++-',\n  '+-++',\n  '+---',\n  '+0--',\n  '++--',\n  '++0-',\n  '+++-'],\n 'pbr_1': ['---+',\n  '--0+',\n  '--++',\n  '0-++',\n  '+-++',\n  '+0++',\n  '+-++',\n  '++++',\n  '+-++',\n  '++++',\n  '+++-'],\n 'pbr_10': ['---+', '--0+', '--++', '-+++', '0+++', '++++'],\n 'pbr_11': ['---+', '--0+', '--++', '0+++', '++++'],\n 'pbr_12': ['---+', '--0+', '--++', '-+++', '--++', '++++'],\n 'pbr_2': ['---+', '--0+', '--++', '++++', '+-+-'],\n 'pbr_3': ['---+', '--0+', '--++', '0-++', '+-++', '++++'],\n 'pbr_4': ['---+',\n  '--0+',\n  '--++',\n  '-+++',\n  '--++',\n  '0+++',\n  '++++',\n  '+-+-',\n  '0-+-',\n  '--+-',\n  '-0+-'],\n 'pbr_5': ['---+', '--0+', '--++', '0-++', '++++', '+-++', '+-+-', '+++-'],\n 'pbr_6': ['---+', '--0+', '--++', '-0++', '--++', '0+++', '++++'],\n 'pbr_7': ['---+', '--0+', '--++', '-+++', '--++', '++++', '+++0'],\n 'pbr_8': ['---+', '--0+', '--++', '-0++', '--++', '++++'],\n 'pcl_1': ['-+--',\n  '-0--',\n  '-+--',\n  '----',\n  '-0--',\n  '----',\n  '-0--',\n  '----',\n  '-0--',\n  '-+--',\n  '0+--',\n  '++--',\n  '++-0'],\n 'pcl_10': ['-+--', '----', '-0--', '----', '-0--', '-+--', '0+--', '++--'],\n 'pcl_11': ['----',\n  '-+--',\n  '-0--',\n  '----',\n  '-0--',\n  '-+--',\n  '0+--',\n  '++--',\n  '++-0'],\n 'pcl_12': ['----', '-0--', '----', '-0--', '-+--', '0+--', '++--', '++-+'],\n 'pcl_2': ['-+--',\n  '----',\n  '-0--',\n  '----',\n  '-0--',\n  '----',\n  '-0--',\n  '-+--',\n  '0+--',\n  '++-0',\n  '++--'],\n 'pcl_3': ['----',\n  '-+--',\n  '----',\n  '-0--',\n  '----',\n  '-+--',\n  '-0--',\n  '-+--',\n  '0+--',\n  '++--',\n  '+0-+',\n  '+---',\n  '++0-',\n  '+-++',\n  '+-+0'],\n 'pcl_4': ['----', '-0--', '----', '-0--', '-+--', '0+--', '++--', '+---'],\n 'pcl_5': ['----',\n  '-+--',\n  '----',\n  '-+--',\n  '----',\n  '-+--',\n  '0+--',\n  '++--',\n  '+---',\n  '+++-'],\n 'pcl_6': ['----',\n  '-+--',\n  '----',\n  '-0--',\n  '----',\n  '-0--',\n  '-+--',\n  '0+--',\n  '++--',\n  '++-+'],\n 'pcl_7': ['-0--',\n  '----',\n  '-0--',\n  '----',\n  '-+--',\n  '----',\n  '-+--',\n  '0+--',\n  '++--',\n  '++-0',\n  '++-+',\n  '++-0',\n  '++-+'],\n 'pcl_8': ['-+--', '----', '-0--', '-+--', '0+--', '++--', '++-0', '++-+'],\n 'pcr_1': ['0--+', '---+', '-0-+', '-+-+', '-+0+'],\n 'pcr_10': ['0--+', '---+', '-0-+', '-+-+', '-+0+'],\n 'pcr_11': ['---+', '-0-+', '-+-+'],\n 'pcr_2': ['0--+', '---+', '-0-+', '-+-+', '-+0+'],\n 'pcr_3': ['-+-+', '---+', '-+-+'],\n 'pcr_4': ['---+', '-+-+', '---+', '-+-+', '-+0+', '-+++', '--++'],\n 'pcr_5': ['---+', '-0-+', '---+', '-+-+'],\n 'pcr_6': ['---+', '-0-+', '-+-+', '-+0+'],\n 'pcr_7': ['---+', '-+-+', '-+0+'],\n 'pcr_8': ['---+', '-+-+', '-0-+', '-+-+', '-+0+', '--0+', '--++'],\n 'rotl_1': ['-+-+',\n  '-0-+',\n  '-+-+',\n  '-0-+',\n  '-+-+',\n  '-0-+',\n  '-+-+',\n  '-0-+',\n  '---+'],\n 'rotl_10': ['-+-+',\n  '-0-+',\n  '-+-+',\n  '-0-+',\n  '-+-+',\n  '-0-+',\n  '-+-+',\n  '-0-+',\n  '00-+',\n  '0--+'],\n 'rotl_11': ['-+-+',\n  '-0-+',\n  '-+-+',\n  '-0-+',\n  '---+',\n  '---0',\n  '-0-0',\n  '-0-+',\n  '---+',\n  '-0-+',\n  '-+-+',\n  '-0-+',\n  '---+',\n  '---0',\n  '-0-0',\n  '-0--',\n  '00--',\n  '00-0',\n  '00-+',\n  '0--+',\n  '0--0',\n  '00-0',\n  '0+--',\n  '+0-0',\n  '+0--',\n  '+0-0',\n  '+--0',\n  '+--+',\n  '+--0',\n  '+--+',\n  '+0-+',\n  '+--+',\n  '+0-+',\n  '+--+'],\n 'rotl_12': ['-0-+',\n  '-+-+',\n  '-0-+',\n  '-+-+',\n  '-0-+',\n  '-+-+',\n  '-0-+',\n  '-+-+',\n  '-0-+',\n  '00-+',\n  '0--+',\n  '00-+'],\n 'rotl_2': ['-+-+',\n  '-0-+',\n  '-+-+',\n  '-0-+',\n  '-+-+',\n  '-0-+',\n  '-+-+',\n  '-0-+',\n  '-+-+',\n  '-0-+',\n  '-+-+',\n  '---+',\n  '-0-+',\n  '00-+',\n  '0--+',\n  '00-+'],\n 'rotl_3': ['-+-+',\n  '-0-+',\n  '-+-+',\n  '-0-+',\n  '-+-+',\n  '-0-+',\n  '-+-+',\n  '-0-+',\n  '-+-+',\n  '-0-+',\n  '-+-+',\n  '-0-+',\n  '-+-+',\n  '---+',\n  '-0-+',\n  '-+-+',\n  '-0-+',\n  '0+-+',\n  '00-+'],\n 'rotl_4': ['-+-+',\n  '-0-+',\n  '-+-+',\n  '-0-+',\n  '-+-+',\n  '-0-+',\n  '---+',\n  '-+-+',\n  '---0',\n  '----',\n  '-0-+'],\n 'rotl_5': ['-+-+',\n  '-0-+',\n  '-+-+',\n  '-0-+',\n  '---+',\n  '-0-+',\n  '-+-+',\n  '-0-+',\n  '-+-+',\n  '-0-+',\n  '---+',\n  '-0-+',\n  '---+',\n  '-0-+',\n  '00-+',\n  '0--+',\n  '00-+'],\n 'rotl_6': ['-+-+',\n  '-0-+',\n  '---+',\n  '-0-+',\n  '-+-+',\n  '-0-+',\n  '-0-0',\n  '-0-+',\n  '---+',\n  '-0-+',\n  '---+',\n  '-0-+',\n  '-+-+',\n  '0+-+',\n  '00-+',\n  '0--+',\n  '0--0',\n  '+--0',\n  '+--+',\n  '+--0',\n  '+0-+',\n  '+--+'],\n 'rotl_7': ['-0-+',\n  '-+-+',\n  '-0-+',\n  '---+',\n  '-0-+',\n  '-+-+',\n  '-0-+',\n  '-+-+',\n  '---+',\n  '----',\n  '-+-+',\n  '00-+',\n  '00-0',\n  '00-+',\n  '0--+',\n  '00-+',\n  '+0-+',\n  '+--+'],\n 'rotl_8': ['-+-+',\n  '-0-0',\n  '-+-0',\n  '-+-+',\n  '-0-+',\n  '-+-+',\n  '-0-+',\n  '-+-+',\n  '-+--',\n  '0+--',\n  '++--',\n  '+--0',\n  '+--+',\n  '++--',\n  '+---',\n  '+--+',\n  '-+--',\n  '0--+',\n  '---+',\n  '-0-+',\n  '-+-+',\n  '-0-+',\n  '---+',\n  '-0-+',\n  '00-+',\n  '0+-+',\n  '00-+',\n  '0--+'],\n 'rotr_1': ['-++-',\n  '-++0',\n  '-+++',\n  '-++0',\n  '-++-',\n  '-++0',\n  '-+++',\n  '-++-',\n  '-++0',\n  '-++-',\n  '-++0',\n  '-++-',\n  '-++0',\n  '-++-'],\n 'rotr_10': ['-++-',\n  '-++0',\n  '-+++',\n  '-++0',\n  '-++-',\n  '-++0',\n  '-++-',\n  '-++0',\n  '-++-'],\n 'rotr_11': ['-+00',\n  '-+0+',\n  '-+00',\n  '-+0-',\n  '-+00',\n  '-+0+',\n  '-+00',\n  '-000',\n  '-00+',\n  '-0++',\n  '-+++',\n  '-++0',\n  '-++-',\n  '-0+-',\n  '-0+0',\n  '-++0',\n  '-+++',\n  '-++0',\n  '-++-',\n  '-0+-',\n  '-++-',\n  '-0+-',\n  '-++-',\n  '-++0',\n  '-++-',\n  '-0+-',\n  '-++-'],\n 'rotr_2': ['-+00',\n  '-+0+',\n  '-+00',\n  '-++0',\n  '-++-',\n  '-+0-',\n  '-+00',\n  '-+0+',\n  '-+00',\n  '-+++',\n  '-++0',\n  '-++-',\n  '-++0',\n  '-0+0',\n  '-++0',\n  '-+++',\n  '-++0',\n  '-++-',\n  '-++0',\n  '-++-',\n  '-++0',\n  '-++-',\n  '-0+-',\n  '-++-'],\n 'rotr_3': ['-++-', '-++0', '-++-', '-++0', '-++-'],\n 'rotr_4': ['-++-',\n  '-++0',\n  '-++-',\n  '-++0',\n  '-++-',\n  '-++0',\n  '-++-',\n  '-+0-',\n  '-+00',\n  '-++0',\n  '-++-',\n  '-++0',\n  '-+++',\n  '-++0',\n  '-+++',\n  '-++-',\n  '-++0'],\n 'rotr_5': ['-+00',\n  '-++0',\n  '-++-',\n  '-+0-',\n  '-+00',\n  '-++0',\n  '-++-',\n  '-++0',\n  '-+++',\n  '-++0',\n  '-++-',\n  '-++0',\n  '-++-',\n  '-++0',\n  '-++-'],\n 'rotr_6': ['-+00',\n  '-+0+',\n  '-++0',\n  '-++-',\n  '-++0',\n  '-+++',\n  '-++0',\n  '-+++',\n  '-++0',\n  '-+++',\n  '-++0',\n  '-++-',\n  '-++0',\n  '-++-',\n  '-++0',\n  '-++-',\n  '-++0',\n  '-++-'],\n 'rotr_7': ['-+00',\n  '-+0-',\n  '-+00',\n  '-+0+',\n  '-+00',\n  '-+0+',\n  '-+++',\n  '-++0',\n  '-++-',\n  '-++0',\n  '-+++',\n  '-++0',\n  '-++-',\n  '-0+-',\n  '-++-',\n  '-++0',\n  '-++-',\n  '-++0'],\n 'rotr_8': ['-+00',\n  '-+0+',\n  '-+00',\n  '-+0-',\n  '-+00',\n  '-+0+',\n  '-++0',\n  '-+++',\n  '-++0',\n  '-++-',\n  '-++0',\n  '-++-',\n  '-++0',\n  '-++-',\n  '-++0',\n  '-++-'],\n 'u_1': ['0+0-', '0-0+', '0+0+', '0-0+', '0+0+'],\n 'u_10': ['0000'],\n 'u_11': ['-+-+',\n  '---+',\n  '---0',\n  '-0-+',\n  '---+',\n  '---0',\n  '---+',\n  '---0',\n  '---+',\n  '---0',\n  '---+',\n  '---0',\n  '-0-+',\n  '----',\n  '---0',\n  '----',\n  '0--0',\n  '0--+',\n  '00-+',\n  '0--+',\n  '00-+',\n  '0--+',\n  '00-+'],\n 'u_12': ['0-0+', '0+0+'],\n 'u_2': ['-+-+',\n  '-0-+',\n  '---+',\n  '-0-+',\n  '---0',\n  '---+',\n  '-0-+',\n  '---+',\n  '---0',\n  '---+',\n  '---0',\n  '----',\n  '---0',\n  '0---',\n  '0--0',\n  '0---',\n  '0--0',\n  '00-+',\n  '0--+',\n  '00-+'],\n 'u_3': ['0000'],\n 'u_4': ['0-0+',\n  '0-00',\n  '0-0+',\n  '0-00',\n  '0-0-',\n  '0-00',\n  '0-0+',\n  '0-00',\n  '0-0-',\n  '0-00',\n  '000+',\n  '0+0+',\n  '0+00',\n  '0000'],\n 'u_5': ['0000'],\n 'u_6': ['0-0+', '0+0+'],\n 'u_7': ['0-0-', '000-', '0+00', '0+0+', '0+00', '0+0+'],\n 'u_8': ['0-0-', '0+0-']}"
     },
     "execution_count": 13,
     "metadata": {},
     "output_type": "execute_result"
    }
   ],
   "source": "qtc_seqs"
  },
  {
   "cell_type": "code",
   "execution_count": 14,
   "metadata": {},
   "outputs": [],
   "source": "with open(\"study_qtc_seqs.pickle\", \"w\") as f:\n    pickle.dump(qtc_seqs, f)"
  },
  {
   "cell_type": "code",
   "execution_count": 15,
   "metadata": {
    "scrolled": true
   },
   "outputs": [
    {
     "name": "stdout",
     "output_type": "stream",
     "text": "{'rotl_10': ['-+-+', '-0-+', '-+-+', '-0-+', '-+-+', '-0-+', '-+-+', '-0-+', '00-+', '0--+'], 'rotl_11': ['-+-+', '-0-+', '-+-+', '-0-+', '---+', '---0', '-0-0', '-0-+', '---+', '-0-+', '-+-+', '-0-+', '---+', '---0', '-0-0', '-0--', '00--', '00-0', '00-+', '0--+', '0--0', '00-0', '0+--', '+0-0', '+0--', '+0-0', '+--0', '+--+', '+--0', '+--+', '+0-+', '+--+', '+0-+', '+--+'], 'rotl_12': ['-0-+', '-+-+', '-0-+', '-+-+', '-0-+', '-+-+', '-0-+', '-+-+', '-0-+', '00-+', '0--+', '00-+'], 'pbl_10': ['----', '0---', '+---', '+0--', '++--', '++0-', '+++-', '+-+-'], 'pbl_11': ['----', '0---', '+0--', '++--', '++0-', '+-0-', '+-+-', '+-++', '+-+0', '+-++', '+-0+'], 'pbl_12': ['---+', '---0', '----', '---0', '----', '+---', '++--', '++0-', '+++-'], 'pbl_8': ['---+', '+-+-', '+-+0', '+-++', '+++-', '+-++', '+-+-', '+++-', '+-++', '+---', '+0--', '++--', '++0-', '+++-'], 'rotr_5': ['-+00', '-++0', '-++-', '-+0-', '-+00', '-++0', '-++-', '-++0', '-+++', '-++0', '-++-', '-++0', '-++-', '-++0', '-++-'], 'rotr_10': ['-++-', '-++0', '-+++', '-++0', '-++-', '-++0', '-++-', '-++0', '-++-'], 'rotr_11': ['-+00', '-+0+', '-+00', '-+0-', '-+00', '-+0+', '-+00', '-000', '-00+', '-0++', '-+++', '-++0', '-++-', '-0+-', '-0+0', '-++0', '-+++', '-++0', '-++-', '-0+-', '-++-', '-0+-', '-++-', '-++0', '-++-', '-0+-', '-++-'], 'pbr_8': ['---+', '--0+', '--++', '-0++', '--++', '++++'], 'u_12': ['0-0+', '0+0+'], 'u_11': ['-+-+', '---+', '---0', '-0-+', '---+', '---0', '---+', '---0', '---+', '---0', '---+', '---0', '-0-+', '----', '---0', '----', '0--0', '0--+', '00-+', '0--+', '00-+', '0--+', '00-+'], 'u_10': ['0000'], 'pbr_4': ['---+', '--0+', '--++', '-+++', '--++', '0+++', '++++', '+-+-', '0-+-', '--+-', '-0+-'], 'pbr_5': ['---+', '--0+', '--++', '0-++', '++++', '+-++', '+-+-', '+++-'], 'pbr_6': ['---+', '--0+', '--++', '-0++', '--++', '0+++', '++++'], 'pbr_7': ['---+', '--0+', '--++', '-+++', '--++', '++++', '+++0'], 'pbr_1': ['---+', '--0+', '--++', '0-++', '+-++', '+0++', '+-++', '++++', '+-++', '++++', '+++-'], 'pbr_2': ['---+', '--0+', '--++', '++++', '+-+-'], 'pbr_3': ['---+', '--0+', '--++', '0-++', '+-++', '++++'], 'pcl_5': ['----', '-+--', '----', '-+--', '----', '-+--', '0+--', '++--', '+---', '+++-'], 'pcl_4': ['----', '-0--', '----', '-0--', '-+--', '0+--', '++--', '+---'], 'pcl_7': ['-0--', '----', '-0--', '----', '-+--', '----', '-+--', '0+--', '++--', '++-0', '++-+', '++-0', '++-+'], 'pcl_6': ['----', '-+--', '----', '-0--', '----', '-0--', '-+--', '0+--', '++--', '++-+'], 'pcl_1': ['-+--', '-0--', '-+--', '----', '-0--', '----', '-0--', '----', '-0--', '-+--', '0+--', '++--', '++-0'], 'pcl_3': ['----', '-+--', '----', '-0--', '----', '-+--', '-0--', '-+--', '0+--', '++--', '+0-+', '+---', '++0-', '+-++', '+-+0'], 'pcl_2': ['-+--', '----', '-0--', '----', '-0--', '----', '-0--', '-+--', '0+--', '++-0', '++--'], 'pcl_8': ['-+--', '----', '-0--', '-+--', '0+--', '++--', '++-0', '++-+'], 'rotr_1': ['-++-', '-++0', '-+++', '-++0', '-++-', '-++0', '-+++', '-++-', '-++0', '-++-', '-++0', '-++-', '-++0', '-++-'], 'rotr_2': ['-+00', '-+0+', '-+00', '-++0', '-++-', '-+0-', '-+00', '-+0+', '-+00', '-+++', '-++0', '-++-', '-++0', '-0+0', '-++0', '-+++', '-++0', '-++-', '-++0', '-++-', '-++0', '-++-', '-0+-', '-++-'], 'rotr_3': ['-++-', '-++0', '-++-', '-++0', '-++-'], 'rotr_4': ['-++-', '-++0', '-++-', '-++0', '-++-', '-++0', '-++-', '-+0-', '-+00', '-++0', '-++-', '-++0', '-+++', '-++0', '-+++', '-++-', '-++0'], 'pcr_11': ['---+', '-0-+', '-+-+'], 'rotr_6': ['-+00', '-+0+', '-++0', '-++-', '-++0', '-+++', '-++0', '-+++', '-++0', '-+++', '-++0', '-++-', '-++0', '-++-', '-++0', '-++-', '-++0', '-++-'], 'rotr_7': ['-+00', '-+0-', '-+00', '-+0+', '-+00', '-+0+', '-+++', '-++0', '-++-', '-++0', '-+++', '-++0', '-++-', '-0+-', '-++-', '-++0', '-++-', '-++0'], 'rotr_8': ['-+00', '-+0+', '-+00', '-+0-', '-+00', '-+0+', '-++0', '-+++', '-++0', '-++-', '-++0', '-++-', '-++0', '-++-', '-++0', '-++-'], 'pcr_10': ['0--+', '---+', '-0-+', '-+-+', '-+0+'], 'pbr_12': ['---+', '--0+', '--++', '-+++', '--++', '++++'], 'pbr_10': ['---+', '--0+', '--++', '-+++', '0+++', '++++'], 'pbr_11': ['---+', '--0+', '--++', '0+++', '++++'], 'rotl_2': ['-+-+', '-0-+', '-+-+', '-0-+', '-+-+', '-0-+', '-+-+', '-0-+', '-+-+', '-0-+', '-+-+', '---+', '-0-+', '00-+', '0--+', '00-+'], 'rotl_3': ['-+-+', '-0-+', '-+-+', '-0-+', '-+-+', '-0-+', '-+-+', '-0-+', '-+-+', '-0-+', '-+-+', '-0-+', '-+-+', '---+', '-0-+', '-+-+', '-0-+', '0+-+', '00-+'], 'rotl_1': ['-+-+', '-0-+', '-+-+', '-0-+', '-+-+', '-0-+', '-+-+', '-0-+', '---+'], 'rotl_6': ['-+-+', '-0-+', '---+', '-0-+', '-+-+', '-0-+', '-0-0', '-0-+', '---+', '-0-+', '---+', '-0-+', '-+-+', '0+-+', '00-+', '0--+', '0--0', '+--0', '+--+', '+--0', '+0-+', '+--+'], 'rotl_7': ['-0-+', '-+-+', '-0-+', '---+', '-0-+', '-+-+', '-0-+', '-+-+', '---+', '----', '-+-+', '00-+', '00-0', '00-+', '0--+', '00-+', '+0-+', '+--+'], 'rotl_4': ['-+-+', '-0-+', '-+-+', '-0-+', '-+-+', '-0-+', '---+', '-+-+', '---0', '----', '-0-+'], 'rotl_5': ['-+-+', '-0-+', '-+-+', '-0-+', '---+', '-0-+', '-+-+', '-0-+', '-+-+', '-0-+', '---+', '-0-+', '---+', '-0-+', '00-+', '0--+', '00-+'], 'pbl_2': ['----', '0---', '+---', '++--', '++0-'], 'rotl_8': ['-+-+', '-0-0', '-+-0', '-+-+', '-0-+', '-+-+', '-0-+', '-+-+', '-+--', '0+--', '++--', '+--0', '+--+', '++--', '+---', '+--+', '-+--', '0--+', '---+', '-0-+', '-+-+', '-0-+', '---+', '-0-+', '00-+', '0+-+', '00-+', '0--+'], 'pcl_12': ['----', '-0--', '----', '-0--', '-+--', '0+--', '++--', '++-+'], 'pbl_3': ['-0-+', '---+', '-+--', '0--+', '00-0', '00-+', '0--+', '0+--', '0--+', '00-+', '0--+', '00-+', '0+-0', '+--+', '++-+', '+--+'], 'pbl_6': ['---0', '----', '0---', '+---', '+0--', '++--', '++0-', '+++-'], 'pbl_7': ['----', '0---', '+0--', '++--', '++0-', '+-+-'], 'pbl_4': ['---0', '----', '0---', '+---', '+0--', '++--', '++0-', '+++-', '+-+-'], 'pbl_5': ['----', '0---', '+---', '+0--', '++--', '++0-'], 'pcl_11': ['----', '-+--', '-0--', '----', '-0--', '-+--', '0+--', '++--', '++-0'], 'pcl_10': ['-+--', '----', '-0--', '----', '-0--', '-+--', '0+--', '++--'], 'pbl_1': ['----', '0---', '+---', '+0--', '++--', '++0-', '+++-', '+-+-', '+-+0', '+-++', '+-+0'], 'pcr_7': ['---+', '-+-+', '-+0+'], 'pcr_6': ['---+', '-0-+', '-+-+', '-+0+'], 'pcr_5': ['---+', '-0-+', '---+', '-+-+'], 'pcr_4': ['---+', '-+-+', '---+', '-+-+', '-+0+', '-+++', '--++'], 'pcr_3': ['-+-+', '---+', '-+-+'], 'pcr_2': ['0--+', '---+', '-0-+', '-+-+', '-+0+'], 'pcr_1': ['0--+', '---+', '-0-+', '-+-+', '-+0+'], 'pcr_8': ['---+', '-+-+', '-0-+', '-+-+', '-+0+', '--0+', '--++'], 'u_3': ['0000'], 'u_2': ['-+-+', '-0-+', '---+', '-0-+', '---0', '---+', '-0-+', '---+', '---0', '---+', '---0', '----', '---0', '0---', '0--0', '0---', '0--0', '00-+', '0--+', '00-+'], 'u_1': ['0+0-', '0-0+', '0+0+', '0-0+', '0+0+'], 'u_7': ['0-0-', '000-', '0+00', '0+0+', '0+00', '0+0+'], 'u_6': ['0-0+', '0+0+'], 'u_5': ['0000'], 'u_4': ['0-0+', '0-00', '0-0+', '0-00', '0-0-', '0-00', '0-0+', '0-00', '0-0-', '0-00', '000+', '0+0+', '0+00', '0000'], 'u_8': ['0-0-', '0+0-']}\n"
    }
   ],
   "source": "with open(\"study_qtc_seqs.pickle\", \"r\") as f:\n    print(pickle.load(f))"
  },
  {
   "cell_type": "code",
   "execution_count": null,
   "metadata": {},
   "outputs": [],
   "source": ""
  }
 ],
 "metadata": {
  "kernelspec": {
   "display_name": "Python 2",
   "language": "python",
   "name": "python2"
  },
  "language_info": {
   "codemirror_mode": {
    "name": "ipython",
    "version": 2
   },
   "file_extension": ".py",
   "mimetype": "text/x-python",
   "name": "python",
   "nbconvert_exporter": "python",
   "pygments_lexer": "ipython2",
   "version": "2.7.12"
  },
  "notify_time": "30"
 },
 "nbformat": 4,
 "nbformat_minor": 4
}
